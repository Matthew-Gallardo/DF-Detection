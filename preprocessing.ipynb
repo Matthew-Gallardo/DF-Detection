{
  "nbformat": 4,
  "nbformat_minor": 0,
  "metadata": {
    "colab": {
      "provenance": [],
      "include_colab_link": true
    },
    "kernelspec": {
      "name": "python3",
      "display_name": "Python 3"
    },
    "accelerator": "GPU",
    "gpuClass": "standard"
  },
  "cells": [
    {
      "cell_type": "markdown",
      "metadata": {
        "id": "view-in-github",
        "colab_type": "text"
      },
      "source": [
        "<a href=\"https://colab.research.google.com/github/Matthew-Gallardo/DF-Detection/blob/main/preprocessing.ipynb\" target=\"_parent\"><img src=\"https://colab.research.google.com/assets/colab-badge.svg\" alt=\"Open In Colab\"/></a>"
      ]
    },
    {
      "cell_type": "markdown",
      "metadata": {
        "id": "nMI7CYxcyiUB"
      },
      "source": [
        "Before running the file Upload all your data set on your goole drive in a zip format"
      ]
    },
    {
      "cell_type": "code",
      "metadata": {
        "id": "YjtnZQkTu6tX",
        "colab": {
          "base_uri": "https://localhost:8080/"
        },
        "outputId": "d81eada6-6c88-4cd5-8af9-1ce2b7eede62"
      },
      "source": [
        "#Mount our google drive\n",
        "from google.colab import drive\n",
        "drive.mount('/content/drive')"
      ],
      "execution_count": 3,
      "outputs": [
        {
          "output_type": "stream",
          "name": "stdout",
          "text": [
            "Drive already mounted at /content/drive; to attempt to forcibly remount, call drive.mount(\"/content/drive\", force_remount=True).\n"
          ]
        }
      ]
    },
    {
      "cell_type": "code",
      "source": [
        "from google.colab import drive\n",
        "drive.mount('/content/drive')"
      ],
      "metadata": {
        "id": "8Zoe9P3wA9nj",
        "colab": {
          "base_uri": "https://localhost:8080/"
        },
        "outputId": "c1d84fb0-a9fc-4709-b789-bcc0224bb416"
      },
      "execution_count": 4,
      "outputs": [
        {
          "output_type": "stream",
          "name": "stdout",
          "text": [
            "Drive already mounted at /content/drive; to attempt to forcibly remount, call drive.mount(\"/content/drive\", force_remount=True).\n"
          ]
        }
      ]
    },
    {
      "cell_type": "code",
      "metadata": {
        "id": "f4y_fGlmur4v"
      },
      "source": [
        "#before running this please change the RUNTIME to GPU (Runtime -> Change runtime type -> set harware accelarotor as GPU)\n",
        "#download and unzip the data from google drive Colab environment\n",
        "from google_drive_downloader import GoogleDriveDownloader as gdd\n",
        "#use only file id of the link\n",
        "#Note: Below link is just an example, Not an actual link. Actual Links are in ReadMe file\n",
        "#https://drive.google.com/file/d/1ubvKLzBDe5i1acxgGUK6ObeNBYCKUS07/view?usp=sharing\n",
        "#https://drive.google.com/drive/folders/19wnm4BTrqrGFHBtr5X31-1nPgVN9-k6m?usp=sharing\n",
        "url = '1ubvKLzBDe5i1acxgGUK6ObeNBYCKUS07'\n",
        "gdd.download_file_from_google_drive(file_id = url,dest_path='./data.zip',unzip=True)"
      ],
      "execution_count": null,
      "outputs": []
    },
    {
      "cell_type": "code",
      "metadata": {
        "id": "1f40EeRuvAkO",
        "colab": {
          "base_uri": "https://localhost:8080/"
        },
        "outputId": "0ddf49a3-324d-4ea4-8a5c-be8e5df9f02d"
      },
      "source": [
        "import json\n",
        "import glob\n",
        "import numpy as np\n",
        "import cv2\n",
        "import copy\n",
        "\n",
        "# set the path to the directories containing the video files\n",
        "dir1 = '/content/drive/MyDrive/Deepfake Dataset/Celeb-real'\n",
        "dir2 = '/content/drive/MyDrive/Deepfake Dataset/Celeb-synthesis'\n",
        "\n",
        "# use glob to find all MP4 files in both directories\n",
        "video_files = glob.glob(dir1 + '/*.mp4') + glob.glob(dir2 + '/*.mp4')\n",
        "\n",
        "frame_count = []\n",
        "for video_file in video_files:\n",
        "  cap = cv2.VideoCapture(video_file)\n",
        "  if int(cap.get(cv2.CAP_PROP_FRAME_COUNT)) < 150:\n",
        "    continue\n",
        "  frame_count.append(int(cap.get(cv2.CAP_PROP_FRAME_COUNT)))\n",
        "\n",
        "print(\"Frames per video:\", frame_count)\n",
        "print(\"Total number of videos:\", len(frame_count))\n",
        "print('Average frames per video:', np.mean(frame_count))\n"
      ],
      "execution_count": 8,
      "outputs": [
        {
          "output_type": "stream",
          "name": "stdout",
          "text": [
            "Frames per video: [466, 435, 420, 477, 315, 530, 326, 272, 352, 412, 489, 483, 425, 330, 387, 461, 611, 357, 314, 451, 364, 464, 459, 570, 381, 318, 291, 519, 317, 224, 303, 492, 390, 459, 555, 397, 372, 332, 312, 314, 326, 327, 303, 497, 491, 340, 401, 630, 520, 378, 557, 322, 409, 306, 510, 535, 428, 566, 311, 363, 398, 161, 502, 380, 740, 401, 529, 415, 409, 350, 410, 516, 448, 422, 307, 172, 350, 534, 345, 477, 276, 270, 298, 349, 215, 469, 328, 333, 308, 380, 458, 280, 294, 325, 505, 239, 380, 467, 456, 316, 470, 295, 372, 313, 379, 269, 458, 214, 364, 361, 337, 439, 514, 304, 372, 339, 400, 361, 376, 437, 444, 383, 316, 305, 322, 351, 320, 315, 371, 459, 446, 398, 441, 479, 400, 284, 517, 274, 327, 499, 323, 525, 201, 334, 247, 371, 452, 373, 376, 457, 458, 445, 308, 459, 362, 458, 309, 499, 458, 479, 316, 247, 305, 534, 557, 315, 489, 470, 458, 274, 201, 323, 315, 470, 529, 469, 387, 459, 362, 466, 312, 456, 456, 280, 318, 461, 420, 364, 409, 415, 201, 529, 442, 464, 380, 294, 422, 497, 505, 316, 458, 305, 611, 350, 326, 272, 350, 525, 517, 412, 459, 315, 376, 469, 469, 326, 400, 400, 458, 399, 445, 362, 303, 381, 380, 314, 534, 496, 316, 349, 295, 325, 415, 530, 294, 380, 459, 323, 317, 459, 530, 557, 451, 456, 302, 325, 361, 483, 357, 372, 274, 483, 308, 491, 380, 496, 398, 458, 383, 412, 630, 456, 284, 497, 284, 400, 334, 445, 499, 446, 534, 303, 270, 420, 412, 372, 441, 401, 530, 409, 303, 399, 477, 410, 372, 477, 409, 314, 437, 322, 303, 525, 380, 466, 525, 312, 448, 479, 420, 428, 458, 399, 317, 420, 611, 497, 448, 491, 201, 294, 326, 372, 315, 459, 365, 305, 497, 345, 458, 499, 422, 557, 439, 400, 458, 461, 322, 469, 316, 458, 412, 400, 314, 467, 361, 479, 398, 280, 294, 451, 428, 399, 439, 380, 451, 318, 534, 399, 323, 337, 383, 459, 505, 458, 361, 372, 381, 442, 491, 445, 306, 201, 400, 459, 372, 387, 415, 387, 409, 570, 409, 280, 224, 491, 425, 311, 458, 437, 456, 428, 412, 510, 520, 442, 383, 630, 376, 479, 381, 201, 224, 306, 383, 305, 326, 284, 315, 327, 201, 314, 437, 458, 530, 630, 349, 398, 298, 428, 326, 361, 520, 492, 530, 422, 326, 740, 314, 247, 274, 479, 520, 305, 399, 470, 399, 161, 305, 201, 372, 315, 516, 307, 294, 461, 483, 308, 306, 361, 452, 437, 334, 517, 529, 499, 322, 376, 387, 470, 334, 410, 362, 380, 270, 328, 520, 496, 214, 302, 525, 409, 570, 383, 317, 308, 326, 409, 437, 306, 372, 451, 364, 380, 458, 458, 461, 422, 442, 534, 529, 380, 272, 361, 365, 425, 425, 307, 479, 295, 303, 361, 409, 451, 325, 469, 452, 274, 350, 161, 322, 516, 381, 458, 499, 316, 272, 272, 448, 272, 505, 317, 352, 412, 272, 350, 308, 376, 345, 555, 505, 401, 445, 477, 161, 361, 570, 387, 557, 272, 372, 361, 425, 516, 298, 401, 398, 345, 312, 365, 520, 317, 380, 306, 311, 224, 467, 446, 456, 294, 630, 499, 361, 308, 372, 314, 303, 363, 451, 364, 363, 372, 458, 557, 274, 530, 400, 364, 315, 325, 381, 361, 383, 272, 409, 298, 412, 459, 274, 340, 376, 517, 380, 425, 372, 361, 437, 611, 477, 311, 398, 516, 270, 467, 328, 314, 312, 372, 343, 420, 312, 479, 364, 302, 372, 372, 316, 372, 410, 364, 516, 410, 380, 315, 340, 740, 459, 445, 294, 343, 464, 312, 161, 362, 311, 214, 400, 464, 530, 611, 372, 328, 303, 272, 284, 557, 534, 224, 328, 303, 307, 295, 630, 364, 328, 497, 499, 322, 311, 446, 328, 520, 316, 398, 314, 383, 272, 525, 458, 303, 345, 361, 363, 323, 272, 307, 409, 362, 410, 401, 322, 448, 350, 383, 458, 308, 376, 339, 272, 467, 529, 446, 459, 451, 323, 428, 380, 349, 345, 428, 330, 270, 371, 409, 401, 315, 380, 376, 451, 376, 448, 322, 372, 458, 570, 409, 469, 272, 303, 422, 345, 380, 247, 307, 315, 510, 247, 630, 224, 334, 458, 461, 420, 363, 320, 534, 322, 161, 316, 387, 372, 570, 311, 459, 529, 362, 380, 477, 516, 505, 520, 364, 306, 372, 445, 322, 401, 489, 422, 303, 298, 445, 272, 398, 459, 400, 497, 305, 390, 365, 307, 491, 314, 327, 442, 425, 298, 307, 439, 611, 334, 247, 467, 381, 470, 302, 309, 446, 303, 298, 401, 630, 315, 477, 529, 435, 247, 459, 464, 312, 372, 365, 470, 298, 439, 303, 317, 350, 422, 363, 505, 326, 425, 334, 461, 530, 314, 224, 448, 323, 491, 328, 247, 492, 306, 439, 520, 272, 302, 274, 469, 446, 458, 303, 326, 380, 350, 334, 483, 458, 505, 328, 461, 412, 284, 315, 365, 325, 308, 422, 311, 428, 439, 505, 398, 161, 409, 326, 380, 410, 570, 740, 535, 284, 459, 315, 458, 387, 516, 458, 313, 380, 376, 525, 467, 398, 409, 303, 570, 483, 387, 470, 224, 322, 570, 161, 323, 497, 442, 557, 387, 516, 372, 302, 363, 469, 525, 740, 361, 458, 415, 399, 458, 325, 448, 534, 294, 499, 380, 557, 398, 409, 470, 343, 410, 525, 517, 350, 492, 315, 323, 362, 397, 611, 420, 308, 322, 284, 343, 317, 363, 318, 161, 345, 381, 365, 437, 362, 365, 325, 339, 401, 461, 308, 448, 409, 437, 364, 381, 327, 456, 352, 309, 611, 372, 322, 459, 318, 496, 420]\n",
            "Total number of videos: 948\n",
            "Average frames per video: 394.32278481012656\n"
          ]
        }
      ]
    },
    {
      "cell_type": "code",
      "metadata": {
        "id": "U92Ovn3JvV52"
      },
      "source": [
        "# to extract frame\n",
        "def frame_extract(path):\n",
        "  vidObj = cv2.VideoCapture(path) \n",
        "  success = 1\n",
        "  while success:\n",
        "      success, image = vidObj.read()\n",
        "      if success:\n",
        "          yield image\n",
        "!pip3 install face_recognition\n",
        "!mkdir '/content/drive/My Drive/FF_REAL_Face_only_data'\n",
        "import torch\n",
        "import torchvision\n",
        "from torchvision import transforms\n",
        "from torch.utils.data import DataLoader\n",
        "from torch.utils.data.dataset import Dataset\n",
        "import os\n",
        "import numpy as np\n",
        "import cv2\n",
        "import matplotlib.pyplot as plt\n",
        "import face_recognition\n",
        "from tqdm.autonotebook import tqdm\n",
        "# process the frames\n",
        "def create_face_videos(path_list,out_dir):\n",
        "  already_present_count =  glob.glob(out_dir+'*.mp4')\n",
        "  print(\"No of videos already present \" , len(already_present_count))\n",
        "  for path in tqdm(path_list):\n",
        "    out_path = os.path.join(out_dir,path.split('/')[-1])\n",
        "    file_exists = glob.glob(out_path)\n",
        "    if(len(file_exists) != 0):\n",
        "      print(\"File Already exists: \" , out_path)\n",
        "      continue\n",
        "    frames = []\n",
        "    flag = 0\n",
        "    face_all = []\n",
        "    frames1 = []\n",
        "    out = cv2.VideoWriter(out_path,cv2.VideoWriter_fourcc('M','J','P','G'), 30, (112,112))\n",
        "    for idx,frame in enumerate(frame_extract(path)):\n",
        "      #if(idx % 3 == 0):\n",
        "      if(idx <= 150):\n",
        "        frames.append(frame)\n",
        "        if(len(frames) == 4):\n",
        "          faces = face_recognition.batch_face_locations(frames)\n",
        "          for i,face in enumerate(faces):\n",
        "            if(len(face) != 0):\n",
        "              top,right,bottom,left = face[0]\n",
        "            try:\n",
        "              out.write(cv2.resize(frames[i][top:bottom,left:right,:],(112,112)))\n",
        "            except:\n",
        "              pass\n",
        "          frames = []\n",
        "    try:\n",
        "      del top,right,bottom,left\n",
        "    except:\n",
        "      pass\n",
        "    out.release()"
      ],
      "execution_count": null,
      "outputs": []
    },
    {
      "cell_type": "code",
      "metadata": {
        "id": "sF5qiWGLvei-"
      },
      "source": [
        "create_face_videos(video_files,'/content/drive/My Drive/FF_REAL_Face_only_data/')"
      ],
      "execution_count": null,
      "outputs": []
    }
  ]
}