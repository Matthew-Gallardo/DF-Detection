{
  "nbformat": 4,
  "nbformat_minor": 0,
  "metadata": {
    "colab": {
      "provenance": [],
      "include_colab_link": true
    },
    "kernelspec": {
      "name": "python3",
      "display_name": "Python 3"
    },
    "accelerator": "GPU"
  },
  "cells": [
    {
      "cell_type": "markdown",
      "metadata": {
        "id": "view-in-github",
        "colab_type": "text"
      },
      "source": [
        "<a href=\"https://colab.research.google.com/github/Matthew-Gallardo/DF-Detection/blob/main/ModelTrainCSV.ipynb\" target=\"_parent\"><img src=\"https://colab.research.google.com/assets/colab-badge.svg\" alt=\"Open In Colab\"/></a>"
      ]
    },
    {
      "cell_type": "code",
      "metadata": {
        "id": "_M_hIl_-C6P8",
        "colab": {
          "base_uri": "https://localhost:8080/"
        },
        "outputId": "84c99e9b-60f7-4d86-c173-389d9e27b016"
      },
      "source": [
        "#before running this please change the RUNTIME to GPU (Runtime -> Change runtime type -> set harware accelarotor as GPU)\n",
        "#Mount our google drive\n",
        "from google.colab import drive\n",
        "drive.mount('/content/drive')"
      ],
      "execution_count": null,
      "outputs": [
        {
          "output_type": "stream",
          "name": "stdout",
          "text": [
            "Drive already mounted at /content/drive; to attempt to forcibly remount, call drive.mount(\"/content/drive\", force_remount=True).\n"
          ]
        }
      ]
    },
    {
      "cell_type": "markdown",
      "metadata": {
        "id": "mneMgm9j7ack"
      },
      "source": [
        "Note : Use the drive link for the processed dataset"
      ]
    },
    {
      "cell_type": "code",
      "metadata": {
        "id": "tnFgwZBYCyYR",
        "colab": {
          "base_uri": "https://localhost:8080/"
        },
        "outputId": "cb7dc7bb-86c3-494d-fcf4-2eef78499fdb"
      },
      "source": [
        "#Note : only needed when you have to download the processed data to the environment\n",
        "#download and unzip the data from google drive Colab environment\n",
        "from google_drive_downloader import GoogleDriveDownloader as gdd\n",
        "#use only file id of the link\n",
        "#Note: Below link is just an example, Not an actual link. Actual Links are in ReadMe file\n",
        "#https://drive.google.com/file/d/1ubvKLzBDe5i1acxgGUK6ObeNBYCKUS07/view?usp=sharing\n",
        "url = '1ubvKLzBDe5i1acxgGUK6ObeNBYCKUS07'\n",
        "gdd.download_file_from_google_drive(file_id = url,dest_path='./data.zip',unzip=True)\n"
      ],
      "execution_count": null,
      "outputs": [
        {
          "output_type": "stream",
          "name": "stdout",
          "text": [
            "Downloading 1ubvKLzBDe5i1acxgGUK6ObeNBYCKUS07 into ./data.zip... Done.\n",
            "Unzipping..."
          ]
        },
        {
          "output_type": "stream",
          "name": "stderr",
          "text": [
            "/usr/local/lib/python3.10/dist-packages/google_drive_downloader/google_drive_downloader.py:78: UserWarning: Ignoring `unzip` since \"1ubvKLzBDe5i1acxgGUK6ObeNBYCKUS07\" does not look like a valid zip file\n",
            "  warnings.warn('Ignoring `unzip` since \"{}\" does not look like a valid zip file'.format(file_id))\n"
          ]
        }
      ]
    },
    {
      "cell_type": "code",
      "metadata": {
        "id": "7hlPaQS4e5VI",
        "colab": {
          "base_uri": "https://localhost:8080/"
        },
        "outputId": "7886ed9f-6cf6-4769-be6a-b16dd7498e63"
      },
      "source": [
        "!pip3 install face_recognition"
      ],
      "execution_count": null,
      "outputs": [
        {
          "output_type": "stream",
          "name": "stdout",
          "text": [
            "Looking in indexes: https://pypi.org/simple, https://us-python.pkg.dev/colab-wheels/public/simple/\n",
            "Collecting face_recognition\n",
            "  Downloading face_recognition-1.3.0-py2.py3-none-any.whl (15 kB)\n",
            "Requirement already satisfied: Click>=6.0 in /usr/local/lib/python3.10/dist-packages (from face_recognition) (8.1.3)\n",
            "Requirement already satisfied: Pillow in /usr/local/lib/python3.10/dist-packages (from face_recognition) (8.4.0)\n",
            "Requirement already satisfied: dlib>=19.7 in /usr/local/lib/python3.10/dist-packages (from face_recognition) (19.24.1)\n",
            "Requirement already satisfied: numpy in /usr/local/lib/python3.10/dist-packages (from face_recognition) (1.22.4)\n",
            "Collecting face-recognition-models>=0.3.0\n",
            "  Downloading face_recognition_models-0.3.0.tar.gz (100.1 MB)\n",
            "\u001b[2K     \u001b[90m━━━━━━━━━━━━━━━━━━━━━━━━━━━━━━━━━━━━━━\u001b[0m \u001b[32m100.1/100.1 MB\u001b[0m \u001b[31m11.0 MB/s\u001b[0m eta \u001b[36m0:00:00\u001b[0m\n",
            "\u001b[?25h  Preparing metadata (setup.py) ... \u001b[?25l\u001b[?25hdone\n",
            "Building wheels for collected packages: face-recognition-models\n",
            "  Building wheel for face-recognition-models (setup.py) ... \u001b[?25l\u001b[?25hdone\n",
            "  Created wheel for face-recognition-models: filename=face_recognition_models-0.3.0-py2.py3-none-any.whl size=100566185 sha256=0d18105277d57ea644c7b6c2a3b20a4fb279c8586a6bc9d47ea8d9e291bddda5\n",
            "  Stored in directory: /root/.cache/pip/wheels/7a/eb/cf/e9eced74122b679557f597bb7c8e4c739cfcac526db1fd523d\n",
            "Successfully built face-recognition-models\n",
            "Installing collected packages: face-recognition-models, face_recognition\n",
            "Successfully installed face-recognition-models-0.3.0 face_recognition-1.3.0\n"
          ]
        }
      ]
    },
    {
      "cell_type": "code",
      "source": [
        "from google.colab import drive\n",
        "drive.mount('/content/drive')"
      ],
      "metadata": {
        "id": "yNWhgltWQALY",
        "colab": {
          "base_uri": "https://localhost:8080/"
        },
        "outputId": "89ef7781-f838-4304-cfff-a5c22c754e40"
      },
      "execution_count": null,
      "outputs": [
        {
          "output_type": "stream",
          "name": "stdout",
          "text": [
            "Drive already mounted at /content/drive; to attempt to forcibly remount, call drive.mount(\"/content/drive\", force_remount=True).\n"
          ]
        }
      ]
    },
    {
      "cell_type": "code",
      "metadata": {
        "id": "QZ22Sj8d0JoT",
        "colab": {
          "base_uri": "https://localhost:8080/"
        },
        "outputId": "b2f75be2-d1ce-4901-fbf7-9f6480a12113"
      },
      "source": [
        "#THis code is to check if the video is corrupted or not..\n",
        "#If the video is corrupted delete the video.\n",
        "import glob\n",
        "import torch\n",
        "import torchvision\n",
        "from torchvision import transforms\n",
        "from torch.utils.data import DataLoader\n",
        "from torch.utils.data.dataset import Dataset\n",
        "import os\n",
        "import numpy as np\n",
        "import cv2\n",
        "import matplotlib.pyplot as plt\n",
        "import face_recognition\n",
        "#Check if the file is corrupted or not\n",
        "def validate_video(vid_path,train_transforms):\n",
        "      transform = train_transforms\n",
        "      count = 20\n",
        "      video_path = vid_path\n",
        "      frames = []\n",
        "      a = int(100/count)\n",
        "      first_frame = np.random.randint(0,a)\n",
        "      temp_video = video_path.split('/')[-1]\n",
        "      for i,frame in enumerate(frame_extract(video_path)):\n",
        "        frames.append(transform(frame))\n",
        "        if(len(frames) == count):\n",
        "          break\n",
        "      frames = torch.stack(frames)\n",
        "      frames = frames[:count]\n",
        "      return frames\n",
        "#extract a from from video\n",
        "def frame_extract(path):\n",
        "  vidObj = cv2.VideoCapture(path) \n",
        "  success = 1\n",
        "  while success:\n",
        "      success, image = vidObj.read()\n",
        "      if success:\n",
        "          yield image\n",
        "\n",
        "im_size = 112\n",
        "mean = [0.485, 0.456, 0.406]\n",
        "std = [0.229, 0.224, 0.225]\n",
        "\n",
        "train_transforms = transforms.Compose([\n",
        "                                        transforms.ToPILImage(),\n",
        "                                        transforms.Resize((im_size,im_size)),\n",
        "                                        transforms.ToTensor(),\n",
        "                                        transforms.Normalize(mean,std)])\n",
        "video_fil =  glob.glob('/content/drive/MyDrive/Deepfake Dataset/DF Processed FaceOnly/Celeb_fake_face_only/*.mp4')\n",
        "video_fil += glob.glob('/content/drive/MyDrive/Deepfake Dataset/DF Processed FaceOnly/Celeb_real_face_only/*.mp4')\n",
        "print(\"Total no of videos :\" , len(video_fil))\n",
        "print(video_fil)\n",
        "count = 0;\n",
        "for i in video_fil:\n",
        "  try:\n",
        "    count+=1\n",
        "    validate_video(i,train_transforms)\n",
        "  except:\n",
        "    print(\"Number of video processed: \" , count ,\" Remaining : \" , (len(video_fil) - count))\n",
        "    print(\"Corrupted video is : \" , i)\n",
        "    continue\n",
        "print((len(video_fil) - count))"
      ],
      "execution_count": 40,
      "outputs": [
        {
          "output_type": "stream",
          "name": "stdout",
          "text": [
            "Total no of videos : 1167\n",
            "['/content/drive/MyDrive/Deepfake Dataset/DF Processed FaceOnly/Celeb_fake_face_only/id48_id45_0008.mp4', '/content/drive/MyDrive/Deepfake Dataset/DF Processed FaceOnly/Celeb_fake_face_only/id31_id2_0001.mp4', '/content/drive/MyDrive/Deepfake Dataset/DF Processed FaceOnly/Celeb_fake_face_only/id42_id47_0003.mp4', '/content/drive/MyDrive/Deepfake Dataset/DF Processed FaceOnly/Celeb_fake_face_only/id57_id55_0007.mp4', '/content/drive/MyDrive/Deepfake Dataset/DF Processed FaceOnly/Celeb_fake_face_only/id37_id29_0006.mp4', '/content/drive/MyDrive/Deepfake Dataset/DF Processed FaceOnly/Celeb_fake_face_only/id38_id29_0001.mp4', '/content/drive/MyDrive/Deepfake Dataset/DF Processed FaceOnly/Celeb_fake_face_only/id59_id60_0005.mp4', '/content/drive/MyDrive/Deepfake Dataset/DF Processed FaceOnly/Celeb_fake_face_only/id26_id30_0006.mp4', '/content/drive/MyDrive/Deepfake Dataset/DF Processed FaceOnly/Celeb_fake_face_only/id37_id17_0001.mp4', '/content/drive/MyDrive/Deepfake Dataset/DF Processed FaceOnly/Celeb_fake_face_only/id60_id5_0006.mp4', '/content/drive/MyDrive/Deepfake Dataset/DF Processed FaceOnly/Celeb_fake_face_only/id41_id44_0002.mp4', '/content/drive/MyDrive/Deepfake Dataset/DF Processed FaceOnly/Celeb_fake_face_only/id54_id50_0004.mp4', '/content/drive/MyDrive/Deepfake Dataset/DF Processed FaceOnly/Celeb_fake_face_only/id41_id46_0004.mp4', '/content/drive/MyDrive/Deepfake Dataset/DF Processed FaceOnly/Celeb_fake_face_only/id55_id58_0008.mp4', '/content/drive/MyDrive/Deepfake Dataset/DF Processed FaceOnly/Celeb_fake_face_only/id2_id17_0003.mp4', '/content/drive/MyDrive/Deepfake Dataset/DF Processed FaceOnly/Celeb_fake_face_only/id57_id56_0004.mp4', '/content/drive/MyDrive/Deepfake Dataset/DF Processed FaceOnly/Celeb_fake_face_only/id24_id27_0000.mp4', '/content/drive/MyDrive/Deepfake Dataset/DF Processed FaceOnly/Celeb_fake_face_only/id48_id39_0007.mp4', '/content/drive/MyDrive/Deepfake Dataset/DF Processed FaceOnly/Celeb_fake_face_only/id16_id31_0003.mp4', '/content/drive/MyDrive/Deepfake Dataset/DF Processed FaceOnly/Celeb_fake_face_only/id43_id41_0005.mp4', '/content/drive/MyDrive/Deepfake Dataset/DF Processed FaceOnly/Celeb_fake_face_only/id48_id47_0002.mp4', '/content/drive/MyDrive/Deepfake Dataset/DF Processed FaceOnly/Celeb_fake_face_only/id32_id31_0006.mp4', '/content/drive/MyDrive/Deepfake Dataset/DF Processed FaceOnly/Celeb_fake_face_only/id42_id46_0000.mp4', '/content/drive/MyDrive/Deepfake Dataset/DF Processed FaceOnly/Celeb_fake_face_only/id40_id47_0000.mp4', '/content/drive/MyDrive/Deepfake Dataset/DF Processed FaceOnly/Celeb_fake_face_only/id23_id16_0001.mp4', '/content/drive/MyDrive/Deepfake Dataset/DF Processed FaceOnly/Celeb_fake_face_only/id17_id2_0004.mp4', '/content/drive/MyDrive/Deepfake Dataset/DF Processed FaceOnly/Celeb_fake_face_only/id5_id61_0000.mp4', '/content/drive/MyDrive/Deepfake Dataset/DF Processed FaceOnly/Celeb_fake_face_only/id21_id31_0006.mp4', '/content/drive/MyDrive/Deepfake Dataset/DF Processed FaceOnly/Celeb_fake_face_only/id55_id50_0001.mp4', '/content/drive/MyDrive/Deepfake Dataset/DF Processed FaceOnly/Celeb_fake_face_only/id38_id28_0002.mp4', '/content/drive/MyDrive/Deepfake Dataset/DF Processed FaceOnly/Celeb_fake_face_only/id35_id26_0007.mp4', '/content/drive/MyDrive/Deepfake Dataset/DF Processed FaceOnly/Celeb_fake_face_only/id45_id46_0000.mp4', '/content/drive/MyDrive/Deepfake Dataset/DF Processed FaceOnly/Celeb_fake_face_only/id57_id55_0000.mp4', '/content/drive/MyDrive/Deepfake Dataset/DF Processed FaceOnly/Celeb_fake_face_only/id28_id26_0003.mp4', '/content/drive/MyDrive/Deepfake Dataset/DF Processed FaceOnly/Celeb_fake_face_only/id54_id58_0001.mp4', '/content/drive/MyDrive/Deepfake Dataset/DF Processed FaceOnly/Celeb_fake_face_only/id51_id53_0006.mp4', '/content/drive/MyDrive/Deepfake Dataset/DF Processed FaceOnly/Celeb_fake_face_only/id12_id7_0005.mp4', '/content/drive/MyDrive/Deepfake Dataset/DF Processed FaceOnly/Celeb_fake_face_only/id20_id29_0005.mp4', '/content/drive/MyDrive/Deepfake Dataset/DF Processed FaceOnly/Celeb_fake_face_only/id40_id47_0008.mp4', '/content/drive/MyDrive/Deepfake Dataset/DF Processed FaceOnly/Celeb_fake_face_only/id58_id55_0002.mp4', '/content/drive/MyDrive/Deepfake Dataset/DF Processed FaceOnly/Celeb_fake_face_only/id32_id21_0008.mp4', '/content/drive/MyDrive/Deepfake Dataset/DF Processed FaceOnly/Celeb_fake_face_only/id20_id9_0005.mp4', '/content/drive/MyDrive/Deepfake Dataset/DF Processed FaceOnly/Celeb_fake_face_only/id23_id27_0002.mp4', '/content/drive/MyDrive/Deepfake Dataset/DF Processed FaceOnly/Celeb_fake_face_only/id20_id29_0003.mp4', '/content/drive/MyDrive/Deepfake Dataset/DF Processed FaceOnly/Celeb_fake_face_only/id28_id38_0003.mp4', '/content/drive/MyDrive/Deepfake Dataset/DF Processed FaceOnly/Celeb_fake_face_only/id3_id31_0007.mp4', '/content/drive/MyDrive/Deepfake Dataset/DF Processed FaceOnly/Celeb_fake_face_only/id50_id55_0000.mp4', '/content/drive/MyDrive/Deepfake Dataset/DF Processed FaceOnly/Celeb_fake_face_only/id27_id23_0004.mp4', '/content/drive/MyDrive/Deepfake Dataset/DF Processed FaceOnly/Celeb_fake_face_only/id35_id3_0003.mp4', '/content/drive/MyDrive/Deepfake Dataset/DF Processed FaceOnly/Celeb_fake_face_only/id27_id25_0000.mp4', '/content/drive/MyDrive/Deepfake Dataset/DF Processed FaceOnly/Celeb_fake_face_only/id52_id57_0009.mp4', '/content/drive/MyDrive/Deepfake Dataset/DF Processed FaceOnly/Celeb_fake_face_only/id55_id52_0007.mp4', '/content/drive/MyDrive/Deepfake Dataset/DF Processed FaceOnly/Celeb_fake_face_only/id40_id45_0001.mp4', '/content/drive/MyDrive/Deepfake Dataset/DF Processed FaceOnly/Celeb_fake_face_only/id45_id41_0005.mp4', '/content/drive/MyDrive/Deepfake Dataset/DF Processed FaceOnly/Celeb_fake_face_only/id3_id17_0000.mp4', '/content/drive/MyDrive/Deepfake Dataset/DF Processed FaceOnly/Celeb_fake_face_only/id53_id49_0008.mp4', '/content/drive/MyDrive/Deepfake Dataset/DF Processed FaceOnly/Celeb_fake_face_only/id47_id43_0002.mp4', '/content/drive/MyDrive/Deepfake Dataset/DF Processed FaceOnly/Celeb_fake_face_only/id46_id47_0003.mp4', '/content/drive/MyDrive/Deepfake Dataset/DF Processed FaceOnly/Celeb_fake_face_only/id17_id0_0001.mp4', '/content/drive/MyDrive/Deepfake Dataset/DF Processed FaceOnly/Celeb_fake_face_only/id8_id6_0007.mp4', '/content/drive/MyDrive/Deepfake Dataset/DF Processed FaceOnly/Celeb_fake_face_only/id38_id20_0002.mp4', '/content/drive/MyDrive/Deepfake Dataset/DF Processed FaceOnly/Celeb_fake_face_only/id53_id52_0007.mp4', '/content/drive/MyDrive/Deepfake Dataset/DF Processed FaceOnly/Celeb_fake_face_only/id37_id3_0004.mp4', '/content/drive/MyDrive/Deepfake Dataset/DF Processed FaceOnly/Celeb_fake_face_only/id47_id45_0008.mp4', '/content/drive/MyDrive/Deepfake Dataset/DF Processed FaceOnly/Celeb_fake_face_only/id31_id32_0006.mp4', '/content/drive/MyDrive/Deepfake Dataset/DF Processed FaceOnly/Celeb_fake_face_only/id29_id28_0007.mp4', '/content/drive/MyDrive/Deepfake Dataset/DF Processed FaceOnly/Celeb_fake_face_only/id34_id38_0009.mp4', '/content/drive/MyDrive/Deepfake Dataset/DF Processed FaceOnly/Celeb_fake_face_only/id41_id47_0003.mp4', '/content/drive/MyDrive/Deepfake Dataset/DF Processed FaceOnly/Celeb_fake_face_only/id16_id35_0008.mp4', '/content/drive/MyDrive/Deepfake Dataset/DF Processed FaceOnly/Celeb_fake_face_only/id2_id16_0008.mp4', '/content/drive/MyDrive/Deepfake Dataset/DF Processed FaceOnly/Celeb_fake_face_only/id4_id28_0009.mp4', '/content/drive/MyDrive/Deepfake Dataset/DF Processed FaceOnly/Celeb_fake_face_only/id11_id7_0001.mp4', '/content/drive/MyDrive/Deepfake Dataset/DF Processed FaceOnly/Celeb_fake_face_only/id6_id2_0002.mp4', '/content/drive/MyDrive/Deepfake Dataset/DF Processed FaceOnly/Celeb_fake_face_only/id4_id31_0005.mp4', '/content/drive/MyDrive/Deepfake Dataset/DF Processed FaceOnly/Celeb_fake_face_only/id6_id28_0004.mp4', '/content/drive/MyDrive/Deepfake Dataset/DF Processed FaceOnly/Celeb_fake_face_only/id23_id17_0004.mp4', '/content/drive/MyDrive/Deepfake Dataset/DF Processed FaceOnly/Celeb_fake_face_only/id54_id49_0003.mp4', '/content/drive/MyDrive/Deepfake Dataset/DF Processed FaceOnly/Celeb_fake_face_only/id45_id39_0001.mp4', '/content/drive/MyDrive/Deepfake Dataset/DF Processed FaceOnly/Celeb_fake_face_only/id50_id49_0005.mp4', '/content/drive/MyDrive/Deepfake Dataset/DF Processed FaceOnly/Celeb_fake_face_only/id52_id49_0001.mp4', '/content/drive/MyDrive/Deepfake Dataset/DF Processed FaceOnly/Celeb_fake_face_only/id31_id9_0002.mp4', '/content/drive/MyDrive/Deepfake Dataset/DF Processed FaceOnly/Celeb_fake_face_only/id33_id30_0009.mp4', '/content/drive/MyDrive/Deepfake Dataset/DF Processed FaceOnly/Celeb_fake_face_only/id11_id7_0006.mp4', '/content/drive/MyDrive/Deepfake Dataset/DF Processed FaceOnly/Celeb_fake_face_only/id60_id5_0008.mp4', '/content/drive/MyDrive/Deepfake Dataset/DF Processed FaceOnly/Celeb_fake_face_only/id52_id53_0002.mp4', '/content/drive/MyDrive/Deepfake Dataset/DF Processed FaceOnly/Celeb_fake_face_only/id44_id48_0002.mp4', '/content/drive/MyDrive/Deepfake Dataset/DF Processed FaceOnly/Celeb_fake_face_only/id0_id9_0002.mp4', '/content/drive/MyDrive/Deepfake Dataset/DF Processed FaceOnly/Celeb_fake_face_only/id3_id20_0003.mp4', '/content/drive/MyDrive/Deepfake Dataset/DF Processed FaceOnly/Celeb_fake_face_only/id57_id55_0001.mp4', '/content/drive/MyDrive/Deepfake Dataset/DF Processed FaceOnly/Celeb_fake_face_only/id0_id28_0002.mp4', '/content/drive/MyDrive/Deepfake Dataset/DF Processed FaceOnly/Celeb_fake_face_only/id56_id58_0000.mp4', '/content/drive/MyDrive/Deepfake Dataset/DF Processed FaceOnly/Celeb_fake_face_only/id34_id28_0008.mp4', '/content/drive/MyDrive/Deepfake Dataset/DF Processed FaceOnly/Celeb_fake_face_only/id48_id42_0000.mp4', '/content/drive/MyDrive/Deepfake Dataset/DF Processed FaceOnly/Celeb_fake_face_only/id35_id23_0000.mp4', '/content/drive/MyDrive/Deepfake Dataset/DF Processed FaceOnly/Celeb_fake_face_only/id49_id52_0008.mp4', '/content/drive/MyDrive/Deepfake Dataset/DF Processed FaceOnly/Celeb_fake_face_only/id47_id45_0001.mp4', '/content/drive/MyDrive/Deepfake Dataset/DF Processed FaceOnly/Celeb_fake_face_only/id56_id52_0000.mp4', '/content/drive/MyDrive/Deepfake Dataset/DF Processed FaceOnly/Celeb_fake_face_only/id10_id13_0002.mp4', '/content/drive/MyDrive/Deepfake Dataset/DF Processed FaceOnly/Celeb_fake_face_only/id10_id11_0007.mp4', '/content/drive/MyDrive/Deepfake Dataset/DF Processed FaceOnly/Celeb_fake_face_only/id9_id4_0005.mp4', '/content/drive/MyDrive/Deepfake Dataset/DF Processed FaceOnly/Celeb_fake_face_only/id11_id7_0008.mp4', '/content/drive/MyDrive/Deepfake Dataset/DF Processed FaceOnly/Celeb_fake_face_only/id26_id28_0005.mp4', '/content/drive/MyDrive/Deepfake Dataset/DF Processed FaceOnly/Celeb_fake_face_only/id13_id7_0011.mp4', '/content/drive/MyDrive/Deepfake Dataset/DF Processed FaceOnly/Celeb_fake_face_only/id32_id30_0006.mp4', '/content/drive/MyDrive/Deepfake Dataset/DF Processed FaceOnly/Celeb_fake_face_only/id5_id59_0004.mp4', '/content/drive/MyDrive/Deepfake Dataset/DF Processed FaceOnly/Celeb_fake_face_only/id53_id54_0000.mp4', '/content/drive/MyDrive/Deepfake Dataset/DF Processed FaceOnly/Celeb_fake_face_only/id42_id48_0000.mp4', '/content/drive/MyDrive/Deepfake Dataset/DF Processed FaceOnly/Celeb_fake_face_only/id13_id10_0014.mp4', '/content/drive/MyDrive/Deepfake Dataset/DF Processed FaceOnly/Celeb_fake_face_only/id21_id9_0005.mp4', '/content/drive/MyDrive/Deepfake Dataset/DF Processed FaceOnly/Celeb_fake_face_only/id51_id54_0009.mp4', '/content/drive/MyDrive/Deepfake Dataset/DF Processed FaceOnly/Celeb_fake_face_only/id59_id5_0006.mp4', '/content/drive/MyDrive/Deepfake Dataset/DF Processed FaceOnly/Celeb_fake_face_only/id51_id49_0008.mp4', '/content/drive/MyDrive/Deepfake Dataset/DF Processed FaceOnly/Celeb_fake_face_only/id59_id61_0005.mp4', '/content/drive/MyDrive/Deepfake Dataset/DF Processed FaceOnly/Celeb_fake_face_only/id37_id38_0001.mp4', '/content/drive/MyDrive/Deepfake Dataset/DF Processed FaceOnly/Celeb_fake_face_only/id30_id20_0005.mp4', '/content/drive/MyDrive/Deepfake Dataset/DF Processed FaceOnly/Celeb_fake_face_only/id9_id20_0004.mp4', '/content/drive/MyDrive/Deepfake Dataset/DF Processed FaceOnly/Celeb_fake_face_only/id45_id47_0008.mp4', '/content/drive/MyDrive/Deepfake Dataset/DF Processed FaceOnly/Celeb_fake_face_only/id17_id3_0005.mp4', '/content/drive/MyDrive/Deepfake Dataset/DF Processed FaceOnly/Celeb_fake_face_only/id8_id3_0002.mp4', '/content/drive/MyDrive/Deepfake Dataset/DF Processed FaceOnly/Celeb_fake_face_only/id59_id5_0005.mp4', '/content/drive/MyDrive/Deepfake Dataset/DF Processed FaceOnly/Celeb_fake_face_only/id4_id30_0007.mp4', '/content/drive/MyDrive/Deepfake Dataset/DF Processed FaceOnly/Celeb_fake_face_only/id30_id28_0009.mp4', '/content/drive/MyDrive/Deepfake Dataset/DF Processed FaceOnly/Celeb_fake_face_only/id27_id20_0000.mp4', '/content/drive/MyDrive/Deepfake Dataset/DF Processed FaceOnly/Celeb_fake_face_only/id22_id20_0002.mp4', '/content/drive/MyDrive/Deepfake Dataset/DF Processed FaceOnly/Celeb_fake_face_only/id38_id37_0007.mp4', '/content/drive/MyDrive/Deepfake Dataset/DF Processed FaceOnly/Celeb_fake_face_only/id26_id6_0004.mp4', '/content/drive/MyDrive/Deepfake Dataset/DF Processed FaceOnly/Celeb_fake_face_only/id37_id17_0003.mp4', '/content/drive/MyDrive/Deepfake Dataset/DF Processed FaceOnly/Celeb_fake_face_only/id40_id45_0008.mp4', '/content/drive/MyDrive/Deepfake Dataset/DF Processed FaceOnly/Celeb_fake_face_only/id13_id10_0004.mp4', '/content/drive/MyDrive/Deepfake Dataset/DF Processed FaceOnly/Celeb_fake_face_only/id7_id11_0002.mp4', '/content/drive/MyDrive/Deepfake Dataset/DF Processed FaceOnly/Celeb_fake_face_only/id2_id21_0007.mp4', '/content/drive/MyDrive/Deepfake Dataset/DF Processed FaceOnly/Celeb_fake_face_only/id9_id21_0006.mp4', '/content/drive/MyDrive/Deepfake Dataset/DF Processed FaceOnly/Celeb_fake_face_only/id53_id55_0002.mp4', '/content/drive/MyDrive/Deepfake Dataset/DF Processed FaceOnly/Celeb_fake_face_only/id16_id21_0002.mp4', '/content/drive/MyDrive/Deepfake Dataset/DF Processed FaceOnly/Celeb_fake_face_only/id23_id6_0001.mp4', '/content/drive/MyDrive/Deepfake Dataset/DF Processed FaceOnly/Celeb_fake_face_only/id20_id19_0006.mp4', '/content/drive/MyDrive/Deepfake Dataset/DF Processed FaceOnly/Celeb_fake_face_only/id60_id61_0006.mp4', '/content/drive/MyDrive/Deepfake Dataset/DF Processed FaceOnly/Celeb_fake_face_only/id54_id55_0005.mp4', '/content/drive/MyDrive/Deepfake Dataset/DF Processed FaceOnly/Celeb_fake_face_only/id37_id9_0008.mp4', '/content/drive/MyDrive/Deepfake Dataset/DF Processed FaceOnly/Celeb_fake_face_only/id30_id35_0002.mp4', '/content/drive/MyDrive/Deepfake Dataset/DF Processed FaceOnly/Celeb_fake_face_only/id22_id19_0002.mp4', '/content/drive/MyDrive/Deepfake Dataset/DF Processed FaceOnly/Celeb_fake_face_only/id43_id44_0009.mp4', '/content/drive/MyDrive/Deepfake Dataset/DF Processed FaceOnly/Celeb_fake_face_only/id46_id45_0005.mp4', '/content/drive/MyDrive/Deepfake Dataset/DF Processed FaceOnly/Celeb_fake_face_only/id1_id16_0003.mp4', '/content/drive/MyDrive/Deepfake Dataset/DF Processed FaceOnly/Celeb_fake_face_only/id33_id32_0004.mp4', '/content/drive/MyDrive/Deepfake Dataset/DF Processed FaceOnly/Celeb_fake_face_only/id58_id52_0004.mp4', '/content/drive/MyDrive/Deepfake Dataset/DF Processed FaceOnly/Celeb_fake_face_only/id34_id29_0002.mp4', '/content/drive/MyDrive/Deepfake Dataset/DF Processed FaceOnly/Celeb_fake_face_only/id37_id28_0008.mp4', '/content/drive/MyDrive/Deepfake Dataset/DF Processed FaceOnly/Celeb_fake_face_only/id34_id31_0005.mp4', '/content/drive/MyDrive/Deepfake Dataset/DF Processed FaceOnly/Celeb_fake_face_only/id12_id10_0006.mp4', '/content/drive/MyDrive/Deepfake Dataset/DF Processed FaceOnly/Celeb_fake_face_only/id4_id23_0006.mp4', '/content/drive/MyDrive/Deepfake Dataset/DF Processed FaceOnly/Celeb_fake_face_only/id21_id1_0009.mp4', '/content/drive/MyDrive/Deepfake Dataset/DF Processed FaceOnly/Celeb_fake_face_only/id43_id44_0008.mp4', '/content/drive/MyDrive/Deepfake Dataset/DF Processed FaceOnly/Celeb_fake_face_only/id53_id51_0000.mp4', '/content/drive/MyDrive/Deepfake Dataset/DF Processed FaceOnly/Celeb_fake_face_only/id32_id33_0004.mp4', '/content/drive/MyDrive/Deepfake Dataset/DF Processed FaceOnly/Celeb_fake_face_only/id59_id61_0000.mp4', '/content/drive/MyDrive/Deepfake Dataset/DF Processed FaceOnly/Celeb_fake_face_only/id54_id57_0004.mp4', '/content/drive/MyDrive/Deepfake Dataset/DF Processed FaceOnly/Celeb_fake_face_only/id57_id50_0000.mp4', '/content/drive/MyDrive/Deepfake Dataset/DF Processed FaceOnly/Celeb_fake_face_only/id1_id9_0007.mp4', '/content/drive/MyDrive/Deepfake Dataset/DF Processed FaceOnly/Celeb_fake_face_only/id55_id53_0007.mp4', '/content/drive/MyDrive/Deepfake Dataset/DF Processed FaceOnly/Celeb_fake_face_only/id46_id42_0007.mp4', '/content/drive/MyDrive/Deepfake Dataset/DF Processed FaceOnly/Celeb_fake_face_only/id22_id26_0004.mp4', '/content/drive/MyDrive/Deepfake Dataset/DF Processed FaceOnly/Celeb_fake_face_only/id50_id55_0002.mp4', '/content/drive/MyDrive/Deepfake Dataset/DF Processed FaceOnly/Celeb_fake_face_only/id6_id9_0001.mp4', '/content/drive/MyDrive/Deepfake Dataset/DF Processed FaceOnly/Celeb_fake_face_only/id55_id52_0005.mp4', '/content/drive/MyDrive/Deepfake Dataset/DF Processed FaceOnly/Celeb_fake_face_only/id29_id38_0004.mp4', '/content/drive/MyDrive/Deepfake Dataset/DF Processed FaceOnly/Celeb_fake_face_only/id59_id5_0001.mp4', '/content/drive/MyDrive/Deepfake Dataset/DF Processed FaceOnly/Celeb_fake_face_only/id4_id20_0003.mp4', '/content/drive/MyDrive/Deepfake Dataset/DF Processed FaceOnly/Celeb_fake_face_only/id47_id41_0001.mp4', '/content/drive/MyDrive/Deepfake Dataset/DF Processed FaceOnly/Celeb_fake_face_only/id3_id35_0009.mp4', '/content/drive/MyDrive/Deepfake Dataset/DF Processed FaceOnly/Celeb_fake_face_only/id61_id60_0000.mp4', '/content/drive/MyDrive/Deepfake Dataset/DF Processed FaceOnly/Celeb_fake_face_only/id51_id55_0001.mp4', '/content/drive/MyDrive/Deepfake Dataset/DF Processed FaceOnly/Celeb_fake_face_only/id46_id47_0004.mp4', '/content/drive/MyDrive/Deepfake Dataset/DF Processed FaceOnly/Celeb_fake_face_only/id41_id42_0002.mp4', '/content/drive/MyDrive/Deepfake Dataset/DF Processed FaceOnly/Celeb_fake_face_only/id28_id30_0009.mp4', '/content/drive/MyDrive/Deepfake Dataset/DF Processed FaceOnly/Celeb_fake_face_only/id19_id23_0005.mp4', '/content/drive/MyDrive/Deepfake Dataset/DF Processed FaceOnly/Celeb_fake_face_only/id51_id55_0002.mp4', '/content/drive/MyDrive/Deepfake Dataset/DF Processed FaceOnly/Celeb_fake_face_only/id10_id7_0004.mp4', '/content/drive/MyDrive/Deepfake Dataset/DF Processed FaceOnly/Celeb_fake_face_only/id38_id32_0005.mp4', '/content/drive/MyDrive/Deepfake Dataset/DF Processed FaceOnly/Celeb_fake_face_only/id46_id41_0009.mp4', '/content/drive/MyDrive/Deepfake Dataset/DF Processed FaceOnly/Celeb_fake_face_only/id39_id47_0000.mp4', '/content/drive/MyDrive/Deepfake Dataset/DF Processed FaceOnly/Celeb_fake_face_only/id42_id45_0001.mp4', '/content/drive/MyDrive/Deepfake Dataset/DF Processed FaceOnly/Celeb_fake_face_only/id33_id23_0004.mp4', '/content/drive/MyDrive/Deepfake Dataset/DF Processed FaceOnly/Celeb_fake_face_only/id40_id45_0003.mp4', '/content/drive/MyDrive/Deepfake Dataset/DF Processed FaceOnly/Celeb_fake_face_only/id6_id3_0000.mp4', '/content/drive/MyDrive/Deepfake Dataset/DF Processed FaceOnly/Celeb_fake_face_only/id23_id27_0003.mp4', '/content/drive/MyDrive/Deepfake Dataset/DF Processed FaceOnly/Celeb_fake_face_only/id50_id53_0000.mp4', '/content/drive/MyDrive/Deepfake Dataset/DF Processed FaceOnly/Celeb_fake_face_only/id51_id57_0002.mp4', '/content/drive/MyDrive/Deepfake Dataset/DF Processed FaceOnly/Celeb_fake_face_only/id38_id34_0008.mp4', '/content/drive/MyDrive/Deepfake Dataset/DF Processed FaceOnly/Celeb_fake_face_only/id37_id35_0000.mp4', '/content/drive/MyDrive/Deepfake Dataset/DF Processed FaceOnly/Celeb_fake_face_only/id25_id26_0000.mp4', '/content/drive/MyDrive/Deepfake Dataset/DF Processed FaceOnly/Celeb_fake_face_only/id31_id34_0005.mp4', '/content/drive/MyDrive/Deepfake Dataset/DF Processed FaceOnly/Celeb_fake_face_only/id19_id25_0009.mp4', '/content/drive/MyDrive/Deepfake Dataset/DF Processed FaceOnly/Celeb_fake_face_only/id30_id17_0004.mp4', '/content/drive/MyDrive/Deepfake Dataset/DF Processed FaceOnly/Celeb_fake_face_only/id7_id10_0001.mp4', '/content/drive/MyDrive/Deepfake Dataset/DF Processed FaceOnly/Celeb_fake_face_only/id12_id7_0006.mp4', '/content/drive/MyDrive/Deepfake Dataset/DF Processed FaceOnly/Celeb_fake_face_only/id25_id19_0003.mp4', '/content/drive/MyDrive/Deepfake Dataset/DF Processed FaceOnly/Celeb_fake_face_only/id5_id60_0003.mp4', '/content/drive/MyDrive/Deepfake Dataset/DF Processed FaceOnly/Celeb_fake_face_only/id47_id40_0004.mp4', '/content/drive/MyDrive/Deepfake Dataset/DF Processed FaceOnly/Celeb_fake_face_only/id11_id7_0005.mp4', '/content/drive/MyDrive/Deepfake Dataset/DF Processed FaceOnly/Celeb_fake_face_only/id29_id21_0009.mp4', '/content/drive/MyDrive/Deepfake Dataset/DF Processed FaceOnly/Celeb_fake_face_only/id19_id22_0009.mp4', '/content/drive/MyDrive/Deepfake Dataset/DF Processed FaceOnly/Celeb_fake_face_only/id52_id58_0001.mp4', '/content/drive/MyDrive/Deepfake Dataset/DF Processed FaceOnly/Celeb_fake_face_only/id10_id11_0006.mp4', '/content/drive/MyDrive/Deepfake Dataset/DF Processed FaceOnly/Celeb_fake_face_only/id39_id43_0008.mp4', '/content/drive/MyDrive/Deepfake Dataset/DF Processed FaceOnly/Celeb_fake_face_only/id24_id26_0006.mp4', '/content/drive/MyDrive/Deepfake Dataset/DF Processed FaceOnly/Celeb_fake_face_only/id24_id27_0009.mp4', '/content/drive/MyDrive/Deepfake Dataset/DF Processed FaceOnly/Celeb_fake_face_only/id38_id29_0009.mp4', '/content/drive/MyDrive/Deepfake Dataset/DF Processed FaceOnly/Celeb_fake_face_only/id5_id60_0004.mp4', '/content/drive/MyDrive/Deepfake Dataset/DF Processed FaceOnly/Celeb_fake_face_only/id3_id37_0001.mp4', '/content/drive/MyDrive/Deepfake Dataset/DF Processed FaceOnly/Celeb_fake_face_only/id23_id26_0001.mp4', '/content/drive/MyDrive/Deepfake Dataset/DF Processed FaceOnly/Celeb_fake_face_only/id7_id13_0007.mp4', '/content/drive/MyDrive/Deepfake Dataset/DF Processed FaceOnly/Celeb_fake_face_only/id42_id40_0003.mp4', '/content/drive/MyDrive/Deepfake Dataset/DF Processed FaceOnly/Celeb_fake_face_only/id42_id48_0002.mp4', '/content/drive/MyDrive/Deepfake Dataset/DF Processed FaceOnly/Celeb_fake_face_only/id49_id52_0003.mp4', '/content/drive/MyDrive/Deepfake Dataset/DF Processed FaceOnly/Celeb_fake_face_only/id21_id20_0001.mp4', '/content/drive/MyDrive/Deepfake Dataset/DF Processed FaceOnly/Celeb_fake_face_only/id12_id10_0001.mp4', '/content/drive/MyDrive/Deepfake Dataset/DF Processed FaceOnly/Celeb_fake_face_only/id4_id30_0009.mp4', '/content/drive/MyDrive/Deepfake Dataset/DF Processed FaceOnly/Celeb_fake_face_only/id0_id1_0005.mp4', '/content/drive/MyDrive/Deepfake Dataset/DF Processed FaceOnly/Celeb_fake_face_only/id23_id22_0000.mp4', '/content/drive/MyDrive/Deepfake Dataset/DF Processed FaceOnly/Celeb_fake_face_only/id43_id48_0004.mp4', '/content/drive/MyDrive/Deepfake Dataset/DF Processed FaceOnly/Celeb_fake_face_only/id43_id41_0007.mp4', '/content/drive/MyDrive/Deepfake Dataset/DF Processed FaceOnly/Celeb_fake_face_only/id24_id25_0005.mp4', '/content/drive/MyDrive/Deepfake Dataset/DF Processed FaceOnly/Celeb_fake_face_only/id52_id49_0008.mp4', '/content/drive/MyDrive/Deepfake Dataset/DF Processed FaceOnly/Celeb_fake_face_only/id40_id47_0002.mp4', '/content/drive/MyDrive/Deepfake Dataset/DF Processed FaceOnly/Celeb_fake_face_only/id51_id50_0002.mp4', '/content/drive/MyDrive/Deepfake Dataset/DF Processed FaceOnly/Celeb_fake_face_only/id52_id58_0000.mp4', '/content/drive/MyDrive/Deepfake Dataset/DF Processed FaceOnly/Celeb_fake_face_only/id9_id31_0006.mp4', '/content/drive/MyDrive/Deepfake Dataset/DF Processed FaceOnly/Celeb_fake_face_only/id51_id54_0004.mp4', '/content/drive/MyDrive/Deepfake Dataset/DF Processed FaceOnly/Celeb_fake_face_only/id47_id45_0002.mp4', '/content/drive/MyDrive/Deepfake Dataset/DF Processed FaceOnly/Celeb_fake_face_only/id9_id37_0006.mp4', '/content/drive/MyDrive/Deepfake Dataset/DF Processed FaceOnly/Celeb_fake_face_only/id50_id57_0007.mp4', '/content/drive/MyDrive/Deepfake Dataset/DF Processed FaceOnly/Celeb_fake_face_only/id38_id26_0007.mp4', '/content/drive/MyDrive/Deepfake Dataset/DF Processed FaceOnly/Celeb_fake_face_only/id16_id30_0001.mp4', '/content/drive/MyDrive/Deepfake Dataset/DF Processed FaceOnly/Celeb_fake_face_only/id59_id5_0000.mp4', '/content/drive/MyDrive/Deepfake Dataset/DF Processed FaceOnly/Celeb_fake_face_only/id61_id5_0005.mp4', '/content/drive/MyDrive/Deepfake Dataset/DF Processed FaceOnly/Celeb_fake_face_only/id3_id23_0007.mp4', '/content/drive/MyDrive/Deepfake Dataset/DF Processed FaceOnly/Celeb_fake_face_only/id49_id55_0005.mp4', '/content/drive/MyDrive/Deepfake Dataset/DF Processed FaceOnly/Celeb_fake_face_only/id20_id34_0003.mp4', '/content/drive/MyDrive/Deepfake Dataset/DF Processed FaceOnly/Celeb_fake_face_only/id33_id34_0002.mp4', '/content/drive/MyDrive/Deepfake Dataset/DF Processed FaceOnly/Celeb_fake_face_only/id46_id41_0000.mp4', '/content/drive/MyDrive/Deepfake Dataset/DF Processed FaceOnly/Celeb_fake_face_only/id55_id57_0001.mp4', '/content/drive/MyDrive/Deepfake Dataset/DF Processed FaceOnly/Celeb_fake_face_only/id58_id49_0002.mp4', '/content/drive/MyDrive/Deepfake Dataset/DF Processed FaceOnly/Celeb_fake_face_only/id28_id26_0007.mp4', '/content/drive/MyDrive/Deepfake Dataset/DF Processed FaceOnly/Celeb_fake_face_only/id57_id53_0003.mp4', '/content/drive/MyDrive/Deepfake Dataset/DF Processed FaceOnly/Celeb_fake_face_only/id8_id9_0007.mp4', '/content/drive/MyDrive/Deepfake Dataset/DF Processed FaceOnly/Celeb_fake_face_only/id48_id39_0003.mp4', '/content/drive/MyDrive/Deepfake Dataset/DF Processed FaceOnly/Celeb_fake_face_only/id17_id37_0002.mp4', '/content/drive/MyDrive/Deepfake Dataset/DF Processed FaceOnly/Celeb_fake_face_only/id41_id45_0000.mp4', '/content/drive/MyDrive/Deepfake Dataset/DF Processed FaceOnly/Celeb_fake_face_only/id22_id26_0003.mp4', '/content/drive/MyDrive/Deepfake Dataset/DF Processed FaceOnly/Celeb_fake_face_only/id27_id26_0003.mp4', '/content/drive/MyDrive/Deepfake Dataset/DF Processed FaceOnly/Celeb_fake_face_only/id1_id30_0005.mp4', '/content/drive/MyDrive/Deepfake Dataset/DF Processed FaceOnly/Celeb_fake_face_only/id58_id55_0008.mp4', '/content/drive/MyDrive/Deepfake Dataset/DF Processed FaceOnly/Celeb_fake_face_only/id20_id23_0007.mp4', '/content/drive/MyDrive/Deepfake Dataset/DF Processed FaceOnly/Celeb_fake_face_only/id22_id24_0002.mp4', '/content/drive/MyDrive/Deepfake Dataset/DF Processed FaceOnly/Celeb_fake_face_only/id5_id61_0003.mp4', '/content/drive/MyDrive/Deepfake Dataset/DF Processed FaceOnly/Celeb_fake_face_only/id60_id61_0000.mp4', '/content/drive/MyDrive/Deepfake Dataset/DF Processed FaceOnly/Celeb_fake_face_only/id49_id53_0004.mp4', '/content/drive/MyDrive/Deepfake Dataset/DF Processed FaceOnly/Celeb_fake_face_only/id44_id39_0001.mp4', '/content/drive/MyDrive/Deepfake Dataset/DF Processed FaceOnly/Celeb_fake_face_only/id60_id59_0004.mp4', '/content/drive/MyDrive/Deepfake Dataset/DF Processed FaceOnly/Celeb_fake_face_only/id34_id33_0003.mp4', '/content/drive/MyDrive/Deepfake Dataset/DF Processed FaceOnly/Celeb_fake_face_only/id9_id0_0007.mp4', '/content/drive/MyDrive/Deepfake Dataset/DF Processed FaceOnly/Celeb_fake_face_only/id8_id2_0008.mp4', '/content/drive/MyDrive/Deepfake Dataset/DF Processed FaceOnly/Celeb_fake_face_only/id7_id11_0004.mp4', '/content/drive/MyDrive/Deepfake Dataset/DF Processed FaceOnly/Celeb_fake_face_only/id6_id1_0001.mp4', '/content/drive/MyDrive/Deepfake Dataset/DF Processed FaceOnly/Celeb_fake_face_only/id9_id35_0005.mp4', '/content/drive/MyDrive/Deepfake Dataset/DF Processed FaceOnly/Celeb_fake_face_only/id52_id49_0006.mp4', '/content/drive/MyDrive/Deepfake Dataset/DF Processed FaceOnly/Celeb_fake_face_only/id17_id1_0002.mp4', '/content/drive/MyDrive/Deepfake Dataset/DF Processed FaceOnly/Celeb_fake_face_only/id21_id2_0009.mp4', '/content/drive/MyDrive/Deepfake Dataset/DF Processed FaceOnly/Celeb_fake_face_only/id25_id19_0008.mp4', '/content/drive/MyDrive/Deepfake Dataset/DF Processed FaceOnly/Celeb_fake_face_only/id53_id50_0005.mp4', '/content/drive/MyDrive/Deepfake Dataset/DF Processed FaceOnly/Celeb_fake_face_only/id7_id12_0002.mp4', '/content/drive/MyDrive/Deepfake Dataset/DF Processed FaceOnly/Celeb_fake_face_only/id21_id29_0001.mp4', '/content/drive/MyDrive/Deepfake Dataset/DF Processed FaceOnly/Celeb_fake_face_only/id43_id45_0002.mp4', '/content/drive/MyDrive/Deepfake Dataset/DF Processed FaceOnly/Celeb_fake_face_only/id8_id2_0003.mp4', '/content/drive/MyDrive/Deepfake Dataset/DF Processed FaceOnly/Celeb_fake_face_only/id22_id25_0006.mp4', '/content/drive/MyDrive/Deepfake Dataset/DF Processed FaceOnly/Celeb_fake_face_only/id56_id55_0008.mp4', '/content/drive/MyDrive/Deepfake Dataset/DF Processed FaceOnly/Celeb_fake_face_only/id12_id10_0005.mp4', '/content/drive/MyDrive/Deepfake Dataset/DF Processed FaceOnly/Celeb_fake_face_only/id48_id45_0005.mp4', '/content/drive/MyDrive/Deepfake Dataset/DF Processed FaceOnly/Celeb_fake_face_only/id21_id23_0001.mp4', '/content/drive/MyDrive/Deepfake Dataset/DF Processed FaceOnly/Celeb_fake_face_only/id25_id20_0002.mp4', '/content/drive/MyDrive/Deepfake Dataset/DF Processed FaceOnly/Celeb_fake_face_only/id58_id54_0002.mp4', '/content/drive/MyDrive/Deepfake Dataset/DF Processed FaceOnly/Celeb_fake_face_only/id10_id11_0005.mp4', '/content/drive/MyDrive/Deepfake Dataset/DF Processed FaceOnly/Celeb_fake_face_only/id1_id20_0004.mp4', '/content/drive/MyDrive/Deepfake Dataset/DF Processed FaceOnly/Celeb_fake_face_only/id59_id61_0007.mp4', '/content/drive/MyDrive/Deepfake Dataset/DF Processed FaceOnly/Celeb_fake_face_only/id50_id51_0005.mp4', '/content/drive/MyDrive/Deepfake Dataset/DF Processed FaceOnly/Celeb_fake_face_only/id31_id38_0001.mp4', '/content/drive/MyDrive/Deepfake Dataset/DF Processed FaceOnly/Celeb_fake_face_only/id35_id6_0000.mp4', '/content/drive/MyDrive/Deepfake Dataset/DF Processed FaceOnly/Celeb_fake_face_only/id25_id28_0005.mp4', '/content/drive/MyDrive/Deepfake Dataset/DF Processed FaceOnly/Celeb_fake_face_only/id39_id44_0003.mp4', '/content/drive/MyDrive/Deepfake Dataset/DF Processed FaceOnly/Celeb_fake_face_only/id35_id9_0006.mp4', '/content/drive/MyDrive/Deepfake Dataset/DF Processed FaceOnly/Celeb_fake_face_only/id39_id42_0002.mp4', '/content/drive/MyDrive/Deepfake Dataset/DF Processed FaceOnly/Celeb_fake_face_only/id56_id51_0001.mp4', '/content/drive/MyDrive/Deepfake Dataset/DF Processed FaceOnly/Celeb_fake_face_only/id28_id0_0004.mp4', '/content/drive/MyDrive/Deepfake Dataset/DF Processed FaceOnly/Celeb_fake_face_only/id56_id55_0009.mp4', '/content/drive/MyDrive/Deepfake Dataset/DF Processed FaceOnly/Celeb_fake_face_only/id5_id60_0001.mp4', '/content/drive/MyDrive/Deepfake Dataset/DF Processed FaceOnly/Celeb_fake_face_only/id25_id27_0005.mp4', '/content/drive/MyDrive/Deepfake Dataset/DF Processed FaceOnly/Celeb_fake_face_only/id52_id57_0006.mp4', '/content/drive/MyDrive/Deepfake Dataset/DF Processed FaceOnly/Celeb_fake_face_only/id42_id39_0003.mp4', '/content/drive/MyDrive/Deepfake Dataset/DF Processed FaceOnly/Celeb_fake_face_only/id33_id34_0007.mp4', '/content/drive/MyDrive/Deepfake Dataset/DF Processed FaceOnly/Celeb_fake_face_only/id56_id52_0001.mp4', '/content/drive/MyDrive/Deepfake Dataset/DF Processed FaceOnly/Celeb_fake_face_only/id29_id34_0005.mp4', '/content/drive/MyDrive/Deepfake Dataset/DF Processed FaceOnly/Celeb_fake_face_only/id54_id49_0004.mp4', '/content/drive/MyDrive/Deepfake Dataset/DF Processed FaceOnly/Celeb_fake_face_only/id40_id46_0001.mp4', '/content/drive/MyDrive/Deepfake Dataset/DF Processed FaceOnly/Celeb_fake_face_only/id25_id27_0008.mp4', '/content/drive/MyDrive/Deepfake Dataset/DF Processed FaceOnly/Celeb_fake_face_only/id27_id28_0006.mp4', '/content/drive/MyDrive/Deepfake Dataset/DF Processed FaceOnly/Celeb_fake_face_only/id34_id32_0007.mp4', '/content/drive/MyDrive/Deepfake Dataset/DF Processed FaceOnly/Celeb_fake_face_only/id5_id61_0004.mp4', '/content/drive/MyDrive/Deepfake Dataset/DF Processed FaceOnly/Celeb_fake_face_only/id41_id40_0008.mp4', '/content/drive/MyDrive/Deepfake Dataset/DF Processed FaceOnly/Celeb_fake_face_only/id44_id45_0001.mp4', '/content/drive/MyDrive/Deepfake Dataset/DF Processed FaceOnly/Celeb_fake_face_only/id25_id21_0007.mp4', '/content/drive/MyDrive/Deepfake Dataset/DF Processed FaceOnly/Celeb_fake_face_only/id48_id47_0007.mp4', '/content/drive/MyDrive/Deepfake Dataset/DF Processed FaceOnly/Celeb_fake_face_only/id61_id5_0006.mp4', '/content/drive/MyDrive/Deepfake Dataset/DF Processed FaceOnly/Celeb_fake_face_only/id58_id57_0006.mp4', '/content/drive/MyDrive/Deepfake Dataset/DF Processed FaceOnly/Celeb_fake_face_only/id30_id21_0008.mp4', '/content/drive/MyDrive/Deepfake Dataset/DF Processed FaceOnly/Celeb_fake_face_only/id8_id1_0002.mp4', '/content/drive/MyDrive/Deepfake Dataset/DF Processed FaceOnly/Celeb_fake_face_only/id19_id26_0002.mp4', '/content/drive/MyDrive/Deepfake Dataset/DF Processed FaceOnly/Celeb_fake_face_only/id2_id35_0009.mp4', '/content/drive/MyDrive/Deepfake Dataset/DF Processed FaceOnly/Celeb_fake_face_only/id7_id13_0000.mp4', '/content/drive/MyDrive/Deepfake Dataset/DF Processed FaceOnly/Celeb_fake_face_only/id52_id55_0002.mp4', '/content/drive/MyDrive/Deepfake Dataset/DF Processed FaceOnly/Celeb_fake_face_only/id61_id60_0002.mp4', '/content/drive/MyDrive/Deepfake Dataset/DF Processed FaceOnly/Celeb_fake_face_only/id49_id54_0005.mp4', '/content/drive/MyDrive/Deepfake Dataset/DF Processed FaceOnly/Celeb_fake_face_only/id39_id45_0004.mp4', '/content/drive/MyDrive/Deepfake Dataset/DF Processed FaceOnly/Celeb_fake_face_only/id54_id49_0007.mp4', '/content/drive/MyDrive/Deepfake Dataset/DF Processed FaceOnly/Celeb_fake_face_only/id16_id1_0013.mp4', '/content/drive/MyDrive/Deepfake Dataset/DF Processed FaceOnly/Celeb_fake_face_only/id61_id59_0006.mp4', '/content/drive/MyDrive/Deepfake Dataset/DF Processed FaceOnly/Celeb_fake_face_only/id0_id20_0006.mp4', '/content/drive/MyDrive/Deepfake Dataset/DF Processed FaceOnly/Celeb_fake_face_only/id27_id21_0004.mp4', '/content/drive/MyDrive/Deepfake Dataset/DF Processed FaceOnly/Celeb_fake_face_only/id39_id43_0003.mp4', '/content/drive/MyDrive/Deepfake Dataset/DF Processed FaceOnly/Celeb_fake_face_only/id27_id20_0007.mp4', '/content/drive/MyDrive/Deepfake Dataset/DF Processed FaceOnly/Celeb_fake_face_only/id13_id10_0011.mp4', '/content/drive/MyDrive/Deepfake Dataset/DF Processed FaceOnly/Celeb_fake_face_only/id22_id28_0004.mp4', '/content/drive/MyDrive/Deepfake Dataset/DF Processed FaceOnly/Celeb_fake_face_only/id51_id49_0002.mp4', '/content/drive/MyDrive/Deepfake Dataset/DF Processed FaceOnly/Celeb_fake_face_only/id47_id44_0007.mp4', '/content/drive/MyDrive/Deepfake Dataset/DF Processed FaceOnly/Celeb_fake_face_only/id0_id2_0005.mp4', '/content/drive/MyDrive/Deepfake Dataset/DF Processed FaceOnly/Celeb_fake_face_only/id49_id55_0002.mp4', '/content/drive/MyDrive/Deepfake Dataset/DF Processed FaceOnly/Celeb_fake_face_only/id24_id23_0007.mp4', '/content/drive/MyDrive/Deepfake Dataset/DF Processed FaceOnly/Celeb_fake_face_only/id9_id26_0000.mp4', '/content/drive/MyDrive/Deepfake Dataset/DF Processed FaceOnly/Celeb_fake_face_only/id55_id51_0009.mp4', '/content/drive/MyDrive/Deepfake Dataset/DF Processed FaceOnly/Celeb_fake_face_only/id27_id21_0008.mp4', '/content/drive/MyDrive/Deepfake Dataset/DF Processed FaceOnly/Celeb_fake_face_only/id16_id31_0010.mp4', '/content/drive/MyDrive/Deepfake Dataset/DF Processed FaceOnly/Celeb_fake_face_only/id26_id22_0009.mp4', '/content/drive/MyDrive/Deepfake Dataset/DF Processed FaceOnly/Celeb_fake_face_only/id57_id58_0000.mp4', '/content/drive/MyDrive/Deepfake Dataset/DF Processed FaceOnly/Celeb_fake_face_only/id26_id29_0009.mp4', '/content/drive/MyDrive/Deepfake Dataset/DF Processed FaceOnly/Celeb_fake_face_only/id7_id11_0000.mp4', '/content/drive/MyDrive/Deepfake Dataset/DF Processed FaceOnly/Celeb_fake_face_only/id16_id28_0006.mp4', '/content/drive/MyDrive/Deepfake Dataset/DF Processed FaceOnly/Celeb_fake_face_only/id11_id7_0007.mp4', '/content/drive/MyDrive/Deepfake Dataset/DF Processed FaceOnly/Celeb_fake_face_only/id13_id10_0012.mp4', '/content/drive/MyDrive/Deepfake Dataset/DF Processed FaceOnly/Celeb_fake_face_only/id22_id24_0006.mp4', '/content/drive/MyDrive/Deepfake Dataset/DF Processed FaceOnly/Celeb_fake_face_only/id33_id23_0008.mp4', '/content/drive/MyDrive/Deepfake Dataset/DF Processed FaceOnly/Celeb_fake_face_only/id10_id13_0008.mp4', '/content/drive/MyDrive/Deepfake Dataset/DF Processed FaceOnly/Celeb_fake_face_only/id19_id26_0001.mp4', '/content/drive/MyDrive/Deepfake Dataset/DF Processed FaceOnly/Celeb_fake_face_only/id42_id41_0001.mp4', '/content/drive/MyDrive/Deepfake Dataset/DF Processed FaceOnly/Celeb_fake_face_only/id27_id25_0001.mp4', '/content/drive/MyDrive/Deepfake Dataset/DF Processed FaceOnly/Celeb_fake_face_only/id4_id1_0005.mp4', '/content/drive/MyDrive/Deepfake Dataset/DF Processed FaceOnly/Celeb_fake_face_only/id32_id37_0005.mp4', '/content/drive/MyDrive/Deepfake Dataset/DF Processed FaceOnly/Celeb_fake_face_only/id28_id9_0000.mp4', '/content/drive/MyDrive/Deepfake Dataset/DF Processed FaceOnly/Celeb_fake_face_only/id45_id44_0008.mp4', '/content/drive/MyDrive/Deepfake Dataset/DF Processed FaceOnly/Celeb_fake_face_only/id5_id59_0007.mp4', '/content/drive/MyDrive/Deepfake Dataset/DF Processed FaceOnly/Celeb_fake_face_only/id47_id42_0008.mp4', '/content/drive/MyDrive/Deepfake Dataset/DF Processed FaceOnly/Celeb_fake_face_only/id7_id10_0009.mp4', '/content/drive/MyDrive/Deepfake Dataset/DF Processed FaceOnly/Celeb_fake_face_only/id49_id50_0007.mp4', '/content/drive/MyDrive/Deepfake Dataset/DF Processed FaceOnly/Celeb_fake_face_only/id55_id49_0009.mp4', '/content/drive/MyDrive/Deepfake Dataset/DF Processed FaceOnly/Celeb_fake_face_only/id22_id19_0005.mp4', '/content/drive/MyDrive/Deepfake Dataset/DF Processed FaceOnly/Celeb_fake_face_only/id17_id9_0009.mp4', '/content/drive/MyDrive/Deepfake Dataset/DF Processed FaceOnly/Celeb_fake_face_only/id30_id32_0004.mp4', '/content/drive/MyDrive/Deepfake Dataset/DF Processed FaceOnly/Celeb_fake_face_only/id19_id20_0001.mp4', '/content/drive/MyDrive/Deepfake Dataset/DF Processed FaceOnly/Celeb_fake_face_only/id17_id16_0004.mp4', '/content/drive/MyDrive/Deepfake Dataset/DF Processed FaceOnly/Celeb_fake_face_only/id31_id1_0002.mp4', '/content/drive/MyDrive/Deepfake Dataset/DF Processed FaceOnly/Celeb_fake_face_only/id34_id20_0003.mp4', '/content/drive/MyDrive/Deepfake Dataset/DF Processed FaceOnly/Celeb_fake_face_only/id47_id45_0004.mp4', '/content/drive/MyDrive/Deepfake Dataset/DF Processed FaceOnly/Celeb_fake_face_only/id5_id61_0008.mp4', '/content/drive/MyDrive/Deepfake Dataset/DF Processed FaceOnly/Celeb_fake_face_only/id32_id34_0006.mp4', '/content/drive/MyDrive/Deepfake Dataset/DF Processed FaceOnly/Celeb_fake_face_only/id50_id57_0004.mp4', '/content/drive/MyDrive/Deepfake Dataset/DF Processed FaceOnly/Celeb_fake_face_only/id60_id5_0000.mp4', '/content/drive/MyDrive/Deepfake Dataset/DF Processed FaceOnly/Celeb_fake_face_only/id6_id37_0004.mp4', '/content/drive/MyDrive/Deepfake Dataset/DF Processed FaceOnly/Celeb_fake_face_only/id21_id26_0009.mp4', '/content/drive/MyDrive/Deepfake Dataset/DF Processed FaceOnly/Celeb_fake_face_only/id20_id27_0009.mp4', '/content/drive/MyDrive/Deepfake Dataset/DF Processed FaceOnly/Celeb_fake_face_only/id58_id55_0005.mp4', '/content/drive/MyDrive/Deepfake Dataset/DF Processed FaceOnly/Celeb_fake_face_only/id28_id24_0003.mp4', '/content/drive/MyDrive/Deepfake Dataset/DF Processed FaceOnly/Celeb_fake_face_only/id31_id21_0006.mp4', '/content/drive/MyDrive/Deepfake Dataset/DF Processed FaceOnly/Celeb_fake_face_only/id8_id9_0003.mp4', '/content/drive/MyDrive/Deepfake Dataset/DF Processed FaceOnly/Celeb_fake_face_only/id44_id47_0000.mp4', '/content/drive/MyDrive/Deepfake Dataset/DF Processed FaceOnly/Celeb_fake_face_only/id4_id20_0007.mp4', '/content/drive/MyDrive/Deepfake Dataset/DF Processed FaceOnly/Celeb_fake_face_only/id0_id4_0006.mp4', '/content/drive/MyDrive/Deepfake Dataset/DF Processed FaceOnly/Celeb_fake_face_only/id12_id7_0000.mp4', '/content/drive/MyDrive/Deepfake Dataset/DF Processed FaceOnly/Celeb_fake_face_only/id2_id23_0006.mp4', '/content/drive/MyDrive/Deepfake Dataset/DF Processed FaceOnly/Celeb_fake_face_only/id60_id61_0005.mp4', '/content/drive/MyDrive/Deepfake Dataset/DF Processed FaceOnly/Celeb_fake_face_only/id50_id57_0006.mp4', '/content/drive/MyDrive/Deepfake Dataset/DF Processed FaceOnly/Celeb_fake_face_only/id37_id34_0006.mp4', '/content/drive/MyDrive/Deepfake Dataset/DF Processed FaceOnly/Celeb_fake_face_only/id40_id44_0000.mp4', '/content/drive/MyDrive/Deepfake Dataset/DF Processed FaceOnly/Celeb_fake_face_only/id35_id20_0003.mp4', '/content/drive/MyDrive/Deepfake Dataset/DF Processed FaceOnly/Celeb_fake_face_only/id9_id31_0003.mp4', '/content/drive/MyDrive/Deepfake Dataset/DF Processed FaceOnly/Celeb_fake_face_only/id17_id28_0000.mp4', '/content/drive/MyDrive/Deepfake Dataset/DF Processed FaceOnly/Celeb_fake_face_only/id57_id54_0007.mp4', '/content/drive/MyDrive/Deepfake Dataset/DF Processed FaceOnly/Celeb_fake_face_only/id19_id25_0004.mp4', '/content/drive/MyDrive/Deepfake Dataset/DF Processed FaceOnly/Celeb_fake_face_only/id16_id20_0011.mp4', '/content/drive/MyDrive/Deepfake Dataset/DF Processed FaceOnly/Celeb_fake_face_only/id8_id5_0008.mp4', '/content/drive/MyDrive/Deepfake Dataset/DF Processed FaceOnly/Celeb_fake_face_only/id46_id47_0009.mp4', '/content/drive/MyDrive/Deepfake Dataset/DF Processed FaceOnly/Celeb_fake_face_only/id24_id26_0003.mp4', '/content/drive/MyDrive/Deepfake Dataset/DF Processed FaceOnly/Celeb_fake_face_only/id7_id10_0004.mp4', '/content/drive/MyDrive/Deepfake Dataset/DF Processed FaceOnly/Celeb_fake_face_only/id34_id29_0005.mp4', '/content/drive/MyDrive/Deepfake Dataset/DF Processed FaceOnly/Celeb_fake_face_only/id3_id9_0001.mp4', '/content/drive/MyDrive/Deepfake Dataset/DF Processed FaceOnly/Celeb_fake_face_only/id28_id9_0003.mp4', '/content/drive/MyDrive/Deepfake Dataset/DF Processed FaceOnly/Celeb_fake_face_only/id29_id31_0003.mp4', '/content/drive/MyDrive/Deepfake Dataset/DF Processed FaceOnly/Celeb_fake_face_only/id5_id61_0007.mp4', '/content/drive/MyDrive/Deepfake Dataset/DF Processed FaceOnly/Celeb_fake_face_only/id56_id52_0003.mp4', '/content/drive/MyDrive/Deepfake Dataset/DF Processed FaceOnly/Celeb_fake_face_only/id16_id17_0004.mp4', '/content/drive/MyDrive/Deepfake Dataset/DF Processed FaceOnly/Celeb_fake_face_only/id7_id13_0006.mp4', '/content/drive/MyDrive/Deepfake Dataset/DF Processed FaceOnly/Celeb_fake_face_only/id57_id52_0003.mp4', '/content/drive/MyDrive/Deepfake Dataset/DF Processed FaceOnly/Celeb_fake_face_only/id48_id39_0001.mp4', '/content/drive/MyDrive/Deepfake Dataset/DF Processed FaceOnly/Celeb_fake_face_only/id13_id7_0002.mp4', '/content/drive/MyDrive/Deepfake Dataset/DF Processed FaceOnly/Celeb_fake_face_only/id44_id42_0004.mp4', '/content/drive/MyDrive/Deepfake Dataset/DF Processed FaceOnly/Celeb_fake_face_only/id45_id48_0002.mp4', '/content/drive/MyDrive/Deepfake Dataset/DF Processed FaceOnly/Celeb_fake_face_only/id42_id47_0002.mp4', '/content/drive/MyDrive/Deepfake Dataset/DF Processed FaceOnly/Celeb_fake_face_only/id50_id56_0000.mp4', '/content/drive/MyDrive/Deepfake Dataset/DF Processed FaceOnly/Celeb_fake_face_only/id44_id47_0001.mp4', '/content/drive/MyDrive/Deepfake Dataset/DF Processed FaceOnly/Celeb_fake_face_only/id45_id41_0002.mp4', '/content/drive/MyDrive/Deepfake Dataset/DF Processed FaceOnly/Celeb_fake_face_only/id12_id7_0002.mp4', '/content/drive/MyDrive/Deepfake Dataset/DF Processed FaceOnly/Celeb_fake_face_only/id58_id51_0007.mp4', '/content/drive/MyDrive/Deepfake Dataset/DF Processed FaceOnly/Celeb_fake_face_only/id43_id48_0000.mp4', '/content/drive/MyDrive/Deepfake Dataset/DF Processed FaceOnly/Celeb_fake_face_only/id10_id11_0004.mp4', '/content/drive/MyDrive/Deepfake Dataset/DF Processed FaceOnly/Celeb_fake_face_only/id1_id17_0002.mp4', '/content/drive/MyDrive/Deepfake Dataset/DF Processed FaceOnly/Celeb_fake_face_only/id17_id23_0002.mp4', '/content/drive/MyDrive/Deepfake Dataset/DF Processed FaceOnly/Celeb_fake_face_only/id30_id31_0004.mp4', '/content/drive/MyDrive/Deepfake Dataset/DF Processed FaceOnly/Celeb_fake_face_only/id46_id44_0000.mp4', '/content/drive/MyDrive/Deepfake Dataset/DF Processed FaceOnly/Celeb_fake_face_only/id26_id1_0006.mp4', '/content/drive/MyDrive/Deepfake Dataset/DF Processed FaceOnly/Celeb_fake_face_only/id49_id52_0002.mp4', '/content/drive/MyDrive/Deepfake Dataset/DF Processed FaceOnly/Celeb_fake_face_only/id6_id23_0000.mp4', '/content/drive/MyDrive/Deepfake Dataset/DF Processed FaceOnly/Celeb_fake_face_only/id39_id46_0006.mp4', '/content/drive/MyDrive/Deepfake Dataset/DF Processed FaceOnly/Celeb_fake_face_only/id43_id39_0005.mp4', '/content/drive/MyDrive/Deepfake Dataset/DF Processed FaceOnly/Celeb_fake_face_only/id41_id46_0002.mp4', '/content/drive/MyDrive/Deepfake Dataset/DF Processed FaceOnly/Celeb_fake_face_only/id56_id49_0006.mp4', '/content/drive/MyDrive/Deepfake Dataset/DF Processed FaceOnly/Celeb_fake_face_only/id50_id52_0009.mp4', '/content/drive/MyDrive/Deepfake Dataset/DF Processed FaceOnly/Celeb_fake_face_only/id38_id35_0005.mp4', '/content/drive/MyDrive/Deepfake Dataset/DF Processed FaceOnly/Celeb_fake_face_only/id4_id26_0008.mp4', '/content/drive/MyDrive/Deepfake Dataset/DF Processed FaceOnly/Celeb_fake_face_only/id45_id42_0005.mp4', '/content/drive/MyDrive/Deepfake Dataset/DF Processed FaceOnly/Celeb_fake_face_only/id41_id46_0003.mp4', '/content/drive/MyDrive/Deepfake Dataset/DF Processed FaceOnly/Celeb_fake_face_only/id6_id37_0009.mp4', '/content/drive/MyDrive/Deepfake Dataset/DF Processed FaceOnly/Celeb_fake_face_only/id43_id44_0001.mp4', '/content/drive/MyDrive/Deepfake Dataset/DF Processed FaceOnly/Celeb_fake_face_only/id34_id37_0002.mp4', '/content/drive/MyDrive/Deepfake Dataset/DF Processed FaceOnly/Celeb_fake_face_only/id32_id33_0005.mp4', '/content/drive/MyDrive/Deepfake Dataset/DF Processed FaceOnly/Celeb_fake_face_only/id60_id61_0008.mp4', '/content/drive/MyDrive/Deepfake Dataset/DF Processed FaceOnly/Celeb_fake_face_only/id3_id28_0001.mp4', '/content/drive/MyDrive/Deepfake Dataset/DF Processed FaceOnly/Celeb_fake_face_only/id44_id47_0005.mp4', '/content/drive/MyDrive/Deepfake Dataset/DF Processed FaceOnly/Celeb_fake_face_only/id32_id35_0006.mp4', '/content/drive/MyDrive/Deepfake Dataset/DF Processed FaceOnly/Celeb_fake_face_only/id26_id37_0001.mp4', '/content/drive/MyDrive/Deepfake Dataset/DF Processed FaceOnly/Celeb_fake_face_only/id16_id6_0001.mp4', '/content/drive/MyDrive/Deepfake Dataset/DF Processed FaceOnly/Celeb_fake_face_only/id42_id40_0001.mp4', '/content/drive/MyDrive/Deepfake Dataset/DF Processed FaceOnly/Celeb_fake_face_only/id31_id1_0006.mp4', '/content/drive/MyDrive/Deepfake Dataset/DF Processed FaceOnly/Celeb_fake_face_only/id31_id38_0006.mp4', '/content/drive/MyDrive/Deepfake Dataset/DF Processed FaceOnly/Celeb_fake_face_only/id40_id42_0002.mp4', '/content/drive/MyDrive/Deepfake Dataset/DF Processed FaceOnly/Celeb_fake_face_only/id6_id30_0001.mp4', '/content/drive/MyDrive/Deepfake Dataset/DF Processed FaceOnly/Celeb_fake_face_only/id12_id7_0004.mp4', '/content/drive/MyDrive/Deepfake Dataset/DF Processed FaceOnly/Celeb_fake_face_only/id19_id27_0006.mp4', '/content/drive/MyDrive/Deepfake Dataset/DF Processed FaceOnly/Celeb_fake_face_only/id43_id40_0009.mp4', '/content/drive/MyDrive/Deepfake Dataset/DF Processed FaceOnly/Celeb_fake_face_only/id39_id47_0005.mp4', '/content/drive/MyDrive/Deepfake Dataset/DF Processed FaceOnly/Celeb_fake_face_only/id44_id42_0005.mp4', '/content/drive/MyDrive/Deepfake Dataset/DF Processed FaceOnly/Celeb_fake_face_only/id11_id7_0003.mp4', '/content/drive/MyDrive/Deepfake Dataset/DF Processed FaceOnly/Celeb_fake_face_only/id55_id56_0002.mp4', '/content/drive/MyDrive/Deepfake Dataset/DF Processed FaceOnly/Celeb_fake_face_only/id10_id12_0006.mp4', '/content/drive/MyDrive/Deepfake Dataset/DF Processed FaceOnly/Celeb_fake_face_only/id13_id10_0007.mp4', '/content/drive/MyDrive/Deepfake Dataset/DF Processed FaceOnly/Celeb_fake_face_only/id59_id60_0000.mp4', '/content/drive/MyDrive/Deepfake Dataset/DF Processed FaceOnly/Celeb_fake_face_only/id11_id7_0004.mp4', '/content/drive/MyDrive/Deepfake Dataset/DF Processed FaceOnly/Celeb_fake_face_only/id49_id51_0000.mp4', '/content/drive/MyDrive/Deepfake Dataset/DF Processed FaceOnly/Celeb_fake_face_only/id2_id23_0000.mp4', '/content/drive/MyDrive/Deepfake Dataset/DF Processed FaceOnly/Celeb_fake_face_only/id53_id56_0003.mp4', '/content/drive/MyDrive/Deepfake Dataset/DF Processed FaceOnly/Celeb_fake_face_only/id0_id17_0001.mp4', '/content/drive/MyDrive/Deepfake Dataset/DF Processed FaceOnly/Celeb_fake_face_only/id58_id55_0007.mp4', '/content/drive/MyDrive/Deepfake Dataset/DF Processed FaceOnly/Celeb_fake_face_only/id60_id61_0003.mp4', '/content/drive/MyDrive/Deepfake Dataset/DF Processed FaceOnly/Celeb_fake_face_only/id10_id12_0005.mp4', '/content/drive/MyDrive/Deepfake Dataset/DF Processed FaceOnly/Celeb_fake_face_only/id32_id23_0006.mp4', '/content/drive/MyDrive/Deepfake Dataset/DF Processed FaceOnly/Celeb_fake_face_only/id20_id27_0008.mp4', '/content/drive/MyDrive/Deepfake Dataset/DF Processed FaceOnly/Celeb_fake_face_only/id22_id28_0005.mp4', '/content/drive/MyDrive/Deepfake Dataset/DF Processed FaceOnly/Celeb_fake_face_only/id30_id16_0008.mp4', '/content/drive/MyDrive/Deepfake Dataset/DF Processed FaceOnly/Celeb_fake_face_only/id26_id37_0009.mp4', '/content/drive/MyDrive/Deepfake Dataset/DF Processed FaceOnly/Celeb_fake_face_only/id19_id23_0007.mp4', '/content/drive/MyDrive/Deepfake Dataset/DF Processed FaceOnly/Celeb_fake_face_only/id23_id31_0006.mp4', '/content/drive/MyDrive/Deepfake Dataset/DF Processed FaceOnly/Celeb_fake_face_only/id53_id56_0008.mp4', '/content/drive/MyDrive/Deepfake Dataset/DF Processed FaceOnly/Celeb_fake_face_only/id9_id16_0009.mp4', '/content/drive/MyDrive/Deepfake Dataset/DF Processed FaceOnly/Celeb_fake_face_only/id2_id6_0002.mp4', '/content/drive/MyDrive/Deepfake Dataset/DF Processed FaceOnly/Celeb_fake_face_only/id24_id26_0007.mp4', '/content/drive/MyDrive/Deepfake Dataset/DF Processed FaceOnly/Celeb_fake_face_only/id33_id31_0008.mp4', '/content/drive/MyDrive/Deepfake Dataset/DF Processed FaceOnly/Celeb_fake_face_only/id44_id41_0000.mp4', '/content/drive/MyDrive/Deepfake Dataset/DF Processed FaceOnly/Celeb_fake_face_only/id6_id26_0005.mp4', '/content/drive/MyDrive/Deepfake Dataset/DF Processed FaceOnly/Celeb_fake_face_only/id35_id9_0000.mp4', '/content/drive/MyDrive/Deepfake Dataset/DF Processed FaceOnly/Celeb_fake_face_only/id35_id6_0007.mp4', '/content/drive/MyDrive/Deepfake Dataset/DF Processed FaceOnly/Celeb_fake_face_only/id23_id24_0006.mp4', '/content/drive/MyDrive/Deepfake Dataset/DF Processed FaceOnly/Celeb_fake_face_only/id24_id23_0006.mp4', '/content/drive/MyDrive/Deepfake Dataset/DF Processed FaceOnly/Celeb_fake_face_only/id27_id28_0007.mp4', '/content/drive/MyDrive/Deepfake Dataset/DF Processed FaceOnly/Celeb_fake_face_only/id10_id12_0002.mp4', '/content/drive/MyDrive/Deepfake Dataset/DF Processed FaceOnly/Celeb_fake_face_only/id45_id44_0000.mp4', '/content/drive/MyDrive/Deepfake Dataset/DF Processed FaceOnly/Celeb_fake_face_only/id32_id35_0000.mp4', '/content/drive/MyDrive/Deepfake Dataset/DF Processed FaceOnly/Celeb_fake_face_only/id45_id43_0001.mp4', '/content/drive/MyDrive/Deepfake Dataset/DF Processed FaceOnly/Celeb_fake_face_only/id59_id60_0006.mp4', '/content/drive/MyDrive/Deepfake Dataset/DF Processed FaceOnly/Celeb_fake_face_only/id17_id3_0006.mp4', '/content/drive/MyDrive/Deepfake Dataset/DF Processed FaceOnly/Celeb_fake_face_only/id60_id5_0004.mp4', '/content/drive/MyDrive/Deepfake Dataset/DF Processed FaceOnly/Celeb_fake_face_only/id39_id46_0004.mp4', '/content/drive/MyDrive/Deepfake Dataset/DF Processed FaceOnly/Celeb_fake_face_only/id4_id9_0003.mp4', '/content/drive/MyDrive/Deepfake Dataset/DF Processed FaceOnly/Celeb_fake_face_only/id53_id50_0007.mp4', '/content/drive/MyDrive/Deepfake Dataset/DF Processed FaceOnly/Celeb_fake_face_only/id38_id29_0000.mp4', '/content/drive/MyDrive/Deepfake Dataset/DF Processed FaceOnly/Celeb_fake_face_only/id61_id60_0006.mp4', '/content/drive/MyDrive/Deepfake Dataset/DF Processed FaceOnly/Celeb_fake_face_only/id1_id20_0009.mp4', '/content/drive/MyDrive/Deepfake Dataset/DF Processed FaceOnly/Celeb_fake_face_only/id20_id35_0007.mp4', '/content/drive/MyDrive/Deepfake Dataset/DF Processed FaceOnly/Celeb_fake_face_only/id48_id41_0009.mp4', '/content/drive/MyDrive/Deepfake Dataset/DF Processed FaceOnly/Celeb_fake_face_only/id21_id30_0008.mp4', '/content/drive/MyDrive/Deepfake Dataset/DF Processed FaceOnly/Celeb_fake_face_only/id30_id29_0008.mp4', '/content/drive/MyDrive/Deepfake Dataset/DF Processed FaceOnly/Celeb_fake_face_only/id46_id48_0003.mp4', '/content/drive/MyDrive/Deepfake Dataset/DF Processed FaceOnly/Celeb_fake_face_only/id61_id5_0000.mp4', '/content/drive/MyDrive/Deepfake Dataset/DF Processed FaceOnly/Celeb_fake_face_only/id25_id23_0008.mp4', '/content/drive/MyDrive/Deepfake Dataset/DF Processed FaceOnly/Celeb_fake_face_only/id28_id38_0009.mp4', '/content/drive/MyDrive/Deepfake Dataset/DF Processed FaceOnly/Celeb_fake_face_only/id54_id51_0008.mp4', '/content/drive/MyDrive/Deepfake Dataset/DF Processed FaceOnly/Celeb_fake_face_only/id19_id21_0007.mp4', '/content/drive/MyDrive/Deepfake Dataset/DF Processed FaceOnly/Celeb_fake_face_only/id1_id37_0002.mp4', '/content/drive/MyDrive/Deepfake Dataset/DF Processed FaceOnly/Celeb_fake_face_only/id35_id23_0003.mp4', '/content/drive/MyDrive/Deepfake Dataset/DF Processed FaceOnly/Celeb_fake_face_only/id30_id21_0005.mp4', '/content/drive/MyDrive/Deepfake Dataset/DF Processed FaceOnly/Celeb_fake_face_only/id40_id43_0001.mp4', '/content/drive/MyDrive/Deepfake Dataset/DF Processed FaceOnly/Celeb_fake_face_only/id41_id45_0009.mp4', '/content/drive/MyDrive/Deepfake Dataset/DF Processed FaceOnly/Celeb_fake_face_only/id1_id26_0005.mp4', '/content/drive/MyDrive/Deepfake Dataset/DF Processed FaceOnly/Celeb_fake_face_only/id58_id51_0004.mp4', '/content/drive/MyDrive/Deepfake Dataset/DF Processed FaceOnly/Celeb_fake_face_only/id2_id1_0003.mp4', '/content/drive/MyDrive/Deepfake Dataset/DF Processed FaceOnly/Celeb_fake_face_only/id12_id7_0001.mp4', '/content/drive/MyDrive/Deepfake Dataset/DF Processed FaceOnly/Celeb_fake_face_only/id52_id58_0008.mp4', '/content/drive/MyDrive/Deepfake Dataset/DF Processed FaceOnly/Celeb_fake_face_only/id12_id10_0004.mp4', '/content/drive/MyDrive/Deepfake Dataset/DF Processed FaceOnly/Celeb_fake_face_only/id39_id42_0007.mp4', '/content/drive/MyDrive/Deepfake Dataset/DF Processed FaceOnly/Celeb_fake_face_only/id61_id60_0009.mp4', '/content/drive/MyDrive/Deepfake Dataset/DF Processed FaceOnly/Celeb_fake_face_only/id13_id10_0000.mp4', '/content/drive/MyDrive/Deepfake Dataset/DF Processed FaceOnly/Celeb_fake_face_only/id51_id58_0004.mp4', '/content/drive/MyDrive/Deepfake Dataset/DF Processed FaceOnly/Celeb_fake_face_only/id11_id7_0009.mp4', '/content/drive/MyDrive/Deepfake Dataset/DF Processed FaceOnly/Celeb_fake_face_only/id56_id50_0002.mp4', '/content/drive/MyDrive/Deepfake Dataset/DF Processed FaceOnly/Celeb_fake_face_only/id44_id48_0001.mp4', '/content/drive/MyDrive/Deepfake Dataset/DF Processed FaceOnly/Celeb_fake_face_only/id21_id24_0009.mp4', '/content/drive/MyDrive/Deepfake Dataset/DF Processed FaceOnly/Celeb_fake_face_only/id54_id58_0007.mp4', '/content/drive/MyDrive/Deepfake Dataset/DF Processed FaceOnly/Celeb_fake_face_only/id56_id54_0008.mp4', '/content/drive/MyDrive/Deepfake Dataset/DF Processed FaceOnly/Celeb_fake_face_only/id0_id16_0008.mp4', '/content/drive/MyDrive/Deepfake Dataset/DF Processed FaceOnly/Celeb_fake_face_only/id1_id28_0007.mp4', '/content/drive/MyDrive/Deepfake Dataset/DF Processed FaceOnly/Celeb_fake_face_only/id11_id7_0010.mp4', '/content/drive/MyDrive/Deepfake Dataset/DF Processed FaceOnly/Celeb_fake_face_only/id23_id26_0009.mp4', '/content/drive/MyDrive/Deepfake Dataset/DF Processed FaceOnly/Celeb_fake_face_only/id54_id49_0000.mp4', '/content/drive/MyDrive/Deepfake Dataset/DF Processed FaceOnly/Celeb_fake_face_only/id25_id27_0010.mp4', '/content/drive/MyDrive/Deepfake Dataset/DF Processed FaceOnly/Celeb_fake_face_only/id47_id39_0004.mp4', '/content/drive/MyDrive/Deepfake Dataset/DF Processed FaceOnly/Celeb_fake_face_only/id2_id37_0007.mp4', '/content/drive/MyDrive/Deepfake Dataset/DF Processed FaceOnly/Celeb_fake_face_only/id24_id20_0005.mp4', '/content/drive/MyDrive/Deepfake Dataset/DF Processed FaceOnly/Celeb_fake_face_only/id26_id27_0001.mp4', '/content/drive/MyDrive/Deepfake Dataset/DF Processed FaceOnly/Celeb_fake_face_only/id61_id5_0009.mp4', '/content/drive/MyDrive/Deepfake Dataset/DF Processed FaceOnly/Celeb_fake_face_only/id8_id3_0007.mp4', '/content/drive/MyDrive/Deepfake Dataset/DF Processed FaceOnly/Celeb_fake_face_only/id33_id37_0009.mp4', '/content/drive/MyDrive/Deepfake Dataset/DF Processed FaceOnly/Celeb_fake_face_only/id46_id42_0009.mp4', '/content/drive/MyDrive/Deepfake Dataset/DF Processed FaceOnly/Celeb_fake_face_only/id28_id35_0001.mp4', '/content/drive/MyDrive/Deepfake Dataset/DF Processed FaceOnly/Celeb_fake_face_only/id29_id30_0005.mp4', '/content/drive/MyDrive/Deepfake Dataset/DF Processed FaceOnly/Celeb_fake_face_only/id37_id34_0001.mp4', '/content/drive/MyDrive/Deepfake Dataset/DF Processed FaceOnly/Celeb_fake_face_only/id2_id35_0005.mp4', '/content/drive/MyDrive/Deepfake Dataset/DF Processed FaceOnly/Celeb_fake_face_only/id35_id16_0001.mp4', '/content/drive/MyDrive/Deepfake Dataset/DF Processed FaceOnly/Celeb_fake_face_only/id29_id37_0005.mp4', '/content/drive/MyDrive/Deepfake Dataset/DF Processed FaceOnly/Celeb_fake_face_only/id0_id16_0000.mp4', '/content/drive/MyDrive/Deepfake Dataset/DF Processed FaceOnly/Celeb_fake_face_only/id13_id7_0004.mp4', '/content/drive/MyDrive/Deepfake Dataset/DF Processed FaceOnly/Celeb_fake_face_only/id57_id58_0004.mp4', '/content/drive/MyDrive/Deepfake Dataset/DF Processed FaceOnly/Celeb_fake_face_only/id33_id30_0008.mp4', '/content/drive/MyDrive/Deepfake Dataset/DF Processed FaceOnly/Celeb_fake_face_only/id53_id55_0005.mp4', '/content/drive/MyDrive/Deepfake Dataset/DF Processed FaceOnly/Celeb_fake_face_only/id61_id60_0005.mp4', '/content/drive/MyDrive/Deepfake Dataset/DF Processed FaceOnly/Celeb_fake_face_only/id29_id35_0006.mp4', '/content/drive/MyDrive/Deepfake Dataset/DF Processed FaceOnly/Celeb_fake_face_only/id13_id7_0001.mp4', '/content/drive/MyDrive/Deepfake Dataset/DF Processed FaceOnly/Celeb_fake_face_only/id0_id16_0001.mp4', '/content/drive/MyDrive/Deepfake Dataset/DF Processed FaceOnly/Celeb_fake_face_only/id34_id32_0002.mp4', '/content/drive/MyDrive/Deepfake Dataset/DF Processed FaceOnly/Celeb_fake_face_only/id8_id4_0007.mp4', '/content/drive/MyDrive/Deepfake Dataset/DF Processed FaceOnly/Celeb_fake_face_only/id33_id34_0001.mp4', '/content/drive/MyDrive/Deepfake Dataset/DF Processed FaceOnly/Celeb_fake_face_only/id11_id7_0002.mp4', '/content/drive/MyDrive/Deepfake Dataset/DF Processed FaceOnly/Celeb_fake_face_only/id29_id26_0009.mp4', '/content/drive/MyDrive/Deepfake Dataset/DF Processed FaceOnly/Celeb_fake_face_only/id55_id51_0000.mp4', '/content/drive/MyDrive/Deepfake Dataset/DF Processed FaceOnly/Celeb_fake_face_only/id41_id42_0007.mp4', '/content/drive/MyDrive/Deepfake Dataset/DF Processed FaceOnly/Celeb_fake_face_only/id24_id25_0007.mp4', '/content/drive/MyDrive/Deepfake Dataset/DF Processed FaceOnly/Celeb_fake_face_only/id3_id2_0004.mp4', '/content/drive/MyDrive/Deepfake Dataset/DF Processed FaceOnly/Celeb_fake_face_only/id48_id43_0003.mp4', '/content/drive/MyDrive/Deepfake Dataset/DF Processed FaceOnly/Celeb_fake_face_only/id29_id37_0004.mp4', '/content/drive/MyDrive/Deepfake Dataset/DF Processed FaceOnly/Celeb_fake_face_only/id20_id19_0005.mp4', '/content/drive/MyDrive/Deepfake Dataset/DF Processed FaceOnly/Celeb_fake_face_only/id3_id6_0006.mp4', '/content/drive/MyDrive/Deepfake Dataset/DF Processed FaceOnly/Celeb_fake_face_only/id1_id2_0001.mp4', '/content/drive/MyDrive/Deepfake Dataset/DF Processed FaceOnly/Celeb_fake_face_only/id31_id38_0009.mp4', '/content/drive/MyDrive/Deepfake Dataset/DF Processed FaceOnly/Celeb_fake_face_only/id49_id53_0006.mp4', '/content/drive/MyDrive/Deepfake Dataset/DF Processed FaceOnly/Celeb_real_face_only/id60_0008.mp4', '/content/drive/MyDrive/Deepfake Dataset/DF Processed FaceOnly/Celeb_real_face_only/id26_0005.mp4', '/content/drive/MyDrive/Deepfake Dataset/DF Processed FaceOnly/Celeb_real_face_only/id16_0011.mp4', '/content/drive/MyDrive/Deepfake Dataset/DF Processed FaceOnly/Celeb_real_face_only/id3_0005.mp4', '/content/drive/MyDrive/Deepfake Dataset/DF Processed FaceOnly/Celeb_real_face_only/id2_0002.mp4', '/content/drive/MyDrive/Deepfake Dataset/DF Processed FaceOnly/Celeb_real_face_only/id40_0000.mp4', '/content/drive/MyDrive/Deepfake Dataset/DF Processed FaceOnly/Celeb_real_face_only/id1_0006.mp4', '/content/drive/MyDrive/Deepfake Dataset/DF Processed FaceOnly/Celeb_real_face_only/id20_0002.mp4', '/content/drive/MyDrive/Deepfake Dataset/DF Processed FaceOnly/Celeb_real_face_only/id21_0008.mp4', '/content/drive/MyDrive/Deepfake Dataset/DF Processed FaceOnly/Celeb_real_face_only/id37_0006.mp4', '/content/drive/MyDrive/Deepfake Dataset/DF Processed FaceOnly/Celeb_real_face_only/id5_0004.mp4', '/content/drive/MyDrive/Deepfake Dataset/DF Processed FaceOnly/Celeb_real_face_only/id31_0004.mp4', '/content/drive/MyDrive/Deepfake Dataset/DF Processed FaceOnly/Celeb_real_face_only/id56_0008.mp4', '/content/drive/MyDrive/Deepfake Dataset/DF Processed FaceOnly/Celeb_real_face_only/id56_0002.mp4', '/content/drive/MyDrive/Deepfake Dataset/DF Processed FaceOnly/Celeb_real_face_only/id50_0007.mp4', '/content/drive/MyDrive/Deepfake Dataset/DF Processed FaceOnly/Celeb_real_face_only/id58_0005.mp4', '/content/drive/MyDrive/Deepfake Dataset/DF Processed FaceOnly/Celeb_real_face_only/id55_0001.mp4', '/content/drive/MyDrive/Deepfake Dataset/DF Processed FaceOnly/Celeb_real_face_only/id25_0004.mp4', '/content/drive/MyDrive/Deepfake Dataset/DF Processed FaceOnly/Celeb_real_face_only/id49_0003.mp4', '/content/drive/MyDrive/Deepfake Dataset/DF Processed FaceOnly/Celeb_real_face_only/id50_0004.mp4', '/content/drive/MyDrive/Deepfake Dataset/DF Processed FaceOnly/Celeb_real_face_only/id25_0003.mp4', '/content/drive/MyDrive/Deepfake Dataset/DF Processed FaceOnly/Celeb_real_face_only/id36_0002.mp4', '/content/drive/MyDrive/Deepfake Dataset/DF Processed FaceOnly/Celeb_real_face_only/id7_0003.mp4', '/content/drive/MyDrive/Deepfake Dataset/DF Processed FaceOnly/Celeb_real_face_only/id32_0009.mp4', '/content/drive/MyDrive/Deepfake Dataset/DF Processed FaceOnly/Celeb_real_face_only/id54_0005.mp4', '/content/drive/MyDrive/Deepfake Dataset/DF Processed FaceOnly/Celeb_real_face_only/id49_0004.mp4', '/content/drive/MyDrive/Deepfake Dataset/DF Processed FaceOnly/Celeb_real_face_only/id59_0009.mp4', '/content/drive/MyDrive/Deepfake Dataset/DF Processed FaceOnly/Celeb_real_face_only/id38_0008.mp4', '/content/drive/MyDrive/Deepfake Dataset/DF Processed FaceOnly/Celeb_real_face_only/id1_0002.mp4', '/content/drive/MyDrive/Deepfake Dataset/DF Processed FaceOnly/Celeb_real_face_only/id21_0001.mp4', '/content/drive/MyDrive/Deepfake Dataset/DF Processed FaceOnly/Celeb_real_face_only/id35_0006.mp4', '/content/drive/MyDrive/Deepfake Dataset/DF Processed FaceOnly/Celeb_real_face_only/id61_0002.mp4', '/content/drive/MyDrive/Deepfake Dataset/DF Processed FaceOnly/Celeb_real_face_only/id56_0003.mp4', '/content/drive/MyDrive/Deepfake Dataset/DF Processed FaceOnly/Celeb_real_face_only/id40_0003.mp4', '/content/drive/MyDrive/Deepfake Dataset/DF Processed FaceOnly/Celeb_real_face_only/id22_0001.mp4', '/content/drive/MyDrive/Deepfake Dataset/DF Processed FaceOnly/Celeb_real_face_only/id26_0002.mp4', '/content/drive/MyDrive/Deepfake Dataset/DF Processed FaceOnly/Celeb_real_face_only/id11_0009.mp4', '/content/drive/MyDrive/Deepfake Dataset/DF Processed FaceOnly/Celeb_real_face_only/id2_0005.mp4', '/content/drive/MyDrive/Deepfake Dataset/DF Processed FaceOnly/Celeb_real_face_only/id42_0002.mp4', '/content/drive/MyDrive/Deepfake Dataset/DF Processed FaceOnly/Celeb_real_face_only/id38_0005.mp4', '/content/drive/MyDrive/Deepfake Dataset/DF Processed FaceOnly/Celeb_real_face_only/id13_0000.mp4', '/content/drive/MyDrive/Deepfake Dataset/DF Processed FaceOnly/Celeb_real_face_only/id7_0008.mp4', '/content/drive/MyDrive/Deepfake Dataset/DF Processed FaceOnly/Celeb_real_face_only/id58_0006.mp4', '/content/drive/MyDrive/Deepfake Dataset/DF Processed FaceOnly/Celeb_real_face_only/id8_0006.mp4', '/content/drive/MyDrive/Deepfake Dataset/DF Processed FaceOnly/Celeb_real_face_only/id4_0009.mp4', '/content/drive/MyDrive/Deepfake Dataset/DF Processed FaceOnly/Celeb_real_face_only/id3_0000.mp4', '/content/drive/MyDrive/Deepfake Dataset/DF Processed FaceOnly/Celeb_real_face_only/id21_0003.mp4', '/content/drive/MyDrive/Deepfake Dataset/DF Processed FaceOnly/Celeb_real_face_only/id55_0009.mp4', '/content/drive/MyDrive/Deepfake Dataset/DF Processed FaceOnly/Celeb_real_face_only/id5_0007.mp4', '/content/drive/MyDrive/Deepfake Dataset/DF Processed FaceOnly/Celeb_real_face_only/id0_0004.mp4', '/content/drive/MyDrive/Deepfake Dataset/DF Processed FaceOnly/Celeb_real_face_only/id40_0007.mp4', '/content/drive/MyDrive/Deepfake Dataset/DF Processed FaceOnly/Celeb_real_face_only/id37_0005.mp4', '/content/drive/MyDrive/Deepfake Dataset/DF Processed FaceOnly/Celeb_real_face_only/id26_0007.mp4', '/content/drive/MyDrive/Deepfake Dataset/DF Processed FaceOnly/Celeb_real_face_only/id60_0004.mp4', '/content/drive/MyDrive/Deepfake Dataset/DF Processed FaceOnly/Celeb_real_face_only/id29_0009.mp4', '/content/drive/MyDrive/Deepfake Dataset/DF Processed FaceOnly/Celeb_real_face_only/id7_0009.mp4', '/content/drive/MyDrive/Deepfake Dataset/DF Processed FaceOnly/Celeb_real_face_only/id25_0002.mp4', '/content/drive/MyDrive/Deepfake Dataset/DF Processed FaceOnly/Celeb_real_face_only/id41_0007.mp4', '/content/drive/MyDrive/Deepfake Dataset/DF Processed FaceOnly/Celeb_real_face_only/id59_0007.mp4', '/content/drive/MyDrive/Deepfake Dataset/DF Processed FaceOnly/Celeb_real_face_only/id24_0003.mp4', '/content/drive/MyDrive/Deepfake Dataset/DF Processed FaceOnly/Celeb_real_face_only/id53_0008.mp4', '/content/drive/MyDrive/Deepfake Dataset/DF Processed FaceOnly/Celeb_real_face_only/id9_0009.mp4', '/content/drive/MyDrive/Deepfake Dataset/DF Processed FaceOnly/Celeb_real_face_only/id36_0006.mp4', '/content/drive/MyDrive/Deepfake Dataset/DF Processed FaceOnly/Celeb_real_face_only/id13_0010.mp4', '/content/drive/MyDrive/Deepfake Dataset/DF Processed FaceOnly/Celeb_real_face_only/id31_0009.mp4', '/content/drive/MyDrive/Deepfake Dataset/DF Processed FaceOnly/Celeb_real_face_only/id54_0008.mp4', '/content/drive/MyDrive/Deepfake Dataset/DF Processed FaceOnly/Celeb_real_face_only/id19_0004.mp4', '/content/drive/MyDrive/Deepfake Dataset/DF Processed FaceOnly/Celeb_real_face_only/id0_0000.mp4', '/content/drive/MyDrive/Deepfake Dataset/DF Processed FaceOnly/Celeb_real_face_only/id23_0000.mp4', '/content/drive/MyDrive/Deepfake Dataset/DF Processed FaceOnly/Celeb_real_face_only/id39_0001.mp4', '/content/drive/MyDrive/Deepfake Dataset/DF Processed FaceOnly/Celeb_real_face_only/id52_0004.mp4', '/content/drive/MyDrive/Deepfake Dataset/DF Processed FaceOnly/Celeb_real_face_only/id25_0001.mp4', '/content/drive/MyDrive/Deepfake Dataset/DF Processed FaceOnly/Celeb_real_face_only/id61_0001.mp4', '/content/drive/MyDrive/Deepfake Dataset/DF Processed FaceOnly/Celeb_real_face_only/id39_0000.mp4', '/content/drive/MyDrive/Deepfake Dataset/DF Processed FaceOnly/Celeb_real_face_only/id52_0005.mp4', '/content/drive/MyDrive/Deepfake Dataset/DF Processed FaceOnly/Celeb_real_face_only/id13_0004.mp4', '/content/drive/MyDrive/Deepfake Dataset/DF Processed FaceOnly/Celeb_real_face_only/id54_0000.mp4', '/content/drive/MyDrive/Deepfake Dataset/DF Processed FaceOnly/Celeb_real_face_only/id40_0001.mp4', '/content/drive/MyDrive/Deepfake Dataset/DF Processed FaceOnly/Celeb_real_face_only/id29_0004.mp4', '/content/drive/MyDrive/Deepfake Dataset/DF Processed FaceOnly/Celeb_real_face_only/id46_0008.mp4', '/content/drive/MyDrive/Deepfake Dataset/DF Processed FaceOnly/Celeb_real_face_only/id5_0009.mp4', '/content/drive/MyDrive/Deepfake Dataset/DF Processed FaceOnly/Celeb_real_face_only/id42_0001.mp4', '/content/drive/MyDrive/Deepfake Dataset/DF Processed FaceOnly/Celeb_real_face_only/id31_0003.mp4', '/content/drive/MyDrive/Deepfake Dataset/DF Processed FaceOnly/Celeb_real_face_only/id21_0006.mp4', '/content/drive/MyDrive/Deepfake Dataset/DF Processed FaceOnly/Celeb_real_face_only/id13_0005.mp4', '/content/drive/MyDrive/Deepfake Dataset/DF Processed FaceOnly/Celeb_real_face_only/id44_0003.mp4', '/content/drive/MyDrive/Deepfake Dataset/DF Processed FaceOnly/Celeb_real_face_only/id19_0001.mp4', '/content/drive/MyDrive/Deepfake Dataset/DF Processed FaceOnly/Celeb_real_face_only/id12_0002.mp4', '/content/drive/MyDrive/Deepfake Dataset/DF Processed FaceOnly/Celeb_real_face_only/id2_0007.mp4', '/content/drive/MyDrive/Deepfake Dataset/DF Processed FaceOnly/Celeb_real_face_only/id27_0001.mp4', '/content/drive/MyDrive/Deepfake Dataset/DF Processed FaceOnly/Celeb_real_face_only/id2_0001.mp4', '/content/drive/MyDrive/Deepfake Dataset/DF Processed FaceOnly/Celeb_real_face_only/id56_0004.mp4', '/content/drive/MyDrive/Deepfake Dataset/DF Processed FaceOnly/Celeb_real_face_only/id13_0008.mp4', '/content/drive/MyDrive/Deepfake Dataset/DF Processed FaceOnly/Celeb_real_face_only/id34_0003.mp4', '/content/drive/MyDrive/Deepfake Dataset/DF Processed FaceOnly/Celeb_real_face_only/id8_0000.mp4', '/content/drive/MyDrive/Deepfake Dataset/DF Processed FaceOnly/Celeb_real_face_only/id22_0006.mp4', '/content/drive/MyDrive/Deepfake Dataset/DF Processed FaceOnly/Celeb_real_face_only/id25_0000.mp4', '/content/drive/MyDrive/Deepfake Dataset/DF Processed FaceOnly/Celeb_real_face_only/id60_0003.mp4', '/content/drive/MyDrive/Deepfake Dataset/DF Processed FaceOnly/Celeb_real_face_only/id13_0001.mp4', '/content/drive/MyDrive/Deepfake Dataset/DF Processed FaceOnly/Celeb_real_face_only/id47_0005.mp4', '/content/drive/MyDrive/Deepfake Dataset/DF Processed FaceOnly/Celeb_real_face_only/id5_0003.mp4', '/content/drive/MyDrive/Deepfake Dataset/DF Processed FaceOnly/Celeb_real_face_only/id39_0007.mp4', '/content/drive/MyDrive/Deepfake Dataset/DF Processed FaceOnly/Celeb_real_face_only/id24_0005.mp4', '/content/drive/MyDrive/Deepfake Dataset/DF Processed FaceOnly/Celeb_real_face_only/id24_0001.mp4', '/content/drive/MyDrive/Deepfake Dataset/DF Processed FaceOnly/Celeb_real_face_only/id7_0005.mp4', '/content/drive/MyDrive/Deepfake Dataset/DF Processed FaceOnly/Celeb_real_face_only/id9_0006.mp4', '/content/drive/MyDrive/Deepfake Dataset/DF Processed FaceOnly/Celeb_real_face_only/id41_0005.mp4', '/content/drive/MyDrive/Deepfake Dataset/DF Processed FaceOnly/Celeb_real_face_only/id0_0007.mp4', '/content/drive/MyDrive/Deepfake Dataset/DF Processed FaceOnly/Celeb_real_face_only/id30_0001.mp4', '/content/drive/MyDrive/Deepfake Dataset/DF Processed FaceOnly/Celeb_real_face_only/id12_0001.mp4', '/content/drive/MyDrive/Deepfake Dataset/DF Processed FaceOnly/Celeb_real_face_only/id37_0003.mp4', '/content/drive/MyDrive/Deepfake Dataset/DF Processed FaceOnly/Celeb_real_face_only/id4_0000.mp4', '/content/drive/MyDrive/Deepfake Dataset/DF Processed FaceOnly/Celeb_real_face_only/id3_0001.mp4', '/content/drive/MyDrive/Deepfake Dataset/DF Processed FaceOnly/Celeb_real_face_only/id35_0001.mp4', '/content/drive/MyDrive/Deepfake Dataset/DF Processed FaceOnly/Celeb_real_face_only/id57_0008.mp4', '/content/drive/MyDrive/Deepfake Dataset/DF Processed FaceOnly/Celeb_real_face_only/id60_0006.mp4', '/content/drive/MyDrive/Deepfake Dataset/DF Processed FaceOnly/Celeb_real_face_only/id32_0007.mp4', '/content/drive/MyDrive/Deepfake Dataset/DF Processed FaceOnly/Celeb_real_face_only/id6_0005.mp4', '/content/drive/MyDrive/Deepfake Dataset/DF Processed FaceOnly/Celeb_real_face_only/id58_0007.mp4', '/content/drive/MyDrive/Deepfake Dataset/DF Processed FaceOnly/Celeb_real_face_only/id4_0004.mp4', '/content/drive/MyDrive/Deepfake Dataset/DF Processed FaceOnly/Celeb_real_face_only/id23_0002.mp4', '/content/drive/MyDrive/Deepfake Dataset/DF Processed FaceOnly/Celeb_real_face_only/id21_0007.mp4', '/content/drive/MyDrive/Deepfake Dataset/DF Processed FaceOnly/Celeb_real_face_only/id8_0001.mp4', '/content/drive/MyDrive/Deepfake Dataset/DF Processed FaceOnly/Celeb_real_face_only/id5_0008.mp4', '/content/drive/MyDrive/Deepfake Dataset/DF Processed FaceOnly/Celeb_real_face_only/id59_0004.mp4', '/content/drive/MyDrive/Deepfake Dataset/DF Processed FaceOnly/Celeb_real_face_only/id13_0012.mp4', '/content/drive/MyDrive/Deepfake Dataset/DF Processed FaceOnly/Celeb_real_face_only/id16_0003.mp4', '/content/drive/MyDrive/Deepfake Dataset/DF Processed FaceOnly/Celeb_real_face_only/id46_0001.mp4', '/content/drive/MyDrive/Deepfake Dataset/DF Processed FaceOnly/Celeb_real_face_only/id6_0002.mp4', '/content/drive/MyDrive/Deepfake Dataset/DF Processed FaceOnly/Celeb_real_face_only/id48_0000.mp4', '/content/drive/MyDrive/Deepfake Dataset/DF Processed FaceOnly/Celeb_real_face_only/id51_0000.mp4', '/content/drive/MyDrive/Deepfake Dataset/DF Processed FaceOnly/Celeb_real_face_only/id21_0004.mp4', '/content/drive/MyDrive/Deepfake Dataset/DF Processed FaceOnly/Celeb_real_face_only/id27_0006.mp4', '/content/drive/MyDrive/Deepfake Dataset/DF Processed FaceOnly/Celeb_real_face_only/id30_0002.mp4', '/content/drive/MyDrive/Deepfake Dataset/DF Processed FaceOnly/Celeb_real_face_only/id40_0002.mp4', '/content/drive/MyDrive/Deepfake Dataset/DF Processed FaceOnly/Celeb_real_face_only/id47_0008.mp4', '/content/drive/MyDrive/Deepfake Dataset/DF Processed FaceOnly/Celeb_real_face_only/id3_0007.mp4', '/content/drive/MyDrive/Deepfake Dataset/DF Processed FaceOnly/Celeb_real_face_only/id51_0001.mp4', '/content/drive/MyDrive/Deepfake Dataset/DF Processed FaceOnly/Celeb_real_face_only/id37_0007.mp4', '/content/drive/MyDrive/Deepfake Dataset/DF Processed FaceOnly/Celeb_real_face_only/id8_0003.mp4', '/content/drive/MyDrive/Deepfake Dataset/DF Processed FaceOnly/Celeb_real_face_only/id23_0008.mp4', '/content/drive/MyDrive/Deepfake Dataset/DF Processed FaceOnly/Celeb_real_face_only/id16_0002.mp4', '/content/drive/MyDrive/Deepfake Dataset/DF Processed FaceOnly/Celeb_real_face_only/id48_0005.mp4', '/content/drive/MyDrive/Deepfake Dataset/DF Processed FaceOnly/Celeb_real_face_only/id33_0007.mp4', '/content/drive/MyDrive/Deepfake Dataset/DF Processed FaceOnly/Celeb_real_face_only/id19_0007.mp4', '/content/drive/MyDrive/Deepfake Dataset/DF Processed FaceOnly/Celeb_real_face_only/id42_0004.mp4', '/content/drive/MyDrive/Deepfake Dataset/DF Processed FaceOnly/Celeb_real_face_only/id6_0003.mp4', '/content/drive/MyDrive/Deepfake Dataset/DF Processed FaceOnly/Celeb_real_face_only/id35_0008.mp4', '/content/drive/MyDrive/Deepfake Dataset/DF Processed FaceOnly/Celeb_real_face_only/id0_0005.mp4', '/content/drive/MyDrive/Deepfake Dataset/DF Processed FaceOnly/Celeb_real_face_only/id7_0001.mp4', '/content/drive/MyDrive/Deepfake Dataset/DF Processed FaceOnly/Celeb_real_face_only/id41_0006.mp4', '/content/drive/MyDrive/Deepfake Dataset/DF Processed FaceOnly/Celeb_real_face_only/id5_0002.mp4', '/content/drive/MyDrive/Deepfake Dataset/DF Processed FaceOnly/Celeb_real_face_only/id7_0004.mp4', '/content/drive/MyDrive/Deepfake Dataset/DF Processed FaceOnly/Celeb_real_face_only/id28_0001.mp4', '/content/drive/MyDrive/Deepfake Dataset/DF Processed FaceOnly/Celeb_real_face_only/id57_0007.mp4', '/content/drive/MyDrive/Deepfake Dataset/DF Processed FaceOnly/Celeb_real_face_only/id48_0004.mp4', '/content/drive/MyDrive/Deepfake Dataset/DF Processed FaceOnly/Celeb_real_face_only/id44_0002.mp4', '/content/drive/MyDrive/Deepfake Dataset/DF Processed FaceOnly/Celeb_real_face_only/id8_0005.mp4', '/content/drive/MyDrive/Deepfake Dataset/DF Processed FaceOnly/Celeb_real_face_only/id13_0009.mp4', '/content/drive/MyDrive/Deepfake Dataset/DF Processed FaceOnly/Celeb_real_face_only/id27_0008.mp4', '/content/drive/MyDrive/Deepfake Dataset/DF Processed FaceOnly/Celeb_real_face_only/id49_0008.mp4', '/content/drive/MyDrive/Deepfake Dataset/DF Processed FaceOnly/Celeb_real_face_only/id34_0002.mp4', '/content/drive/MyDrive/Deepfake Dataset/DF Processed FaceOnly/Celeb_real_face_only/id16_0006.mp4', '/content/drive/MyDrive/Deepfake Dataset/DF Processed FaceOnly/Celeb_real_face_only/id30_0006.mp4', '/content/drive/MyDrive/Deepfake Dataset/DF Processed FaceOnly/Celeb_real_face_only/id57_0002.mp4', '/content/drive/MyDrive/Deepfake Dataset/DF Processed FaceOnly/Celeb_real_face_only/id35_0000.mp4', '/content/drive/MyDrive/Deepfake Dataset/DF Processed FaceOnly/Celeb_real_face_only/id46_0000.mp4', '/content/drive/MyDrive/Deepfake Dataset/DF Processed FaceOnly/Celeb_real_face_only/id35_0009.mp4', '/content/drive/MyDrive/Deepfake Dataset/DF Processed FaceOnly/Celeb_real_face_only/id44_0000.mp4', '/content/drive/MyDrive/Deepfake Dataset/DF Processed FaceOnly/Celeb_real_face_only/id22_0009.mp4', '/content/drive/MyDrive/Deepfake Dataset/DF Processed FaceOnly/Celeb_real_face_only/id31_0006.mp4', '/content/drive/MyDrive/Deepfake Dataset/DF Processed FaceOnly/Celeb_real_face_only/id37_0000.mp4', '/content/drive/MyDrive/Deepfake Dataset/DF Processed FaceOnly/Celeb_real_face_only/id35_0003.mp4', '/content/drive/MyDrive/Deepfake Dataset/DF Processed FaceOnly/Celeb_real_face_only/id59_0006.mp4', '/content/drive/MyDrive/Deepfake Dataset/DF Processed FaceOnly/Celeb_real_face_only/id45_0000.mp4', '/content/drive/MyDrive/Deepfake Dataset/DF Processed FaceOnly/Celeb_real_face_only/id48_0006.mp4', '/content/drive/MyDrive/Deepfake Dataset/DF Processed FaceOnly/Celeb_real_face_only/id17_0004.mp4', '/content/drive/MyDrive/Deepfake Dataset/DF Processed FaceOnly/Celeb_real_face_only/id51_0004.mp4', '/content/drive/MyDrive/Deepfake Dataset/DF Processed FaceOnly/Celeb_real_face_only/id27_0000.mp4', '/content/drive/MyDrive/Deepfake Dataset/DF Processed FaceOnly/Celeb_real_face_only/id1_0007.mp4', '/content/drive/MyDrive/Deepfake Dataset/DF Processed FaceOnly/Celeb_real_face_only/id22_0000.mp4', '/content/drive/MyDrive/Deepfake Dataset/DF Processed FaceOnly/Celeb_real_face_only/id32_0000.mp4', '/content/drive/MyDrive/Deepfake Dataset/DF Processed FaceOnly/Celeb_real_face_only/id25_0010.mp4', '/content/drive/MyDrive/Deepfake Dataset/DF Processed FaceOnly/Celeb_real_face_only/id50_0002.mp4', '/content/drive/MyDrive/Deepfake Dataset/DF Processed FaceOnly/Celeb_real_face_only/id43_0009.mp4', '/content/drive/MyDrive/Deepfake Dataset/DF Processed FaceOnly/Celeb_real_face_only/id13_0014.mp4', '/content/drive/MyDrive/Deepfake Dataset/DF Processed FaceOnly/Celeb_real_face_only/id34_0008.mp4', '/content/drive/MyDrive/Deepfake Dataset/DF Processed FaceOnly/Celeb_real_face_only/id45_0008.mp4', '/content/drive/MyDrive/Deepfake Dataset/DF Processed FaceOnly/Celeb_real_face_only/id40_0004.mp4', '/content/drive/MyDrive/Deepfake Dataset/DF Processed FaceOnly/Celeb_real_face_only/id42_0003.mp4', '/content/drive/MyDrive/Deepfake Dataset/DF Processed FaceOnly/Celeb_real_face_only/id7_0006.mp4', '/content/drive/MyDrive/Deepfake Dataset/DF Processed FaceOnly/Celeb_real_face_only/id50_0001.mp4', '/content/drive/MyDrive/Deepfake Dataset/DF Processed FaceOnly/Celeb_real_face_only/id35_0004.mp4', '/content/drive/MyDrive/Deepfake Dataset/DF Processed FaceOnly/Celeb_real_face_only/id35_0005.mp4', '/content/drive/MyDrive/Deepfake Dataset/DF Processed FaceOnly/Celeb_real_face_only/id19_0006.mp4', '/content/drive/MyDrive/Deepfake Dataset/DF Processed FaceOnly/Celeb_real_face_only/id58_0001.mp4', '/content/drive/MyDrive/Deepfake Dataset/DF Processed FaceOnly/Celeb_real_face_only/id26_0004.mp4', '/content/drive/MyDrive/Deepfake Dataset/DF Processed FaceOnly/Celeb_real_face_only/id0_0002.mp4', '/content/drive/MyDrive/Deepfake Dataset/DF Processed FaceOnly/Celeb_real_face_only/id40_0008.mp4', '/content/drive/MyDrive/Deepfake Dataset/DF Processed FaceOnly/Celeb_real_face_only/id10_0003.mp4', '/content/drive/MyDrive/Deepfake Dataset/DF Processed FaceOnly/Celeb_real_face_only/id59_0005.mp4', '/content/drive/MyDrive/Deepfake Dataset/DF Processed FaceOnly/Celeb_real_face_only/id17_0005.mp4', '/content/drive/MyDrive/Deepfake Dataset/DF Processed FaceOnly/Celeb_real_face_only/id9_0007.mp4', '/content/drive/MyDrive/Deepfake Dataset/DF Processed FaceOnly/Celeb_real_face_only/id20_0009.mp4', '/content/drive/MyDrive/Deepfake Dataset/DF Processed FaceOnly/Celeb_real_face_only/id38_0003.mp4', '/content/drive/MyDrive/Deepfake Dataset/DF Processed FaceOnly/Celeb_real_face_only/id36_0008.mp4', '/content/drive/MyDrive/Deepfake Dataset/DF Processed FaceOnly/Celeb_real_face_only/id27_0003.mp4', '/content/drive/MyDrive/Deepfake Dataset/DF Processed FaceOnly/Celeb_real_face_only/id43_0007.mp4', '/content/drive/MyDrive/Deepfake Dataset/DF Processed FaceOnly/Celeb_real_face_only/id24_0002.mp4', '/content/drive/MyDrive/Deepfake Dataset/DF Processed FaceOnly/Celeb_real_face_only/id47_0000.mp4', '/content/drive/MyDrive/Deepfake Dataset/DF Processed FaceOnly/Celeb_real_face_only/id31_0008.mp4', '/content/drive/MyDrive/Deepfake Dataset/DF Processed FaceOnly/Celeb_real_face_only/id36_0001.mp4', '/content/drive/MyDrive/Deepfake Dataset/DF Processed FaceOnly/Celeb_real_face_only/id25_0006.mp4', '/content/drive/MyDrive/Deepfake Dataset/DF Processed FaceOnly/Celeb_real_face_only/id29_0005.mp4', '/content/drive/MyDrive/Deepfake Dataset/DF Processed FaceOnly/Celeb_real_face_only/id39_0004.mp4', '/content/drive/MyDrive/Deepfake Dataset/DF Processed FaceOnly/Celeb_real_face_only/id58_0002.mp4', '/content/drive/MyDrive/Deepfake Dataset/DF Processed FaceOnly/Celeb_real_face_only/id10_0007.mp4', '/content/drive/MyDrive/Deepfake Dataset/DF Processed FaceOnly/Celeb_real_face_only/id12_0005.mp4', '/content/drive/MyDrive/Deepfake Dataset/DF Processed FaceOnly/Celeb_real_face_only/id44_0004.mp4', '/content/drive/MyDrive/Deepfake Dataset/DF Processed FaceOnly/Celeb_real_face_only/id26_0009.mp4', '/content/drive/MyDrive/Deepfake Dataset/DF Processed FaceOnly/Celeb_real_face_only/id30_0008.mp4', '/content/drive/MyDrive/Deepfake Dataset/DF Processed FaceOnly/Celeb_real_face_only/id60_0000.mp4', '/content/drive/MyDrive/Deepfake Dataset/DF Processed FaceOnly/Celeb_real_face_only/id7_0002.mp4', '/content/drive/MyDrive/Deepfake Dataset/DF Processed FaceOnly/Celeb_real_face_only/id37_0002.mp4', '/content/drive/MyDrive/Deepfake Dataset/DF Processed FaceOnly/Celeb_real_face_only/id61_0003.mp4', '/content/drive/MyDrive/Deepfake Dataset/DF Processed FaceOnly/Celeb_real_face_only/id59_0001.mp4', '/content/drive/MyDrive/Deepfake Dataset/DF Processed FaceOnly/Celeb_real_face_only/id32_0002.mp4', '/content/drive/MyDrive/Deepfake Dataset/DF Processed FaceOnly/Celeb_real_face_only/id19_0009.mp4', '/content/drive/MyDrive/Deepfake Dataset/DF Processed FaceOnly/Celeb_real_face_only/id10_0002.mp4', '/content/drive/MyDrive/Deepfake Dataset/DF Processed FaceOnly/Celeb_real_face_only/id13_0011.mp4', '/content/drive/MyDrive/Deepfake Dataset/DF Processed FaceOnly/Celeb_real_face_only/id11_0010.mp4', '/content/drive/MyDrive/Deepfake Dataset/DF Processed FaceOnly/Celeb_real_face_only/id3_0004.mp4', '/content/drive/MyDrive/Deepfake Dataset/DF Processed FaceOnly/Celeb_real_face_only/id33_0000.mp4', '/content/drive/MyDrive/Deepfake Dataset/DF Processed FaceOnly/Celeb_real_face_only/id55_0006.mp4', '/content/drive/MyDrive/Deepfake Dataset/DF Processed FaceOnly/Celeb_real_face_only/id22_0003.mp4', '/content/drive/MyDrive/Deepfake Dataset/DF Processed FaceOnly/Celeb_real_face_only/id59_0008.mp4', '/content/drive/MyDrive/Deepfake Dataset/DF Processed FaceOnly/Celeb_real_face_only/id41_0002.mp4', '/content/drive/MyDrive/Deepfake Dataset/DF Processed FaceOnly/Celeb_real_face_only/id13_0013.mp4', '/content/drive/MyDrive/Deepfake Dataset/DF Processed FaceOnly/Celeb_real_face_only/id57_0000.mp4', '/content/drive/MyDrive/Deepfake Dataset/DF Processed FaceOnly/Celeb_real_face_only/id2_0009.mp4', '/content/drive/MyDrive/Deepfake Dataset/DF Processed FaceOnly/Celeb_real_face_only/id54_0003.mp4', '/content/drive/MyDrive/Deepfake Dataset/DF Processed FaceOnly/Celeb_real_face_only/id25_0009.mp4', '/content/drive/MyDrive/Deepfake Dataset/DF Processed FaceOnly/Celeb_real_face_only/id32_0006.mp4', '/content/drive/MyDrive/Deepfake Dataset/DF Processed FaceOnly/Celeb_real_face_only/id61_0006.mp4', '/content/drive/MyDrive/Deepfake Dataset/DF Processed FaceOnly/Celeb_real_face_only/id51_0003.mp4', '/content/drive/MyDrive/Deepfake Dataset/DF Processed FaceOnly/Celeb_real_face_only/id38_0007.mp4', '/content/drive/MyDrive/Deepfake Dataset/DF Processed FaceOnly/Celeb_real_face_only/id6_0001.mp4', '/content/drive/MyDrive/Deepfake Dataset/DF Processed FaceOnly/Celeb_real_face_only/id52_0002.mp4', '/content/drive/MyDrive/Deepfake Dataset/DF Processed FaceOnly/Celeb_real_face_only/id48_0007.mp4', '/content/drive/MyDrive/Deepfake Dataset/DF Processed FaceOnly/Celeb_real_face_only/id5_0001.mp4', '/content/drive/MyDrive/Deepfake Dataset/DF Processed FaceOnly/Celeb_real_face_only/id48_0001.mp4', '/content/drive/MyDrive/Deepfake Dataset/DF Processed FaceOnly/Celeb_real_face_only/id10_0006.mp4', '/content/drive/MyDrive/Deepfake Dataset/DF Processed FaceOnly/Celeb_real_face_only/id49_0002.mp4', '/content/drive/MyDrive/Deepfake Dataset/DF Processed FaceOnly/Celeb_real_face_only/id1_0001.mp4', '/content/drive/MyDrive/Deepfake Dataset/DF Processed FaceOnly/Celeb_real_face_only/id27_0004.mp4', '/content/drive/MyDrive/Deepfake Dataset/DF Processed FaceOnly/Celeb_real_face_only/id9_0003.mp4', '/content/drive/MyDrive/Deepfake Dataset/DF Processed FaceOnly/Celeb_real_face_only/id28_0009.mp4', '/content/drive/MyDrive/Deepfake Dataset/DF Processed FaceOnly/Celeb_real_face_only/id17_0001.mp4', '/content/drive/MyDrive/Deepfake Dataset/DF Processed FaceOnly/Celeb_real_face_only/id36_0007.mp4', '/content/drive/MyDrive/Deepfake Dataset/DF Processed FaceOnly/Celeb_real_face_only/id1_0003.mp4', '/content/drive/MyDrive/Deepfake Dataset/DF Processed FaceOnly/Celeb_real_face_only/id8_0009.mp4', '/content/drive/MyDrive/Deepfake Dataset/DF Processed FaceOnly/Celeb_real_face_only/id53_0001.mp4', '/content/drive/MyDrive/Deepfake Dataset/DF Processed FaceOnly/Celeb_real_face_only/id31_0007.mp4', '/content/drive/MyDrive/Deepfake Dataset/DF Processed FaceOnly/Celeb_real_face_only/id46_0005.mp4', '/content/drive/MyDrive/Deepfake Dataset/DF Processed FaceOnly/Celeb_real_face_only/id47_0001.mp4', '/content/drive/MyDrive/Deepfake Dataset/DF Processed FaceOnly/Celeb_real_face_only/id49_0007.mp4', '/content/drive/MyDrive/Deepfake Dataset/DF Processed FaceOnly/Celeb_real_face_only/id54_0002.mp4', '/content/drive/MyDrive/Deepfake Dataset/DF Processed FaceOnly/Celeb_real_face_only/id28_0003.mp4', '/content/drive/MyDrive/Deepfake Dataset/DF Processed FaceOnly/Celeb_real_face_only/id23_0001.mp4', '/content/drive/MyDrive/Deepfake Dataset/DF Processed FaceOnly/Celeb_real_face_only/id9_0002.mp4', '/content/drive/MyDrive/Deepfake Dataset/DF Processed FaceOnly/Celeb_real_face_only/id27_0002.mp4', '/content/drive/MyDrive/Deepfake Dataset/DF Processed FaceOnly/Celeb_real_face_only/id20_0008.mp4', '/content/drive/MyDrive/Deepfake Dataset/DF Processed FaceOnly/Celeb_real_face_only/id6_0004.mp4', '/content/drive/MyDrive/Deepfake Dataset/DF Processed FaceOnly/Celeb_real_face_only/id1_0000.mp4', '/content/drive/MyDrive/Deepfake Dataset/DF Processed FaceOnly/Celeb_real_face_only/id49_0006.mp4', '/content/drive/MyDrive/Deepfake Dataset/DF Processed FaceOnly/Celeb_real_face_only/id35_0007.mp4', '/content/drive/MyDrive/Deepfake Dataset/DF Processed FaceOnly/Celeb_real_face_only/id34_0009.mp4', '/content/drive/MyDrive/Deepfake Dataset/DF Processed FaceOnly/Celeb_real_face_only/id3_0003.mp4', '/content/drive/MyDrive/Deepfake Dataset/DF Processed FaceOnly/Celeb_real_face_only/id19_0003.mp4', '/content/drive/MyDrive/Deepfake Dataset/DF Processed FaceOnly/Celeb_real_face_only/id56_0000.mp4', '/content/drive/MyDrive/Deepfake Dataset/DF Processed FaceOnly/Celeb_real_face_only/id40_0009.mp4', '/content/drive/MyDrive/Deepfake Dataset/DF Processed FaceOnly/Celeb_real_face_only/id3_0006.mp4', '/content/drive/MyDrive/Deepfake Dataset/DF Processed FaceOnly/Celeb_real_face_only/id45_0002.mp4', '/content/drive/MyDrive/Deepfake Dataset/DF Processed FaceOnly/Celeb_real_face_only/id60_0001.mp4', '/content/drive/MyDrive/Deepfake Dataset/DF Processed FaceOnly/Celeb_real_face_only/id55_0002.mp4', '/content/drive/MyDrive/Deepfake Dataset/DF Processed FaceOnly/Celeb_real_face_only/id8_0007.mp4', '/content/drive/MyDrive/Deepfake Dataset/DF Processed FaceOnly/Celeb_real_face_only/id47_0009.mp4', '/content/drive/MyDrive/Deepfake Dataset/DF Processed FaceOnly/Celeb_real_face_only/id17_0003.mp4', '/content/drive/MyDrive/Deepfake Dataset/DF Processed FaceOnly/Celeb_real_face_only/id51_0005.mp4', '/content/drive/MyDrive/Deepfake Dataset/DF Processed FaceOnly/Celeb_real_face_only/id55_0000.mp4', '/content/drive/MyDrive/Deepfake Dataset/DF Processed FaceOnly/Celeb_real_face_only/id3_0009.mp4', '/content/drive/MyDrive/Deepfake Dataset/DF Processed FaceOnly/Celeb_real_face_only/id16_0004.mp4', '/content/drive/MyDrive/Deepfake Dataset/DF Processed FaceOnly/Celeb_real_face_only/id28_0007.mp4', '/content/drive/MyDrive/Deepfake Dataset/DF Processed FaceOnly/Celeb_real_face_only/id52_0009.mp4', '/content/drive/MyDrive/Deepfake Dataset/DF Processed FaceOnly/Celeb_real_face_only/id52_0008.mp4', '/content/drive/MyDrive/Deepfake Dataset/DF Processed FaceOnly/Celeb_real_face_only/id28_0006.mp4', '/content/drive/MyDrive/Deepfake Dataset/DF Processed FaceOnly/Celeb_real_face_only/id26_0000.mp4', '/content/drive/MyDrive/Deepfake Dataset/DF Processed FaceOnly/Celeb_real_face_only/id16_0013.mp4', '/content/drive/MyDrive/Deepfake Dataset/DF Processed FaceOnly/Celeb_real_face_only/id56_0009.mp4', '/content/drive/MyDrive/Deepfake Dataset/DF Processed FaceOnly/Celeb_real_face_only/id22_0004.mp4', '/content/drive/MyDrive/Deepfake Dataset/DF Processed FaceOnly/Celeb_real_face_only/id57_0004.mp4', '/content/drive/MyDrive/Deepfake Dataset/DF Processed FaceOnly/Celeb_real_face_only/id19_0005.mp4', '/content/drive/MyDrive/Deepfake Dataset/DF Processed FaceOnly/Celeb_real_face_only/id60_0007.mp4', '/content/drive/MyDrive/Deepfake Dataset/DF Processed FaceOnly/Celeb_real_face_only/id33_0005.mp4', '/content/drive/MyDrive/Deepfake Dataset/DF Processed FaceOnly/Celeb_real_face_only/id9_0008.mp4', '/content/drive/MyDrive/Deepfake Dataset/DF Processed FaceOnly/Celeb_real_face_only/id2_0008.mp4', '/content/drive/MyDrive/Deepfake Dataset/DF Processed FaceOnly/Celeb_real_face_only/id10_0008.mp4', '/content/drive/MyDrive/Deepfake Dataset/DF Processed FaceOnly/Celeb_real_face_only/id11_0002.mp4', '/content/drive/MyDrive/Deepfake Dataset/DF Processed FaceOnly/Celeb_real_face_only/id0_0006.mp4', '/content/drive/MyDrive/Deepfake Dataset/DF Processed FaceOnly/Celeb_real_face_only/id55_0005.mp4', '/content/drive/MyDrive/Deepfake Dataset/DF Processed FaceOnly/Celeb_real_face_only/id30_0003.mp4', '/content/drive/MyDrive/Deepfake Dataset/DF Processed FaceOnly/Celeb_real_face_only/id57_0003.mp4', '/content/drive/MyDrive/Deepfake Dataset/DF Processed FaceOnly/Celeb_real_face_only/id58_0009.mp4', '/content/drive/MyDrive/Deepfake Dataset/DF Processed FaceOnly/Celeb_real_face_only/id61_0000.mp4', '/content/drive/MyDrive/Deepfake Dataset/DF Processed FaceOnly/Celeb_real_face_only/id51_0006.mp4', '/content/drive/MyDrive/Deepfake Dataset/DF Processed FaceOnly/Celeb_real_face_only/id17_0008.mp4', '/content/drive/MyDrive/Deepfake Dataset/DF Processed FaceOnly/Celeb_real_face_only/id51_0007.mp4', '/content/drive/MyDrive/Deepfake Dataset/DF Processed FaceOnly/Celeb_real_face_only/id23_0003.mp4', '/content/drive/MyDrive/Deepfake Dataset/DF Processed FaceOnly/Celeb_real_face_only/id13_0002.mp4', '/content/drive/MyDrive/Deepfake Dataset/DF Processed FaceOnly/Celeb_real_face_only/id54_0006.mp4', '/content/drive/MyDrive/Deepfake Dataset/DF Processed FaceOnly/Celeb_real_face_only/id16_0008.mp4', '/content/drive/MyDrive/Deepfake Dataset/DF Processed FaceOnly/Celeb_real_face_only/id33_0004.mp4', '/content/drive/MyDrive/Deepfake Dataset/DF Processed FaceOnly/Celeb_real_face_only/id41_0001.mp4', '/content/drive/MyDrive/Deepfake Dataset/DF Processed FaceOnly/Celeb_real_face_only/id26_0006.mp4', '/content/drive/MyDrive/Deepfake Dataset/DF Processed FaceOnly/Celeb_real_face_only/id43_0002.mp4', '/content/drive/MyDrive/Deepfake Dataset/DF Processed FaceOnly/Celeb_real_face_only/id16_0012.mp4', '/content/drive/MyDrive/Deepfake Dataset/DF Processed FaceOnly/Celeb_real_face_only/id54_0004.mp4', '/content/drive/MyDrive/Deepfake Dataset/DF Processed FaceOnly/Celeb_real_face_only/id32_0008.mp4', '/content/drive/MyDrive/Deepfake Dataset/DF Processed FaceOnly/Celeb_real_face_only/id61_0008.mp4', '/content/drive/MyDrive/Deepfake Dataset/DF Processed FaceOnly/Celeb_real_face_only/id9_0001.mp4', '/content/drive/MyDrive/Deepfake Dataset/DF Processed FaceOnly/Celeb_real_face_only/id25_0005.mp4', '/content/drive/MyDrive/Deepfake Dataset/DF Processed FaceOnly/Celeb_real_face_only/id29_0002.mp4', '/content/drive/MyDrive/Deepfake Dataset/DF Processed FaceOnly/Celeb_real_face_only/id61_0009.mp4', '/content/drive/MyDrive/Deepfake Dataset/DF Processed FaceOnly/Celeb_real_face_only/id53_0009.mp4', '/content/drive/MyDrive/Deepfake Dataset/DF Processed FaceOnly/Celeb_real_face_only/id2_0006.mp4', '/content/drive/MyDrive/Deepfake Dataset/DF Processed FaceOnly/Celeb_real_face_only/id4_0001.mp4', '/content/drive/MyDrive/Deepfake Dataset/DF Processed FaceOnly/Celeb_real_face_only/id47_0002.mp4', '/content/drive/MyDrive/Deepfake Dataset/DF Processed FaceOnly/Celeb_real_face_only/id53_0003.mp4', '/content/drive/MyDrive/Deepfake Dataset/DF Processed FaceOnly/Celeb_real_face_only/id39_0002.mp4', '/content/drive/MyDrive/Deepfake Dataset/DF Processed FaceOnly/Celeb_real_face_only/id24_0004.mp4', '/content/drive/MyDrive/Deepfake Dataset/DF Processed FaceOnly/Celeb_real_face_only/id26_0008.mp4', '/content/drive/MyDrive/Deepfake Dataset/DF Processed FaceOnly/Celeb_real_face_only/id36_0003.mp4', '/content/drive/MyDrive/Deepfake Dataset/DF Processed FaceOnly/Celeb_real_face_only/id29_0006.mp4', '/content/drive/MyDrive/Deepfake Dataset/DF Processed FaceOnly/Celeb_real_face_only/id26_0001.mp4', '/content/drive/MyDrive/Deepfake Dataset/DF Processed FaceOnly/Celeb_real_face_only/id61_0005.mp4', '/content/drive/MyDrive/Deepfake Dataset/DF Processed FaceOnly/Celeb_real_face_only/id53_0005.mp4', '/content/drive/MyDrive/Deepfake Dataset/DF Processed FaceOnly/Celeb_real_face_only/id47_0004.mp4', '/content/drive/MyDrive/Deepfake Dataset/DF Processed FaceOnly/Celeb_real_face_only/id58_0000.mp4', '/content/drive/MyDrive/Deepfake Dataset/DF Processed FaceOnly/Celeb_real_face_only/id36_0000.mp4', '/content/drive/MyDrive/Deepfake Dataset/DF Processed FaceOnly/Celeb_real_face_only/id33_0008.mp4', '/content/drive/MyDrive/Deepfake Dataset/DF Processed FaceOnly/Celeb_real_face_only/id11_0007.mp4', '/content/drive/MyDrive/Deepfake Dataset/DF Processed FaceOnly/Celeb_real_face_only/id36_0009.mp4', '/content/drive/MyDrive/Deepfake Dataset/DF Processed FaceOnly/Celeb_real_face_only/id41_0003.mp4', '/content/drive/MyDrive/Deepfake Dataset/DF Processed FaceOnly/Celeb_real_face_only/id34_0005.mp4', '/content/drive/MyDrive/Deepfake Dataset/DF Processed FaceOnly/Celeb_real_face_only/id34_0001.mp4', '/content/drive/MyDrive/Deepfake Dataset/DF Processed FaceOnly/Celeb_real_face_only/id43_0005.mp4', '/content/drive/MyDrive/Deepfake Dataset/DF Processed FaceOnly/Celeb_real_face_only/id23_0006.mp4', '/content/drive/MyDrive/Deepfake Dataset/DF Processed FaceOnly/Celeb_real_face_only/id21_0000.mp4', '/content/drive/MyDrive/Deepfake Dataset/DF Processed FaceOnly/Celeb_real_face_only/id51_0008.mp4', '/content/drive/MyDrive/Deepfake Dataset/DF Processed FaceOnly/Celeb_real_face_only/id33_0003.mp4', '/content/drive/MyDrive/Deepfake Dataset/DF Processed FaceOnly/Celeb_real_face_only/id57_0006.mp4', '/content/drive/MyDrive/Deepfake Dataset/DF Processed FaceOnly/Celeb_real_face_only/id46_0003.mp4', '/content/drive/MyDrive/Deepfake Dataset/DF Processed FaceOnly/Celeb_real_face_only/id19_0002.mp4', '/content/drive/MyDrive/Deepfake Dataset/DF Processed FaceOnly/Celeb_real_face_only/id30_0005.mp4', '/content/drive/MyDrive/Deepfake Dataset/DF Processed FaceOnly/Celeb_real_face_only/id30_0000.mp4', '/content/drive/MyDrive/Deepfake Dataset/DF Processed FaceOnly/Celeb_real_face_only/id16_0001.mp4', '/content/drive/MyDrive/Deepfake Dataset/DF Processed FaceOnly/Celeb_real_face_only/id6_0007.mp4', '/content/drive/MyDrive/Deepfake Dataset/DF Processed FaceOnly/Celeb_real_face_only/id45_0007.mp4', '/content/drive/MyDrive/Deepfake Dataset/DF Processed FaceOnly/Celeb_real_face_only/id24_0008.mp4', '/content/drive/MyDrive/Deepfake Dataset/DF Processed FaceOnly/Celeb_real_face_only/id10_0005.mp4', '/content/drive/MyDrive/Deepfake Dataset/DF Processed FaceOnly/Celeb_real_face_only/id52_0007.mp4', '/content/drive/MyDrive/Deepfake Dataset/DF Processed FaceOnly/Celeb_real_face_only/id27_0007.mp4', '/content/drive/MyDrive/Deepfake Dataset/DF Processed FaceOnly/Celeb_real_face_only/id22_0008.mp4', '/content/drive/MyDrive/Deepfake Dataset/DF Processed FaceOnly/Celeb_real_face_only/id33_0001.mp4', '/content/drive/MyDrive/Deepfake Dataset/DF Processed FaceOnly/Celeb_real_face_only/id4_0003.mp4', '/content/drive/MyDrive/Deepfake Dataset/DF Processed FaceOnly/Celeb_real_face_only/id2_0004.mp4', '/content/drive/MyDrive/Deepfake Dataset/DF Processed FaceOnly/Celeb_real_face_only/id11_0004.mp4', '/content/drive/MyDrive/Deepfake Dataset/DF Processed FaceOnly/Celeb_real_face_only/id56_0001.mp4', '/content/drive/MyDrive/Deepfake Dataset/DF Processed FaceOnly/Celeb_real_face_only/id10_0000.mp4', '/content/drive/MyDrive/Deepfake Dataset/DF Processed FaceOnly/Celeb_real_face_only/id35_0002.mp4', '/content/drive/MyDrive/Deepfake Dataset/DF Processed FaceOnly/Celeb_real_face_only/id50_0003.mp4', '/content/drive/MyDrive/Deepfake Dataset/DF Processed FaceOnly/Celeb_real_face_only/id21_0005.mp4', '/content/drive/MyDrive/Deepfake Dataset/DF Processed FaceOnly/Celeb_real_face_only/id36_0004.mp4', '/content/drive/MyDrive/Deepfake Dataset/DF Processed FaceOnly/Celeb_real_face_only/id46_0006.mp4', '/content/drive/MyDrive/Deepfake Dataset/DF Processed FaceOnly/Celeb_real_face_only/id32_0001.mp4', '/content/drive/MyDrive/Deepfake Dataset/DF Processed FaceOnly/Celeb_real_face_only/id16_0007.mp4', '/content/drive/MyDrive/Deepfake Dataset/DF Processed FaceOnly/Celeb_real_face_only/id59_0000.mp4', '/content/drive/MyDrive/Deepfake Dataset/DF Processed FaceOnly/Celeb_real_face_only/id12_0000.mp4', '/content/drive/MyDrive/Deepfake Dataset/DF Processed FaceOnly/Celeb_real_face_only/id30_0004.mp4', '/content/drive/MyDrive/Deepfake Dataset/DF Processed FaceOnly/Celeb_real_face_only/id45_0003.mp4', '/content/drive/MyDrive/Deepfake Dataset/DF Processed FaceOnly/Celeb_real_face_only/id24_0009.mp4', '/content/drive/MyDrive/Deepfake Dataset/DF Processed FaceOnly/Celeb_real_face_only/id38_0000.mp4', '/content/drive/MyDrive/Deepfake Dataset/DF Processed FaceOnly/Celeb_real_face_only/id39_0006.mp4', '/content/drive/MyDrive/Deepfake Dataset/DF Processed FaceOnly/Celeb_real_face_only/id37_0009.mp4', '/content/drive/MyDrive/Deepfake Dataset/DF Processed FaceOnly/Celeb_real_face_only/id51_0002.mp4', '/content/drive/MyDrive/Deepfake Dataset/DF Processed FaceOnly/Celeb_real_face_only/id20_0004.mp4', '/content/drive/MyDrive/Deepfake Dataset/DF Processed FaceOnly/Celeb_real_face_only/id24_0007.mp4', '/content/drive/MyDrive/Deepfake Dataset/DF Processed FaceOnly/Celeb_real_face_only/id61_0004.mp4', '/content/drive/MyDrive/Deepfake Dataset/DF Processed FaceOnly/Celeb_real_face_only/id38_0009.mp4', '/content/drive/MyDrive/Deepfake Dataset/DF Processed FaceOnly/Celeb_real_face_only/id32_0004.mp4', '/content/drive/MyDrive/Deepfake Dataset/DF Processed FaceOnly/Celeb_real_face_only/id45_0009.mp4', '/content/drive/MyDrive/Deepfake Dataset/DF Processed FaceOnly/Celeb_real_face_only/id20_0006.mp4', '/content/drive/MyDrive/Deepfake Dataset/DF Processed FaceOnly/Celeb_real_face_only/id34_0007.mp4', '/content/drive/MyDrive/Deepfake Dataset/DF Processed FaceOnly/Celeb_real_face_only/id23_0004.mp4', '/content/drive/MyDrive/Deepfake Dataset/DF Processed FaceOnly/Celeb_real_face_only/id28_0004.mp4', '/content/drive/MyDrive/Deepfake Dataset/DF Processed FaceOnly/Celeb_real_face_only/id3_0002.mp4', '/content/drive/MyDrive/Deepfake Dataset/DF Processed FaceOnly/Celeb_real_face_only/id43_0000.mp4', '/content/drive/MyDrive/Deepfake Dataset/DF Processed FaceOnly/Celeb_real_face_only/id33_0002.mp4', '/content/drive/MyDrive/Deepfake Dataset/DF Processed FaceOnly/Celeb_real_face_only/id49_0001.mp4', '/content/drive/MyDrive/Deepfake Dataset/DF Processed FaceOnly/Celeb_real_face_only/id21_0002.mp4', '/content/drive/MyDrive/Deepfake Dataset/DF Processed FaceOnly/Celeb_real_face_only/id11_0000.mp4', '/content/drive/MyDrive/Deepfake Dataset/DF Processed FaceOnly/Celeb_real_face_only/id1_0009.mp4', '/content/drive/MyDrive/Deepfake Dataset/DF Processed FaceOnly/Celeb_real_face_only/id53_0002.mp4', '/content/drive/MyDrive/Deepfake Dataset/DF Processed FaceOnly/Celeb_real_face_only/id1_0005.mp4', '/content/drive/MyDrive/Deepfake Dataset/DF Processed FaceOnly/Celeb_real_face_only/id44_0001.mp4', '/content/drive/MyDrive/Deepfake Dataset/DF Processed FaceOnly/Celeb_real_face_only/id1_0004.mp4', '/content/drive/MyDrive/Deepfake Dataset/DF Processed FaceOnly/Celeb_real_face_only/id9_0005.mp4', '/content/drive/MyDrive/Deepfake Dataset/DF Processed FaceOnly/Celeb_real_face_only/id39_0003.mp4', '/content/drive/MyDrive/Deepfake Dataset/DF Processed FaceOnly/Celeb_real_face_only/id22_0005.mp4', '/content/drive/MyDrive/Deepfake Dataset/DF Processed FaceOnly/Celeb_real_face_only/id56_0006.mp4', '/content/drive/MyDrive/Deepfake Dataset/DF Processed FaceOnly/Celeb_real_face_only/id11_0001.mp4', '/content/drive/MyDrive/Deepfake Dataset/DF Processed FaceOnly/Celeb_real_face_only/id45_0006.mp4', '/content/drive/MyDrive/Deepfake Dataset/DF Processed FaceOnly/Celeb_real_face_only/id59_0003.mp4', '/content/drive/MyDrive/Deepfake Dataset/DF Processed FaceOnly/Celeb_real_face_only/id13_0007.mp4', '/content/drive/MyDrive/Deepfake Dataset/DF Processed FaceOnly/Celeb_real_face_only/id34_0000.mp4', '/content/drive/MyDrive/Deepfake Dataset/DF Processed FaceOnly/Celeb_real_face_only/id0_0008.mp4', '/content/drive/MyDrive/Deepfake Dataset/DF Processed FaceOnly/Celeb_real_face_only/id20_0001.mp4', '/content/drive/MyDrive/Deepfake Dataset/DF Processed FaceOnly/Celeb_real_face_only/id52_0003.mp4', '/content/drive/MyDrive/Deepfake Dataset/DF Processed FaceOnly/Celeb_real_face_only/id49_0005.mp4', '/content/drive/MyDrive/Deepfake Dataset/DF Processed FaceOnly/Celeb_real_face_only/id32_0005.mp4', '/content/drive/MyDrive/Deepfake Dataset/DF Processed FaceOnly/Celeb_real_face_only/id52_0001.mp4', '/content/drive/MyDrive/Deepfake Dataset/DF Processed FaceOnly/Celeb_real_face_only/id58_0004.mp4', '/content/drive/MyDrive/Deepfake Dataset/DF Processed FaceOnly/Celeb_real_face_only/id60_0005.mp4', '/content/drive/MyDrive/Deepfake Dataset/DF Processed FaceOnly/Celeb_real_face_only/id29_0007.mp4', '/content/drive/MyDrive/Deepfake Dataset/DF Processed FaceOnly/Celeb_real_face_only/id28_0008.mp4', '/content/drive/MyDrive/Deepfake Dataset/DF Processed FaceOnly/Celeb_real_face_only/id50_0009.mp4', '/content/drive/MyDrive/Deepfake Dataset/DF Processed FaceOnly/Celeb_real_face_only/id27_0009.mp4', '/content/drive/MyDrive/Deepfake Dataset/DF Processed FaceOnly/Celeb_real_face_only/id8_0004.mp4', '/content/drive/MyDrive/Deepfake Dataset/DF Processed FaceOnly/Celeb_real_face_only/id12_0004.mp4', '/content/drive/MyDrive/Deepfake Dataset/DF Processed FaceOnly/Celeb_real_face_only/id60_0002.mp4', '/content/drive/MyDrive/Deepfake Dataset/DF Processed FaceOnly/Celeb_real_face_only/id45_0004.mp4', '/content/drive/MyDrive/Deepfake Dataset/DF Processed FaceOnly/Celeb_real_face_only/id33_0009.mp4', '/content/drive/MyDrive/Deepfake Dataset/DF Processed FaceOnly/Celeb_real_face_only/id39_0008.mp4', '/content/drive/MyDrive/Deepfake Dataset/DF Processed FaceOnly/Celeb_real_face_only/id5_0006.mp4', '/content/drive/MyDrive/Deepfake Dataset/DF Processed FaceOnly/Celeb_real_face_only/id31_0002.mp4', '/content/drive/MyDrive/Deepfake Dataset/DF Processed FaceOnly/Celeb_real_face_only/id12_0003.mp4', '/content/drive/MyDrive/Deepfake Dataset/DF Processed FaceOnly/Celeb_real_face_only/id55_0003.mp4', '/content/drive/MyDrive/Deepfake Dataset/DF Processed FaceOnly/Celeb_real_face_only/id12_0006.mp4', '/content/drive/MyDrive/Deepfake Dataset/DF Processed FaceOnly/Celeb_real_face_only/id53_0000.mp4', '/content/drive/MyDrive/Deepfake Dataset/DF Processed FaceOnly/Celeb_real_face_only/id38_0006.mp4', '/content/drive/MyDrive/Deepfake Dataset/DF Processed FaceOnly/Celeb_real_face_only/id38_0002.mp4', '/content/drive/MyDrive/Deepfake Dataset/DF Processed FaceOnly/Celeb_real_face_only/id48_0002.mp4', '/content/drive/MyDrive/Deepfake Dataset/DF Processed FaceOnly/Celeb_real_face_only/id3_0008.mp4', '/content/drive/MyDrive/Deepfake Dataset/DF Processed FaceOnly/Celeb_real_face_only/id54_0001.mp4', '/content/drive/MyDrive/Deepfake Dataset/DF Processed FaceOnly/Celeb_real_face_only/id20_0000.mp4', '/content/drive/MyDrive/Deepfake Dataset/DF Processed FaceOnly/Celeb_real_face_only/id39_0009.mp4', '/content/drive/MyDrive/Deepfake Dataset/DF Processed FaceOnly/Celeb_real_face_only/id0_0003.mp4', '/content/drive/MyDrive/Deepfake Dataset/DF Processed FaceOnly/Celeb_real_face_only/id30_0007.mp4', '/content/drive/MyDrive/Deepfake Dataset/DF Processed FaceOnly/Celeb_real_face_only/id28_0005.mp4', '/content/drive/MyDrive/Deepfake Dataset/DF Processed FaceOnly/Celeb_real_face_only/id53_0007.mp4', '/content/drive/MyDrive/Deepfake Dataset/DF Processed FaceOnly/Celeb_real_face_only/id17_0002.mp4', '/content/drive/MyDrive/Deepfake Dataset/DF Processed FaceOnly/Celeb_real_face_only/id30_0009.mp4', '/content/drive/MyDrive/Deepfake Dataset/DF Processed FaceOnly/Celeb_real_face_only/id26_0003.mp4', '/content/drive/MyDrive/Deepfake Dataset/DF Processed FaceOnly/Celeb_real_face_only/id16_0009.mp4', '/content/drive/MyDrive/Deepfake Dataset/DF Processed FaceOnly/Celeb_real_face_only/id9_0004.mp4', '/content/drive/MyDrive/Deepfake Dataset/DF Processed FaceOnly/Celeb_real_face_only/id53_0004.mp4', '/content/drive/MyDrive/Deepfake Dataset/DF Processed FaceOnly/Celeb_real_face_only/id52_0006.mp4', '/content/drive/MyDrive/Deepfake Dataset/DF Processed FaceOnly/Celeb_real_face_only/id44_0005.mp4', '/content/drive/MyDrive/Deepfake Dataset/DF Processed FaceOnly/Celeb_real_face_only/id39_0005.mp4', '/content/drive/MyDrive/Deepfake Dataset/DF Processed FaceOnly/Celeb_real_face_only/id43_0001.mp4', '/content/drive/MyDrive/Deepfake Dataset/DF Processed FaceOnly/Celeb_real_face_only/id38_0001.mp4', '/content/drive/MyDrive/Deepfake Dataset/DF Processed FaceOnly/Celeb_real_face_only/id21_0009.mp4', '/content/drive/MyDrive/Deepfake Dataset/DF Processed FaceOnly/Celeb_real_face_only/id28_0002.mp4', '/content/drive/MyDrive/Deepfake Dataset/DF Processed FaceOnly/Celeb_real_face_only/id4_0002.mp4', '/content/drive/MyDrive/Deepfake Dataset/DF Processed FaceOnly/Celeb_real_face_only/id37_0004.mp4', '/content/drive/MyDrive/Deepfake Dataset/DF Processed FaceOnly/Celeb_real_face_only/id50_0006.mp4', '/content/drive/MyDrive/Deepfake Dataset/DF Processed FaceOnly/Celeb_real_face_only/id20_0007.mp4', '/content/drive/MyDrive/Deepfake Dataset/DF Processed FaceOnly/Celeb_real_face_only/id16_0010.mp4', '/content/drive/MyDrive/Deepfake Dataset/DF Processed FaceOnly/Celeb_real_face_only/id57_0001.mp4', '/content/drive/MyDrive/Deepfake Dataset/DF Processed FaceOnly/Celeb_real_face_only/id47_0006.mp4', '/content/drive/MyDrive/Deepfake Dataset/DF Processed FaceOnly/Celeb_real_face_only/id28_0000.mp4', '/content/drive/MyDrive/Deepfake Dataset/DF Processed FaceOnly/Celeb_real_face_only/id48_0008.mp4', '/content/drive/MyDrive/Deepfake Dataset/DF Processed FaceOnly/Celeb_real_face_only/id16_0000.mp4', '/content/drive/MyDrive/Deepfake Dataset/DF Processed FaceOnly/Celeb_real_face_only/id6_0008.mp4', '/content/drive/MyDrive/Deepfake Dataset/DF Processed FaceOnly/Celeb_real_face_only/id31_0005.mp4', '/content/drive/MyDrive/Deepfake Dataset/DF Processed FaceOnly/Celeb_real_face_only/id47_0007.mp4', '/content/drive/MyDrive/Deepfake Dataset/DF Processed FaceOnly/Celeb_real_face_only/id8_0002.mp4', '/content/drive/MyDrive/Deepfake Dataset/DF Processed FaceOnly/Celeb_real_face_only/id6_0009.mp4', '/content/drive/MyDrive/Deepfake Dataset/DF Processed FaceOnly/Celeb_real_face_only/id16_0005.mp4', '/content/drive/MyDrive/Deepfake Dataset/DF Processed FaceOnly/Celeb_real_face_only/id34_0004.mp4', '/content/drive/MyDrive/Deepfake Dataset/DF Processed FaceOnly/Celeb_real_face_only/id17_0007.mp4', '/content/drive/MyDrive/Deepfake Dataset/DF Processed FaceOnly/Celeb_real_face_only/id4_0006.mp4', '/content/drive/MyDrive/Deepfake Dataset/DF Processed FaceOnly/Celeb_real_face_only/id43_0004.mp4', '/content/drive/MyDrive/Deepfake Dataset/DF Processed FaceOnly/Celeb_real_face_only/id29_0003.mp4', '/content/drive/MyDrive/Deepfake Dataset/DF Processed FaceOnly/Celeb_real_face_only/id60_0009.mp4', '/content/drive/MyDrive/Deepfake Dataset/DF Processed FaceOnly/Celeb_real_face_only/id46_0009.mp4', '/content/drive/MyDrive/Deepfake Dataset/DF Processed FaceOnly/Celeb_real_face_only/id23_0007.mp4', '/content/drive/MyDrive/Deepfake Dataset/DF Processed FaceOnly/Celeb_real_face_only/id48_0003.mp4', '/content/drive/MyDrive/Deepfake Dataset/DF Processed FaceOnly/Celeb_real_face_only/id57_0005.mp4', '/content/drive/MyDrive/Deepfake Dataset/DF Processed FaceOnly/Celeb_real_face_only/id6_0000.mp4', '/content/drive/MyDrive/Deepfake Dataset/DF Processed FaceOnly/Celeb_real_face_only/id50_0008.mp4', '/content/drive/MyDrive/Deepfake Dataset/DF Processed FaceOnly/Celeb_real_face_only/id24_0006.mp4', '/content/drive/MyDrive/Deepfake Dataset/DF Processed FaceOnly/Celeb_real_face_only/id40_0006.mp4', '/content/drive/MyDrive/Deepfake Dataset/DF Processed FaceOnly/Celeb_real_face_only/id48_0009.mp4', '/content/drive/MyDrive/Deepfake Dataset/DF Processed FaceOnly/Celeb_real_face_only/id7_0000.mp4', '/content/drive/MyDrive/Deepfake Dataset/DF Processed FaceOnly/Celeb_real_face_only/id49_0009.mp4', '/content/drive/MyDrive/Deepfake Dataset/DF Processed FaceOnly/Celeb_real_face_only/id24_0000.mp4', '/content/drive/MyDrive/Deepfake Dataset/DF Processed FaceOnly/Celeb_real_face_only/id45_0001.mp4', '/content/drive/MyDrive/Deepfake Dataset/DF Processed FaceOnly/Celeb_real_face_only/id31_0001.mp4', '/content/drive/MyDrive/Deepfake Dataset/DF Processed FaceOnly/Celeb_real_face_only/id13_0006.mp4', '/content/drive/MyDrive/Deepfake Dataset/DF Processed FaceOnly/Celeb_real_face_only/id43_0008.mp4', '/content/drive/MyDrive/Deepfake Dataset/DF Processed FaceOnly/Celeb_real_face_only/id29_0001.mp4', '/content/drive/MyDrive/Deepfake Dataset/DF Processed FaceOnly/Celeb_real_face_only/id0_0001.mp4', '/content/drive/MyDrive/Deepfake Dataset/DF Processed FaceOnly/Celeb_real_face_only/id32_0003.mp4', '/content/drive/MyDrive/Deepfake Dataset/DF Processed FaceOnly/Celeb_real_face_only/id55_0008.mp4', '/content/drive/MyDrive/Deepfake Dataset/DF Processed FaceOnly/Celeb_real_face_only/id37_0008.mp4', '/content/drive/MyDrive/Deepfake Dataset/DF Processed FaceOnly/Celeb_real_face_only/id54_0009.mp4', '/content/drive/MyDrive/Deepfake Dataset/DF Processed FaceOnly/Celeb_real_face_only/id23_0005.mp4', '/content/drive/MyDrive/Deepfake Dataset/DF Processed FaceOnly/Celeb_real_face_only/id40_0005.mp4', '/content/drive/MyDrive/Deepfake Dataset/DF Processed FaceOnly/Celeb_real_face_only/id34_0006.mp4', '/content/drive/MyDrive/Deepfake Dataset/DF Processed FaceOnly/Celeb_real_face_only/id8_0008.mp4', '/content/drive/MyDrive/Deepfake Dataset/DF Processed FaceOnly/Celeb_real_face_only/id33_0006.mp4', '/content/drive/MyDrive/Deepfake Dataset/DF Processed FaceOnly/Celeb_real_face_only/id22_0002.mp4', '/content/drive/MyDrive/Deepfake Dataset/DF Processed FaceOnly/Celeb_real_face_only/id29_0000.mp4', '/content/drive/MyDrive/Deepfake Dataset/DF Processed FaceOnly/Celeb_real_face_only/id37_0001.mp4', '/content/drive/MyDrive/Deepfake Dataset/DF Processed FaceOnly/Celeb_real_face_only/id61_0007.mp4', '/content/drive/MyDrive/Deepfake Dataset/DF Processed FaceOnly/Celeb_real_face_only/id20_0005.mp4', '/content/drive/MyDrive/Deepfake Dataset/DF Processed FaceOnly/Celeb_real_face_only/id10_0009.mp4', '/content/drive/MyDrive/Deepfake Dataset/DF Processed FaceOnly/Celeb_real_face_only/id43_0006.mp4', '/content/drive/MyDrive/Deepfake Dataset/DF Processed FaceOnly/Celeb_real_face_only/id41_0004.mp4', '/content/drive/MyDrive/Deepfake Dataset/DF Processed FaceOnly/Celeb_real_face_only/id59_0002.mp4', '/content/drive/MyDrive/Deepfake Dataset/DF Processed FaceOnly/Celeb_real_face_only/id13_0003.mp4', '/content/drive/MyDrive/Deepfake Dataset/DF Processed FaceOnly/Celeb_real_face_only/id46_0007.mp4', '/content/drive/MyDrive/Deepfake Dataset/DF Processed FaceOnly/Celeb_real_face_only/id2_0003.mp4', '/content/drive/MyDrive/Deepfake Dataset/DF Processed FaceOnly/Celeb_real_face_only/id17_0006.mp4', '/content/drive/MyDrive/Deepfake Dataset/DF Processed FaceOnly/Celeb_real_face_only/id41_0000.mp4', '/content/drive/MyDrive/Deepfake Dataset/DF Processed FaceOnly/Celeb_real_face_only/id1_0008.mp4', '/content/drive/MyDrive/Deepfake Dataset/DF Processed FaceOnly/Celeb_real_face_only/id58_0003.mp4', '/content/drive/MyDrive/Deepfake Dataset/DF Processed FaceOnly/Celeb_real_face_only/id19_0000.mp4', '/content/drive/MyDrive/Deepfake Dataset/DF Processed FaceOnly/Celeb_real_face_only/id20_0003.mp4', '/content/drive/MyDrive/Deepfake Dataset/DF Processed FaceOnly/Celeb_real_face_only/id11_0008.mp4', '/content/drive/MyDrive/Deepfake Dataset/DF Processed FaceOnly/Celeb_real_face_only/id2_0000.mp4', '/content/drive/MyDrive/Deepfake Dataset/DF Processed FaceOnly/Celeb_real_face_only/id55_0007.mp4', '/content/drive/MyDrive/Deepfake Dataset/DF Processed FaceOnly/Celeb_real_face_only/id13_0015.mp4', '/content/drive/MyDrive/Deepfake Dataset/DF Processed FaceOnly/Celeb_real_face_only/id4_0005.mp4', '/content/drive/MyDrive/Deepfake Dataset/DF Processed FaceOnly/Celeb_real_face_only/id49_0000.mp4', '/content/drive/MyDrive/Deepfake Dataset/DF Processed FaceOnly/Celeb_real_face_only/id4_0008.mp4', '/content/drive/MyDrive/Deepfake Dataset/DF Processed FaceOnly/Celeb_real_face_only/id31_0000.mp4', '/content/drive/MyDrive/Deepfake Dataset/DF Processed FaceOnly/Celeb_real_face_only/id54_0007.mp4', '/content/drive/MyDrive/Deepfake Dataset/DF Processed FaceOnly/Celeb_real_face_only/id5_0000.mp4', '/content/drive/MyDrive/Deepfake Dataset/DF Processed FaceOnly/Celeb_real_face_only/id58_0008.mp4', '/content/drive/MyDrive/Deepfake Dataset/DF Processed FaceOnly/Celeb_real_face_only/id29_0008.mp4', '/content/drive/MyDrive/Deepfake Dataset/DF Processed FaceOnly/Celeb_real_face_only/id7_0007.mp4', '/content/drive/MyDrive/Deepfake Dataset/DF Processed FaceOnly/Celeb_real_face_only/id55_0004.mp4', '/content/drive/MyDrive/Deepfake Dataset/DF Processed FaceOnly/Celeb_real_face_only/id45_0005.mp4', '/content/drive/MyDrive/Deepfake Dataset/DF Processed FaceOnly/Celeb_real_face_only/id6_0006.mp4', '/content/drive/MyDrive/Deepfake Dataset/DF Processed FaceOnly/Celeb_real_face_only/id50_0005.mp4', '/content/drive/MyDrive/Deepfake Dataset/DF Processed FaceOnly/Celeb_real_face_only/id10_0004.mp4', '/content/drive/MyDrive/Deepfake Dataset/DF Processed FaceOnly/Celeb_real_face_only/id57_0009.mp4', '/content/drive/MyDrive/Deepfake Dataset/DF Processed FaceOnly/Celeb_real_face_only/id43_0003.mp4', '/content/drive/MyDrive/Deepfake Dataset/DF Processed FaceOnly/Celeb_real_face_only/id25_0008.mp4', '/content/drive/MyDrive/Deepfake Dataset/DF Processed FaceOnly/Celeb_real_face_only/id22_0007.mp4', '/content/drive/MyDrive/Deepfake Dataset/DF Processed FaceOnly/Celeb_real_face_only/id11_0006.mp4', '/content/drive/MyDrive/Deepfake Dataset/DF Processed FaceOnly/Celeb_real_face_only/id9_0000.mp4', '/content/drive/MyDrive/Deepfake Dataset/DF Processed FaceOnly/Celeb_real_face_only/id0_0009.mp4', '/content/drive/MyDrive/Deepfake Dataset/DF Processed FaceOnly/Celeb_real_face_only/id23_0009.mp4', '/content/drive/MyDrive/Deepfake Dataset/DF Processed FaceOnly/Celeb_real_face_only/id36_0005.mp4', '/content/drive/MyDrive/Deepfake Dataset/DF Processed FaceOnly/Celeb_real_face_only/id42_0000.mp4', '/content/drive/MyDrive/Deepfake Dataset/DF Processed FaceOnly/Celeb_real_face_only/id41_0008.mp4', '/content/drive/MyDrive/Deepfake Dataset/DF Processed FaceOnly/Celeb_real_face_only/id52_0000.mp4', '/content/drive/MyDrive/Deepfake Dataset/DF Processed FaceOnly/Celeb_real_face_only/id19_0008.mp4', '/content/drive/MyDrive/Deepfake Dataset/DF Processed FaceOnly/Celeb_real_face_only/id25_0007.mp4', '/content/drive/MyDrive/Deepfake Dataset/DF Processed FaceOnly/Celeb_real_face_only/id47_0003.mp4', '/content/drive/MyDrive/Deepfake Dataset/DF Processed FaceOnly/Celeb_real_face_only/id17_0000.mp4', '/content/drive/MyDrive/Deepfake Dataset/DF Processed FaceOnly/Celeb_real_face_only/id46_0004.mp4', '/content/drive/MyDrive/Deepfake Dataset/DF Processed FaceOnly/Celeb_real_face_only/id5_0005.mp4', '/content/drive/MyDrive/Deepfake Dataset/DF Processed FaceOnly/Celeb_real_face_only/id11_0005.mp4', '/content/drive/MyDrive/Deepfake Dataset/DF Processed FaceOnly/Celeb_real_face_only/id4_0007.mp4', '/content/drive/MyDrive/Deepfake Dataset/DF Processed FaceOnly/Celeb_real_face_only/id46_0002.mp4', '/content/drive/MyDrive/Deepfake Dataset/DF Processed FaceOnly/Celeb_real_face_only/id53_0006.mp4', '/content/drive/MyDrive/Deepfake Dataset/DF Processed FaceOnly/Celeb_real_face_only/id11_0003.mp4', '/content/drive/MyDrive/Deepfake Dataset/DF Processed FaceOnly/Celeb_real_face_only/id56_0007.mp4', '/content/drive/MyDrive/Deepfake Dataset/DF Processed FaceOnly/Celeb_real_face_only/id50_0000.mp4', '/content/drive/MyDrive/Deepfake Dataset/DF Processed FaceOnly/Celeb_real_face_only/id38_0004.mp4', '/content/drive/MyDrive/Deepfake Dataset/DF Processed FaceOnly/Celeb_real_face_only/id17_0009.mp4', '/content/drive/MyDrive/Deepfake Dataset/DF Processed FaceOnly/Celeb_real_face_only/id41_0009.mp4', '/content/drive/MyDrive/Deepfake Dataset/DF Processed FaceOnly/Celeb_real_face_only/id51_0009.mp4', '/content/drive/MyDrive/Deepfake Dataset/DF Processed FaceOnly/Celeb_real_face_only/id56_0005.mp4']\n",
            "0\n"
          ]
        }
      ]
    },
    {
      "cell_type": "code",
      "metadata": {
        "id": "CEIygy8uDFXc",
        "colab": {
          "base_uri": "https://localhost:8080/"
        },
        "outputId": "f7621ae3-d842-48e2-df96-8c564ae158ba"
      },
      "source": [
        "#to load preprocessod video to memory\n",
        "import json\n",
        "import glob\n",
        "import numpy as np\n",
        "import cv2\n",
        "import copy\n",
        "import random\n",
        "video_files =  glob.glob('/content/drive/MyDrive/Deepfake Dataset/DF Processed FaceOnly/Celeb_fake_face_only/*.mp4')\n",
        "video_files += glob.glob('/content/drive/MyDrive/Deepfake Dataset/DF Processed FaceOnly/Celeb_real_face_only/*.mp4')\n",
        "random.shuffle(video_files)\n",
        "random.shuffle(video_files)\n",
        "frame_count = []\n",
        "for video_file in video_files:\n",
        "  cap = cv2.VideoCapture(video_file)\n",
        "  if(int(cap.get(cv2.CAP_PROP_FRAME_COUNT))<100):\n",
        "    video_files.remove(video_file)\n",
        "    continue\n",
        "  frame_count.append(int(cap.get(cv2.CAP_PROP_FRAME_COUNT)))\n",
        "print(\"frames are \" , frame_count)\n",
        "print(\"Total no of video: \" , len(frame_count))\n",
        "print('Average frame per video:',np.mean(frame_count))"
      ],
      "execution_count": null,
      "outputs": [
        {
          "output_type": "stream",
          "name": "stdout",
          "text": [
            "frames are  [148, 148, 148, 148, 148, 148, 148, 148, 148, 148, 148, 148, 148, 148, 148, 148, 148, 148, 148, 148, 148, 148, 148, 148, 148, 148, 148, 148, 148, 148, 148, 148, 148, 148, 148, 148, 148, 148, 148, 148, 148, 148, 148, 148, 148, 148, 148, 148, 147, 148, 148, 148, 148, 148, 148, 148, 148, 148, 148, 148, 148, 148, 148, 124, 148, 148, 148, 148, 148, 148, 148, 148, 148, 148, 148, 148, 148, 148, 148, 148, 148, 148, 148, 148, 148, 148, 148, 148, 148, 148, 148, 148, 148, 148, 148, 148, 148, 148, 148, 148, 148, 148, 148, 148, 148, 148, 148, 148, 148, 148, 148, 148, 148, 148, 148, 148, 148, 148, 148, 148, 148, 148, 148, 148, 148, 148, 148, 148, 148, 148, 148, 148, 148, 148, 148, 148, 148, 148, 148, 148, 148, 148, 148, 148, 148, 148, 148, 148, 148, 148, 148, 148, 148, 148, 148, 148, 148, 148, 148, 148, 148, 148, 148, 148, 148, 148, 148, 148, 148, 148, 148, 148, 148, 148, 148, 148, 148, 148, 148, 148, 148, 148, 148, 148, 148, 148, 148, 148, 148, 148, 148, 148, 148, 148, 148, 148, 148, 148, 148, 148, 148, 148, 148, 148, 148, 148, 148, 148, 148, 148, 148, 148, 148, 148, 148, 148, 148, 148, 148, 148, 148, 148, 148, 148, 148, 148, 148, 148, 148, 148, 148, 148, 148, 148, 148, 148, 148, 148, 148, 148, 148, 148, 148, 148, 148, 148, 148, 148, 148, 148, 148, 148, 148, 148, 148, 148, 148, 148, 148, 148, 148, 148, 148, 148, 148, 148, 148, 148, 148, 148, 148, 148, 148, 148, 148, 148, 148, 148, 148, 148, 148, 148, 148, 148, 148, 148, 148, 148, 148, 148, 148, 148, 148, 148, 148, 148, 148, 148, 148, 148, 148, 148, 148, 148, 148, 148, 148, 148, 148, 148, 148, 148, 148, 148, 148, 148, 148, 148, 148, 148, 148, 148, 148, 148, 148, 148, 148, 148, 148, 148, 148, 148, 148, 148, 148, 148, 148, 148, 148, 148, 148, 148, 148, 148, 148, 148, 148, 148, 148, 148, 148, 148, 148, 148, 148, 148, 148, 148, 148, 148, 148, 148, 148, 148, 148, 148, 148, 148, 148, 148, 148, 148, 148, 148, 148, 148, 148, 148, 148, 148, 148, 148, 148, 148, 148, 148, 148, 148, 148, 148, 148, 148, 148, 148, 148, 148, 148, 148, 148, 148, 148, 148, 148, 148, 148, 148, 148, 148, 148, 148, 148, 148, 148, 148, 148, 148, 148, 148, 148, 148, 148, 148, 148, 148, 148, 148, 148, 148, 148, 148, 148, 148, 148, 148, 148, 148, 148, 148, 148, 148, 148, 148, 148, 148, 148, 148, 148, 148, 148, 148, 148, 148, 148, 148, 148, 148, 148, 148, 148, 148, 148, 134, 148, 148, 148, 148, 148, 148, 148, 148, 148, 148, 148, 148, 148, 148, 148, 148, 148, 148, 148, 148, 148, 148, 148, 148, 148, 148, 148, 148, 148, 148, 148, 148, 148, 148, 148, 148, 148, 148, 148, 148, 148, 148, 148, 148, 148, 148, 148, 148, 148, 148, 148, 148, 148, 148, 148, 148, 148, 148, 148, 148, 148, 148, 148, 148, 148, 148, 148, 148, 148, 148, 148, 148, 148, 148, 148, 148, 148, 148, 148, 148, 148, 148, 148, 148, 148, 148, 148, 148, 148, 148, 148, 148, 148, 148, 148, 148, 148, 148, 148, 148, 148, 148, 148, 148, 148, 148, 148, 148, 148, 148, 148, 148, 148, 148, 148, 148, 148, 148, 148, 148, 148, 148, 148, 148, 148, 148, 148, 148, 148, 148, 148, 148, 148, 148, 148, 148, 148, 148, 148, 148, 148, 148, 148, 148, 148, 148, 148, 148, 148, 146, 148, 148, 148, 148, 148, 148, 148, 148, 148, 148, 148, 148, 148, 148, 148, 148, 148, 148, 148, 148, 148, 148, 148, 148, 148, 148, 148, 148, 148, 148, 148, 148, 148, 148, 148, 148, 148, 148, 148, 148, 148, 148, 148, 148, 148, 148, 148, 148, 148, 148, 148, 148, 148, 148, 148, 148, 148, 148, 148, 148, 148, 148, 148, 148, 148, 148, 148, 148, 148, 148, 148, 148, 148, 148, 148, 148, 148, 148, 148, 148, 148, 148, 148, 148, 148, 148, 148, 148, 148, 148, 148, 148, 148, 148, 148, 148, 148, 148, 148, 148, 148, 148, 148, 148, 148, 148, 148, 148, 148, 148, 148, 148, 148, 148, 148, 148, 148, 148, 148, 148, 148, 148, 148, 148, 148, 148, 148, 148, 148, 148, 148, 148, 148, 148, 148, 148, 148, 148, 148, 148, 148, 148, 148, 148, 148, 148, 148, 148, 148, 148, 148, 148, 148, 148, 148, 148, 148, 148, 148, 148, 148, 148, 148, 148, 148, 148, 148, 148, 148, 148, 148, 148, 148, 148, 148, 148, 148, 148, 148, 148, 148, 148, 148, 148, 148, 148, 148, 148, 148, 148, 148, 148, 148, 148, 148, 148, 148, 142, 148, 148, 148, 148, 148, 148, 148, 148, 148, 148, 148, 148, 148, 148, 148, 148, 148, 148, 148, 148, 148, 148, 148, 148, 148, 148, 148, 148, 148, 148, 148, 148, 148, 148, 148, 148, 148, 148, 148, 148, 148, 148, 148, 148, 148, 148, 148, 148, 148, 148, 148, 148, 148, 148, 148, 148, 148, 148, 148, 148, 148, 148, 148, 148, 148, 148, 148, 148, 148, 148, 148, 148, 148, 148, 148, 148, 148, 148, 148, 148, 148, 148, 148, 148, 148, 148, 148, 148, 148, 148, 148, 148, 148, 148, 148, 148, 148, 148, 148, 148, 148, 148, 148, 148, 148, 148, 148, 148, 148, 148, 148, 148, 148, 148, 148, 148, 148, 148, 148, 148, 148, 148, 148, 148, 148, 148, 148, 148, 148, 148, 148, 148, 148, 148, 148, 148, 148, 148, 148, 148, 148, 148, 148, 148, 148, 148, 148, 148, 148, 148, 148, 148, 148, 148, 148, 148, 148, 148, 148, 148, 148, 148, 148, 148, 148, 147, 148, 148, 148, 148, 148, 148, 148, 148, 148, 148, 148, 148, 148, 148, 148, 148, 148, 148, 148, 148, 148, 148, 148, 148, 148, 148, 148, 148, 148, 148, 148, 148, 148, 148, 148, 148, 148, 148, 148, 148, 148, 148, 148, 148, 148, 148, 148, 148, 148, 148, 148, 148, 148, 148, 148, 148, 148, 148, 148, 148, 148, 148, 148, 148, 148, 148, 148, 148, 148, 148, 148, 148, 148, 148, 148, 148, 148, 148, 148, 148, 148, 148, 148, 148, 148, 148, 148, 148, 148, 148, 148, 148, 148, 148, 148, 148, 148, 148, 148, 148, 148, 148, 148, 148, 148, 148, 148, 148, 148, 148, 148, 148, 148, 148, 148, 148, 148, 148, 148, 148, 148, 148, 148, 148, 148, 148, 148, 148, 148, 148, 148, 148, 148, 148, 148, 148, 148, 148, 148, 148, 148, 148, 148, 148, 148, 148, 148, 146, 148, 148, 148, 148, 148, 148, 148, 148, 148, 148, 148, 148, 148, 148, 148, 148, 148, 148, 148, 148, 148, 148, 148, 148, 148, 148, 148, 148, 148, 148, 148, 148, 148, 148, 148, 148, 148, 148, 148, 148, 148, 148, 148]\n",
            "Total no of video:  1167\n",
            "Average frame per video: 147.95715509854327\n"
          ]
        }
      ]
    },
    {
      "cell_type": "code",
      "metadata": {
        "id": "OqGXNkqhDKZU"
      },
      "source": [
        "# load the video name and labels from csv\n",
        "import torch\n",
        "import torchvision\n",
        "from torchvision import transforms\n",
        "from torch.utils.data import DataLoader\n",
        "from torch.utils.data.dataset import Dataset\n",
        "import os\n",
        "import numpy as np\n",
        "import cv2\n",
        "import matplotlib.pyplot as plt\n",
        "import face_recognition\n",
        "class video_dataset(Dataset):\n",
        "    def __init__(self,video_names,labels,sequence_length = 60,transform = None):\n",
        "        self.video_names = video_names\n",
        "        self.labels = labels\n",
        "        self.transform = transform\n",
        "        self.count = sequence_length\n",
        "    def __len__(self):\n",
        "        return len(self.video_names)\n",
        "    def __getitem__(self,idx):\n",
        "        video_path = self.video_names[idx]\n",
        "        frames = []\n",
        "        a = int(100/self.count)\n",
        "        first_frame = np.random.randint(0,a)\n",
        "        temp_video = video_path.split('/')[-1]\n",
        "        #print(temp_video)\n",
        "        label = self.labels.iloc[(labels.loc[labels[\"file\"] == temp_video].index.values[0]),1]\n",
        "        if(label == 'FAKE'):\n",
        "          label = 0\n",
        "        if(label == 'REAL'):\n",
        "          label = 1\n",
        "        for i,frame in enumerate(self.frame_extract(video_path)):\n",
        "          frames.append(self.transform(frame))\n",
        "          if(len(frames) == self.count):\n",
        "            break\n",
        "        frames = torch.stack(frames)\n",
        "        frames = frames[:self.count]\n",
        "        #print(\"length:\" , len(frames), \"label\",label)\n",
        "        return frames,label\n",
        "    def frame_extract(self,path):\n",
        "      vidObj = cv2.VideoCapture(path) \n",
        "      success = 1\n",
        "      while success:\n",
        "          success, image = vidObj.read()\n",
        "          if success:\n",
        "              yield image\n",
        "#plot the image\n",
        "def im_plot(tensor):\n",
        "    image = tensor.cpu().numpy().transpose(1,2,0)\n",
        "    b,g,r = cv2.split(image)\n",
        "    image = cv2.merge((r,g,b))\n",
        "    image = image*[0.22803, 0.22145, 0.216989] +  [0.43216, 0.394666, 0.37645]\n",
        "    image = image*255.0\n",
        "    plt.imshow(image.astype(int))\n",
        "    plt.show()"
      ],
      "execution_count": 102,
      "outputs": []
    },
    {
      "cell_type": "code",
      "metadata": {
        "id": "y0mShAIdfQ8b"
      },
      "source": [
        "#count the number of fake and real videos\n",
        "def number_of_real_and_fake_videos(data_list):\n",
        "  header_list = [\"file\",\"label\"]\n",
        "  lab = pd.read_csv('/content/drive/MyDrive/labels.csv',names=header_list)\n",
        "  fake = 0\n",
        "  real = 0\n",
        "  for i in data_list:\n",
        "    temp_video = i.split('/')[-1]\n",
        "    label = lab.iloc[(labels.loc[labels[\"file\"] == temp_video].index.values[0]),1]\n",
        "    if(label == 'FAKE'):\n",
        "      fake+=1\n",
        "    if(label == 'REAL'):\n",
        "      real+=1\n",
        "  return real,fake"
      ],
      "execution_count": 103,
      "outputs": []
    },
    {
      "cell_type": "code",
      "metadata": {
        "id": "sWMZn0YHDO2b",
        "colab": {
          "base_uri": "https://localhost:8080/"
        },
        "outputId": "b9221c33-3d04-434b-825d-4d85cec25355"
      },
      "source": [
        "import random\n",
        "import pandas as pd\n",
        "from torch.utils.data import Dataset, DataLoader\n",
        "import torchvision.transforms as transforms\n",
        "import cv2\n",
        "import os\n",
        "import torch\n",
        "\n",
        "real_video_dir = \"/content/drive/MyDrive/Deepfake Dataset/DF Processed FaceOnly/Celeb_real_face_only\"\n",
        "fake_video_dir = \"/content/drive/MyDrive/Deepfake Dataset/DF Processed FaceOnly/Celeb_fake_face_only\"\n",
        "real_video_files = os.listdir(real_video_dir)\n",
        "fake_video_files = os.listdir(fake_video_dir)\n",
        "\n",
        "train_real_videos = real_video_files[:int(0.8*len(real_video_files))]\n",
        "train_fake_videos = fake_video_files[:int(0.8*len(fake_video_files))]\n",
        "valid_real_videos = real_video_files[int(0.8*len(real_video_files)):]\n",
        "valid_fake_videos = fake_video_files[int(0.8*len(fake_video_files)):]\n",
        "\n",
        "train_videos = train_real_videos + train_fake_videos\n",
        "valid_videos = valid_real_videos + valid_fake_videos\n",
        "\n",
        "print(\"train:\", len(train_videos))\n",
        "print(\"test:\", len(valid_videos))\n",
        "\n",
        "def number_of_real_and_fake_videos(video_files, labels):\n",
        "    real_count = 0\n",
        "    fake_count = 0\n",
        "    for video_file in video_files:\n",
        "        label = labels[labels['file'] == video_file]['label'].iloc[0]\n",
        "        if label == 'REAL':\n",
        "            real_count += 1\n",
        "        elif label == 'FAKE':\n",
        "            fake_count += 1\n",
        "    return real_count, fake_count\n",
        "\n",
        "print(\"TRAIN:\", \"Real:\", number_of_real_and_fake_videos(train_videos, labels)[0], \"Fake:\", number_of_real_and_fake_videos(train_videos, labels)[1])\n",
        "print(\"TEST:\", \"Real:\", number_of_real_and_fake_videos(valid_videos, labels)[0], \"Fake:\", number_of_real_and_fake_videos(valid_videos, labels)[1])\n",
        "class VideoDataset(Dataset):\n",
        "    def __init__(self, data, labels, sequence_length, transform=None):\n",
        "        self.data = data\n",
        "        self.labels = labels\n",
        "        self.sequence_length = sequence_length\n",
        "        self.transform = transform\n",
        "    \n",
        "    def __len__(self):\n",
        "        return len(self.data)\n",
        "    \n",
        "    def __getitem__(self, idx):\n",
        "        video_path, label = self.data[idx][0], self.data[idx][1]\n",
        "        cap = cv2.VideoCapture(video_path)\n",
        "        frames = []\n",
        "        while True:\n",
        "            ret, frame = cap.read()\n",
        "            if ret:\n",
        "                frame = cv2.cvtColor(frame, cv2.COLOR_BGR2RGB)\n",
        "                frame = cv2.resize(frame, (224, 224))\n",
        "                frame = torch.from_numpy(frame).permute(2, 0, 1).float()\n",
        "                frames.append(frame)\n",
        "                if len(frames) == self.sequence_length:\n",
        "                    break\n",
        "            else:\n",
        "                break\n",
        "        cap.release()\n",
        "        if len(frames) == 0:\n",
        "            print(\"Empty frames list for video:\", video_path)\n",
        "            frames = [torch.zeros((3, 224, 224)) for i in range(self.sequence_length)] # add blank frames\n",
        "        else:\n",
        "            frames = torch.stack(frames)\n",
        "            if frames.shape[0] < self.sequence_length:\n",
        "                diff = self.sequence_length - frames.shape[0]\n",
        "                padding = torch.zeros((diff, 3, 224, 224))\n",
        "                frames = torch.cat((frames, padding))\n",
        "        if self.transform:\n",
        "            frames = [self.transform(frame) for frame in frames]\n",
        "        frames = torch.stack(frames)\n",
        "        return frames, label\n",
        "\n",
        "\n",
        "\n",
        "\n",
        "im_size = 112\n",
        "mean = [0.485, 0.456, 0.406]\n",
        "std = [0.229, 0.224, 0.225]\n",
        "\n",
        "train_transforms = transforms.Compose([\n",
        "    transforms.ToPILImage(),\n",
        "    transforms.Resize((im_size, im_size)),\n",
        "    transforms.ToTensor(),\n",
        "    transforms.Normalize(mean, std)\n",
        "])\n",
        "\n",
        "test_transforms = transforms.Compose([\n",
        "    transforms.ToPILImage(),\n",
        "    transforms.Resize((im_size, im_size)),\n",
        "    transforms.ToTensor(),\n",
        "    transforms.Normalize(mean, std)\n",
        "])\n",
        "\n",
        "train_data = VideoDataset(train_videos, labels, sequence_length=10, transform=train_transforms)\n",
        "val_data = VideoDataset(valid_videos, labels, sequence_length=10, transform=train_transforms)\n",
        "\n",
        "\n",
        "train_loader = DataLoader(train_data, batch_size=4, shuffle=True, num_workers=2)\n",
        "valid_loader = DataLoader(val_data, batch_size=4, shuffle=True, num_workers=2)\n",
        "\n",
        "frames, label = train_data[0]"
      ],
      "execution_count": 126,
      "outputs": [
        {
          "output_type": "stream",
          "name": "stdout",
          "text": [
            "train: 933\n",
            "test: 234\n",
            "TRAIN: Real: 470 Fake: 463\n",
            "TEST: Real: 118 Fake: 116\n",
            "Empty frames list for video: i\n"
          ]
        }
      ]
    },
    {
      "cell_type": "code",
      "metadata": {
        "id": "UtOXSqyBDRnD"
      },
      "source": [
        "#Model with feature visualization\n",
        "from torch import nn\n",
        "from torchvision import models\n",
        "class Model(nn.Module):\n",
        "    def __init__(self, num_classes,latent_dim= 2048, lstm_layers=1 , hidden_dim = 2048, bidirectional = False):\n",
        "        super(Model, self).__init__()\n",
        "        model = models.resnext50_32x4d(pretrained = True) #Residual Network CNN\n",
        "        self.model = nn.Sequential(*list(model.children())[:-2])\n",
        "        self.lstm = nn.LSTM(latent_dim,hidden_dim, lstm_layers,  bidirectional)\n",
        "        self.relu = nn.LeakyReLU()\n",
        "        self.dp = nn.Dropout(0.4)\n",
        "        self.linear1 = nn.Linear(2048,num_classes)\n",
        "        self.avgpool = nn.AdaptiveAvgPool2d(1)\n",
        "    def forward(self, x):\n",
        "        batch_size,seq_length, c, h, w = x.shape\n",
        "        x = x.view(batch_size * seq_length, c, h, w)\n",
        "        fmap = self.model(x)\n",
        "        x = self.avgpool(fmap)\n",
        "        x = x.view(batch_size,seq_length,2048)\n",
        "        x_lstm,_ = self.lstm(x,None)\n",
        "        return fmap,self.dp(self.linear1(torch.mean(x_lstm,dim = 1)))"
      ],
      "execution_count": 105,
      "outputs": []
    },
    {
      "cell_type": "code",
      "metadata": {
        "id": "WYNhn10tDV90",
        "colab": {
          "base_uri": "https://localhost:8080/"
        },
        "outputId": "548b7807-9c78-4c0e-eda8-de0b91eafd42"
      },
      "source": [
        "model = Model(2).cuda()\n",
        "a,b = model(torch.from_numpy(np.empty((1,20,3,112,112))).type(torch.cuda.FloatTensor))"
      ],
      "execution_count": 91,
      "outputs": [
        {
          "output_type": "stream",
          "name": "stderr",
          "text": [
            "/usr/local/lib/python3.10/dist-packages/torchvision/models/_utils.py:208: UserWarning: The parameter 'pretrained' is deprecated since 0.13 and may be removed in the future, please use 'weights' instead.\n",
            "  warnings.warn(\n",
            "/usr/local/lib/python3.10/dist-packages/torchvision/models/_utils.py:223: UserWarning: Arguments other than a weight enum or `None` for 'weights' are deprecated since 0.13 and may be removed in the future. The current behavior is equivalent to passing `weights=ResNeXt50_32X4D_Weights.IMAGENET1K_V1`. You can also use `weights=ResNeXt50_32X4D_Weights.DEFAULT` to get the most up-to-date weights.\n",
            "  warnings.warn(msg)\n"
          ]
        }
      ]
    },
    {
      "cell_type": "code",
      "metadata": {
        "id": "FKheLUWBDaNN"
      },
      "source": [
        "import torch\n",
        "from torch.autograd import Variable\n",
        "import time\n",
        "import os\n",
        "import sys\n",
        "import os\n",
        "def train_epoch(epoch, num_epochs, data_loader, model, criterion, optimizer):\n",
        "    model.train()\n",
        "    losses = AverageMeter()\n",
        "    accuracies = AverageMeter()\n",
        "    t = []\n",
        "    for i, (inputs, targets) in enumerate(data_loader):\n",
        "        if torch.cuda.is_available():\n",
        "            targets = targets.type(torch.cuda.LongTensor)\n",
        "            inputs = inputs.cuda()\n",
        "        _,outputs = model(inputs)\n",
        "        loss  = criterion(outputs,targets.type(torch.cuda.LongTensor))\n",
        "        acc = calculate_accuracy(outputs, targets.type(torch.cuda.LongTensor))\n",
        "        losses.update(loss.item(), inputs.size(0))\n",
        "        accuracies.update(acc, inputs.size(0))\n",
        "        optimizer.zero_grad()\n",
        "        loss.backward()\n",
        "        optimizer.step()\n",
        "        sys.stdout.write(\n",
        "                \"\\r[Epoch %d/%d] [Batch %d / %d] [Loss: %f, Acc: %.2f%%]\"\n",
        "                % (\n",
        "                    epoch,\n",
        "                    num_epochs,\n",
        "                    i,\n",
        "                    len(data_loader),\n",
        "                    losses.avg,\n",
        "                    accuracies.avg))\n",
        "    torch.save(model.state_dict(),'/content/checkpoint.pt')\n",
        "    return losses.avg,accuracies.avg\n",
        "def test(epoch,model, data_loader ,criterion):\n",
        "    print('Testing')\n",
        "    model.eval()\n",
        "    losses = AverageMeter()\n",
        "    accuracies = AverageMeter()\n",
        "    pred = []\n",
        "    true = []\n",
        "    count = 0\n",
        "    with torch.no_grad():\n",
        "        for i, (inputs, targets) in enumerate(data_loader):\n",
        "            if torch.cuda.is_available():\n",
        "                targets = targets.cuda().type(torch.cuda.FloatTensor)\n",
        "                inputs = inputs.cuda()\n",
        "            _,outputs = model(inputs)\n",
        "            loss = torch.mean(criterion(outputs, targets.type(torch.cuda.LongTensor)))\n",
        "            acc = calculate_accuracy(outputs,targets.type(torch.cuda.LongTensor))\n",
        "            _,p = torch.max(outputs,1) \n",
        "            true += (targets.type(torch.cuda.LongTensor)).detach().cpu().numpy().reshape(len(targets)).tolist()\n",
        "            pred += p.detach().cpu().numpy().reshape(len(p)).tolist()\n",
        "            losses.update(loss.item(), inputs.size(0))\n",
        "            accuracies.update(acc, inputs.size(0))\n",
        "            sys.stdout.write(\n",
        "                    \"\\r[Batch %d / %d]  [Loss: %f, Acc: %.2f%%]\"\n",
        "                    % (\n",
        "                        i,\n",
        "                        len(data_loader),\n",
        "                        losses.avg,\n",
        "                        accuracies.avg\n",
        "                        )\n",
        "                    )\n",
        "        print('\\nAccuracy {}'.format(accuracies.avg))\n",
        "    return true,pred,losses.avg,accuracies.avg\n",
        "class AverageMeter(object):\n",
        "    \"\"\"Computes and stores the average and current value\"\"\"\n",
        "    def __init__(self):\n",
        "        self.reset()\n",
        "    def reset(self):\n",
        "        self.val = 0\n",
        "        self.avg = 0\n",
        "        self.sum = 0\n",
        "        self.count = 0\n",
        "\n",
        "    def update(self, val, n=1):\n",
        "        self.val = val\n",
        "        self.sum += val * n\n",
        "        self.count += n\n",
        "        self.avg = self.sum / self.count\n",
        "def calculate_accuracy(outputs, targets):\n",
        "    batch_size = targets.size(0)\n",
        "\n",
        "    _, pred = outputs.topk(1, 1, True)\n",
        "    pred = pred.t()\n",
        "    correct = pred.eq(targets.view(1, -1))\n",
        "    n_correct_elems = correct.float().sum().item()\n",
        "    return 100* n_correct_elems / batch_size"
      ],
      "execution_count": 106,
      "outputs": []
    },
    {
      "cell_type": "code",
      "metadata": {
        "id": "b8WneBZNfysN"
      },
      "source": [
        "import seaborn as sn\n",
        "#Output confusion matrix\n",
        "def print_confusion_matrix(y_true, y_pred):\n",
        "    cm = confusion_matrix(y_true, y_pred)\n",
        "    print('True positive = ', cm[0][0])\n",
        "    print('False positive = ', cm[0][1])\n",
        "    print('False negative = ', cm[1][0])\n",
        "    print('True negative = ', cm[1][1])\n",
        "    print('\\n')\n",
        "    df_cm = pd.DataFrame(cm, range(2), range(2))\n",
        "    sn.set(font_scale=1.4) # for label size\n",
        "    sn.heatmap(df_cm, annot=True, annot_kws={\"size\": 16}) # font size\n",
        "    plt.ylabel('Actual label', size = 20)\n",
        "    plt.xlabel('Predicted label', size = 20)\n",
        "    plt.xticks(np.arange(2), ['Fake', 'Real'], size = 16)\n",
        "    plt.yticks(np.arange(2), ['Fake', 'Real'], size = 16)\n",
        "    plt.ylim([2, 0])\n",
        "    plt.show()\n",
        "    calculated_acc = (cm[0][0]+cm[1][1])/(cm[0][0]+cm[0][1]+cm[1][0]+ cm[1][1])\n",
        "    print(\"Calculated Accuracy\",calculated_acc*100)"
      ],
      "execution_count": 107,
      "outputs": []
    },
    {
      "cell_type": "code",
      "metadata": {
        "id": "fExJLjt2AtV9"
      },
      "source": [
        "def plot_loss(train_loss_avg,test_loss_avg,num_epochs):\n",
        "  loss_train = train_loss_avg\n",
        "  loss_val = test_loss_avg\n",
        "  print(num_epochs)\n",
        "  epochs = range(1,num_epochs+1)\n",
        "  plt.plot(epochs, loss_train, 'g', label='Training loss')\n",
        "  plt.plot(epochs, loss_val, 'b', label='validation loss')\n",
        "  plt.title('Training and Validation loss')\n",
        "  plt.xlabel('Epochs')\n",
        "  plt.ylabel('Loss')\n",
        "  plt.legend()\n",
        "  plt.show()\n",
        "def plot_accuracy(train_accuracy,test_accuracy,num_epochs):\n",
        "  loss_train = train_accuracy\n",
        "  loss_val = test_accuracy\n",
        "  epochs = range(1,num_epochs+1)\n",
        "  plt.plot(epochs, loss_train, 'g', label='Training accuracy')\n",
        "  plt.plot(epochs, loss_val, 'b', label='validation accuracy')\n",
        "  plt.title('Training and Validation accuracy')\n",
        "  plt.xlabel('Epochs')\n",
        "  plt.ylabel('Accuracy')\n",
        "  plt.legend()\n",
        "  plt.show()"
      ],
      "execution_count": 108,
      "outputs": []
    },
    {
      "cell_type": "code",
      "metadata": {
        "id": "rUe1XrYnDdit",
        "colab": {
          "base_uri": "https://localhost:8080/",
          "height": 235
        },
        "outputId": "f6611e21-2e2b-4a1b-b962-5cfa08021571"
      },
      "source": [
        "train_loader = DataLoader(train_data, batch_size=8, shuffle=True, num_workers=4)\n",
        "valid_loader = DataLoader(val_data, batch_size=8, shuffle=True, num_workers=4)\n",
        "\n",
        "for inputs, targets in train_loader:\n",
        "    if torch.cuda.is_available():\n",
        "        targets = targets[0].cuda()\n",
        "        inputs = inputs.cuda()\n",
        "    print(inputs.shape)\n",
        "    print(targets.shape)\n",
        "    break\n",
        "\n",
        "\n",
        "\n",
        "# learning rate\n",
        "lr = 1e-5  # 0.001\n",
        "# number of epochs\n",
        "num_epochs = 20\n",
        "\n",
        "optimizer = torch.optim.Adam(model.parameters(), lr=lr, weight_decay=1e-5)\n",
        "\n",
        "criterion = nn.CrossEntropyLoss().cuda()\n",
        "train_loss_avg = []\n",
        "train_accuracy = []\n",
        "test_loss_avg = []\n",
        "test_accuracy = []\n",
        "\n",
        "for epoch in range(1, num_epochs+1):\n",
        "    l, acc = train_epoch(epoch, num_epochs, train_loader, model, criterion, optimizer)\n",
        "    train_loss_avg.append(l)\n",
        "    train_accuracy.append(acc)\n",
        "\n",
        "    true, pred, tl, t_acc = test(epoch, model, valid_loader, criterion)\n",
        "    test_loss_avg.append(tl)\n",
        "    test_accuracy.append(t_acc)\n",
        "\n",
        "plot_loss(train_loss_avg, test_loss_avg, len(train_loss_avg))\n",
        "plot_accuracy(train_accuracy, test_accuracy, len(train_accuracy))\n",
        "\n",
        "try:\n",
        "    print(confusion_matrix(true, pred))\n",
        "except ValueError:\n",
        "    print(\"Cannot calculate confusion matrix as one of the classes is not present in the prediction.\")\n",
        "\n",
        "print(targets)\n",
        "print_confusion_matrix(true, pred)\n"
      ],
      "execution_count": 110,
      "outputs": [
        {
          "output_type": "error",
          "ename": "AttributeError",
          "evalue": "ignored",
          "traceback": [
            "\u001b[0;31m---------------------------------------------------------------------------\u001b[0m",
            "\u001b[0;31mAttributeError\u001b[0m                            Traceback (most recent call last)",
            "\u001b[0;32m<ipython-input-110-295b43ad6898>\u001b[0m in \u001b[0;36m<cell line: 4>\u001b[0;34m()\u001b[0m\n\u001b[1;32m      4\u001b[0m \u001b[0;32mfor\u001b[0m \u001b[0minputs\u001b[0m\u001b[0;34m,\u001b[0m \u001b[0mtargets\u001b[0m \u001b[0;32min\u001b[0m \u001b[0mtrain_loader\u001b[0m\u001b[0;34m:\u001b[0m\u001b[0;34m\u001b[0m\u001b[0;34m\u001b[0m\u001b[0m\n\u001b[1;32m      5\u001b[0m     \u001b[0;32mif\u001b[0m \u001b[0mtorch\u001b[0m\u001b[0;34m.\u001b[0m\u001b[0mcuda\u001b[0m\u001b[0;34m.\u001b[0m\u001b[0mis_available\u001b[0m\u001b[0;34m(\u001b[0m\u001b[0;34m)\u001b[0m\u001b[0;34m:\u001b[0m\u001b[0;34m\u001b[0m\u001b[0;34m\u001b[0m\u001b[0m\n\u001b[0;32m----> 6\u001b[0;31m         \u001b[0mtargets\u001b[0m \u001b[0;34m=\u001b[0m \u001b[0mtargets\u001b[0m\u001b[0;34m[\u001b[0m\u001b[0;36m0\u001b[0m\u001b[0;34m]\u001b[0m\u001b[0;34m.\u001b[0m\u001b[0mcuda\u001b[0m\u001b[0;34m(\u001b[0m\u001b[0;34m)\u001b[0m\u001b[0;34m\u001b[0m\u001b[0;34m\u001b[0m\u001b[0m\n\u001b[0m\u001b[1;32m      7\u001b[0m         \u001b[0minputs\u001b[0m \u001b[0;34m=\u001b[0m \u001b[0minputs\u001b[0m\u001b[0;34m.\u001b[0m\u001b[0mcuda\u001b[0m\u001b[0;34m(\u001b[0m\u001b[0;34m)\u001b[0m\u001b[0;34m\u001b[0m\u001b[0;34m\u001b[0m\u001b[0m\n\u001b[1;32m      8\u001b[0m     \u001b[0mprint\u001b[0m\u001b[0;34m(\u001b[0m\u001b[0minputs\u001b[0m\u001b[0;34m.\u001b[0m\u001b[0mshape\u001b[0m\u001b[0;34m)\u001b[0m\u001b[0;34m\u001b[0m\u001b[0;34m\u001b[0m\u001b[0m\n",
            "\u001b[0;31mAttributeError\u001b[0m: 'str' object has no attribute 'cuda'"
          ]
        }
      ]
    }
  ]
}