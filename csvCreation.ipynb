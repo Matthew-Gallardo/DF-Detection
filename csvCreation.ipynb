{
  "nbformat": 4,
  "nbformat_minor": 0,
  "metadata": {
    "colab": {
      "provenance": [],
      "mount_file_id": "11dNxwKh8fafut42BEk6e-J1x7CpQxEPc",
      "authorship_tag": "ABX9TyNJ+nb9tm3k0PAJfS/9faWm",
      "include_colab_link": true
    },
    "kernelspec": {
      "name": "python3",
      "display_name": "Python 3"
    },
    "language_info": {
      "name": "python"
    }
  },
  "cells": [
    {
      "cell_type": "markdown",
      "metadata": {
        "id": "view-in-github",
        "colab_type": "text"
      },
      "source": [
        "<a href=\"https://colab.research.google.com/github/Matthew-Gallardo/DF-Detection/blob/main/csvCreation.ipynb\" target=\"_parent\"><img src=\"https://colab.research.google.com/assets/colab-badge.svg\" alt=\"Open In Colab\"/></a>"
      ]
    },
    {
      "cell_type": "code",
      "execution_count": 6,
      "metadata": {
        "id": "h5GxiW3WcfE4"
      },
      "outputs": [],
      "source": [
        "from google.colab import drive\n",
        "import os"
      ]
    },
    {
      "cell_type": "code",
      "source": [
        "# mount Google Drive\n",
        "drive.mount('/content/drive')"
      ],
      "metadata": {
        "colab": {
          "base_uri": "https://localhost:8080/"
        },
        "id": "perNoCfCe4EA",
        "outputId": "c2a6dde7-54bb-443f-fedd-589ba15ec739"
      },
      "execution_count": 7,
      "outputs": [
        {
          "output_type": "stream",
          "name": "stdout",
          "text": [
            "Mounted at /content/drive\n"
          ]
        }
      ]
    },
    {
      "cell_type": "code",
      "source": [
        "import pandas as pd"
      ],
      "metadata": {
        "id": "AzWUUgjnhZeV"
      },
      "execution_count": 19,
      "outputs": []
    },
    {
      "cell_type": "code",
      "source": [
        "# define paths to real and fake videos\n",
        "real_videos_dir = '/content/drive/MyDrive/Deepfake Dataset/DF Processed FaceOnly/Celeb_real_face_only'\n",
        "fake_videos_dir = '/content/drive/MyDrive/Deepfake Dataset/DF Processed FaceOnly/Celeb_fake_face_only'\n",
        "\n",
        "# read video filenames\n",
        "real_videos = os.listdir(real_videos_dir)\n",
        "fake_videos = os.listdir(fake_videos_dir)\n",
        "\n",
        "# create a list of labels\n",
        "labels = []\n",
        "for video in real_videos:\n",
        "    labels.append((video, 'REAL'))\n",
        "for video in fake_videos:\n",
        "    labels.append((video, 'FAKE'))\n",
        "\n",
        "# create a pandas dataframe from the labels list\n",
        "df = pd.DataFrame(labels, columns=['video_filename', 'label'])\n",
        "\n",
        "# write dataframe to CSV file\n",
        "df.to_csv('/content/drive/MyDrive/labels.csv', index=False)\n"
      ],
      "metadata": {
        "id": "_29v_VwNfBsI"
      },
      "execution_count": 23,
      "outputs": []
    }
  ]
}